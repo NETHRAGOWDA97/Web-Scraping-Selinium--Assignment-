{
 "cells": [
  {
   "cell_type": "markdown",
   "metadata": {},
   "source": [
    "# Web Scraping Using Selenium"
   ]
  },
  {
   "cell_type": "code",
   "execution_count": 1,
   "metadata": {},
   "outputs": [
    {
     "name": "stdout",
     "output_type": "stream",
     "text": [
      "Requirement already satisfied: selenium in c:\\users\\nethravathi s\\anaconda3\\lib\\site-packages (3.141.0)\n",
      "Requirement already satisfied: urllib3 in c:\\users\\nethravathi s\\anaconda3\\lib\\site-packages (from selenium) (1.25.11)\n"
     ]
    }
   ],
   "source": [
    "!pip install selenium"
   ]
  },
  {
   "cell_type": "code",
   "execution_count": 2,
   "metadata": {},
   "outputs": [],
   "source": [
    "# Importing all the required libraries\n",
    "import selenium\n",
    "import pandas as pd\n",
    "from selenium import webdriver\n",
    "import time\n",
    "from selenium.webdriver.support.ui import WebDriverWait\n",
    "from selenium.common.exceptions import StaleElementReferenceException\n",
    "from selenium.common.exceptions import NoSuchElementException"
   ]
  },
  {
   "cell_type": "markdown",
   "metadata": {},
   "source": [
    "### Q1: Write a python program to scrape data for “Data Analyst” Job position in “Bangalore” location. You have to scrape the job-title, job-location, company_name,experience_required. You have to scrape first 10 jobs data."
   ]
  },
  {
   "cell_type": "code",
   "execution_count": 3,
   "metadata": {},
   "outputs": [],
   "source": [
    "# Connecting to the webdriver\n",
    "driver = webdriver.Chrome('chromedriver.exe')"
   ]
  },
  {
   "cell_type": "code",
   "execution_count": 4,
   "metadata": {},
   "outputs": [],
   "source": [
    "# Getting the webpage of mentioned url\n",
    "url = 'https://www.naukri.com/'\n",
    "driver.get(url)"
   ]
  },
  {
   "cell_type": "code",
   "execution_count": 5,
   "metadata": {},
   "outputs": [
    {
     "data": {
      "text/plain": [
       "<selenium.webdriver.remote.webelement.WebElement (session=\"4abfca05b45cd1d2056a3030d11bce9a\", element=\"c6edf9d0-cd37-42ee-8c3b-fd9933ada951\")>"
      ]
     },
     "execution_count": 5,
     "metadata": {},
     "output_type": "execute_result"
    }
   ],
   "source": [
    "# Searching the web element for job title\n",
    "search_job = driver.find_element_by_id('qsb-keyword-sugg')\n",
    "search_job"
   ]
  },
  {
   "cell_type": "code",
   "execution_count": 6,
   "metadata": {},
   "outputs": [],
   "source": [
    "# Entering “Data Analyst” in “Skill,Designations,Companies” field \n",
    "search_job.send_keys('Data Analyst')"
   ]
  },
  {
   "cell_type": "code",
   "execution_count": 7,
   "metadata": {},
   "outputs": [
    {
     "data": {
      "text/plain": [
       "<selenium.webdriver.remote.webelement.WebElement (session=\"4abfca05b45cd1d2056a3030d11bce9a\", element=\"59a885db-b6df-4f43-9c58-e3ef602314e6\")>"
      ]
     },
     "execution_count": 7,
     "metadata": {},
     "output_type": "execute_result"
    }
   ],
   "source": [
    "# Searching the web element for job location\n",
    "search_location = driver.find_element_by_id('qsb-location-sugg')\n",
    "search_location"
   ]
  },
  {
   "cell_type": "code",
   "execution_count": 8,
   "metadata": {},
   "outputs": [],
   "source": [
    "# Entering \"Bangalore\" in “enter the location” field\n",
    "search_location.send_keys('Bangalore')"
   ]
  },
  {
   "cell_type": "code",
   "execution_count": 9,
   "metadata": {},
   "outputs": [],
   "source": [
    "# Clicking on Search button\n",
    "search_btn = driver.find_element_by_xpath(\"/html/body/div[1]/div[3]/div[2]/section/div/form/div[3]/button\")\n",
    "search_btn.click()"
   ]
  },
  {
   "cell_type": "code",
   "execution_count": 10,
   "metadata": {},
   "outputs": [
    {
     "data": {
      "text/plain": [
       "['https://www.naukri.com/job-listings-data-analyst-rapido-bike-taxi-bangalore-bengaluru-2-to-4-years-290721501591?src=jobsearchDesk&sid=16287834287142920&xp=1&px=1',\n",
       " 'https://www.naukri.com/job-listings-process-data-analyst-hitachi-abb-power-grids-bangalore-bengaluru-2-to-6-years-280521501722?src=jobsearchDesk&sid=16287834287142920&xp=2&px=1',\n",
       " 'https://www.naukri.com/job-listings-data-analyst-innovsource-services-private-limited-bangalore-bengaluru-1-to-6-years-290721002866?src=jobsearchDesk&sid=16287834287142920&xp=3&px=1',\n",
       " 'https://www.naukri.com/job-listings-data-analyst-icf-next-bangalore-bengaluru-1-to-2-years-220721901048?src=jobsearchDesk&sid=16287834287142920&xp=4&px=1',\n",
       " 'https://www.naukri.com/job-listings-data-analyst-ii-customer-support-vimeo-technologies-private-limited-bangalore-bengaluru-1-to-5-years-210621500212?src=jobsearchDesk&sid=16287834287142920&xp=5&px=1',\n",
       " 'https://www.naukri.com/job-listings-product-data-analyst-sql-tableau-qlikview-connexions-bangalore-bengaluru-1-to-4-years-200721900022?src=jobsearchDesk&sid=16287834287142920&xp=6&px=1',\n",
       " 'https://www.naukri.com/job-listings-data-analyst-2-5-years-bangalore-teamware-solutions-a-division-of-quantum-leap-co-nsulting-private-ltd-bangalore-bengaluru-2-to-5-years-040821009756?src=jobsearchDesk&sid=16287834287142920&xp=7&px=1',\n",
       " 'https://www.naukri.com/job-listings-data-analyst-bion-bangalore-bengaluru-1-to-3-years-160621904774?src=jobsearchDesk&sid=16287834287142920&xp=8&px=1',\n",
       " 'https://www.naukri.com/job-listings-data-analyst-careerlabs-technologies-private-limited-bangalore-bengaluru-0-to-3-years-110821002383?src=jobsearchDesk&sid=16287834287142920&xp=9&px=1',\n",
       " 'https://www.naukri.com/job-listings-data-analyst-transportation-gojek-tech-bangalore-bengaluru-2-to-5-years-110821500323?src=jobsearchDesk&sid=16287834287142920&xp=10&px=1',\n",
       " 'https://www.naukri.com/job-listings-data-analyst-radial-hr-solutions-bangalore-bengaluru-2-to-5-years-150621008783?src=jobsearchDesk&sid=16287834287142920&xp=11&px=1',\n",
       " 'https://www.naukri.com/job-listings-supply-chain-data-analyst-hr-central-bangalore-bengaluru-2-to-7-years-250721000203?src=jobsearchDesk&sid=16287834287142920&xp=12&px=1',\n",
       " 'https://www.naukri.com/job-listings-data-analyst-ibm-india-pvt-limited-bangalore-bengaluru-0-to-1-years-160721908057?src=jobsearchDesk&sid=16287834287142920&xp=13&px=1',\n",
       " 'https://www.naukri.com/job-listings-data-analyst-pharmeasy-bangalore-bengaluru-1-to-3-years-210621500100?src=jobsearchDesk&sid=16287834287142920&xp=14&px=1',\n",
       " 'https://www.naukri.com/job-listings-immediate-hiring-for-data-analyst-bangalore-wissen-technology-bangalore-bengaluru-1-to-5-years-290721002996?src=jobsearchDesk&sid=16287834287142920&xp=15&px=1',\n",
       " 'https://www.naukri.com/job-listings-immediate-hiring-for-data-analyst-bangalore-wissen-technology-bangalore-bengaluru-1-to-5-years-290721002995?src=jobsearchDesk&sid=16287834287142920&xp=16&px=1',\n",
       " 'https://www.naukri.com/job-listings-data-analyst-power-bi-bangalore-talent-corner-hr-services-pvt-ltd-bangalore-bengaluru-2-to-5-years-040821005921?src=jobsearchDesk&sid=16287834287142920&xp=17&px=1',\n",
       " 'https://www.naukri.com/job-listings-data-analyst-xylem-resource-management-pvt-ltd-bangalore-bengaluru-2-to-5-years-090821005022?src=jobsearchDesk&sid=16287834287142920&xp=18&px=1',\n",
       " 'https://www.naukri.com/job-listings-it-data-analyst-bdo-rise-private-limited-bangalore-bengaluru-2-to-7-years-220721002054?src=jobsearchDesk&sid=16287834287142920&xp=19&px=1',\n",
       " 'https://www.naukri.com/job-listings-data-analyst-multi-recruit-bangalore-bengaluru-2-to-5-years-110821005096?src=jobsearchDesk&sid=16287834287142920&xp=20&px=1']"
      ]
     },
     "execution_count": 10,
     "metadata": {},
     "output_type": "execute_result"
    }
   ],
   "source": [
    "# Fetching all URLs\n",
    "url_tag = driver.find_elements_by_xpath(\"//a[@class='title fw500 ellipsis']\")\n",
    "\n",
    "urls=[]   #empty list\n",
    "for i in url_tag:\n",
    "    urls.append(i.get_attribute(\"href\"))\n",
    "urls"
   ]
  },
  {
   "cell_type": "code",
   "execution_count": 11,
   "metadata": {},
   "outputs": [
    {
     "data": {
      "text/plain": [
       "['Data Analyst',\n",
       " 'Process Data Analyst',\n",
       " 'Data Analyst',\n",
       " 'Data Analyst',\n",
       " 'Data Analyst II - Customer Support',\n",
       " 'Product/Data Analyst - SQL/Tableau/Qlikview',\n",
       " 'Data Analyst _ 2-5 Years _ Bangalore',\n",
       " 'Data Analyst',\n",
       " 'Data Analyst',\n",
       " 'Data Analyst - Transportation']"
      ]
     },
     "execution_count": 11,
     "metadata": {},
     "output_type": "execute_result"
    }
   ],
   "source": [
    "# Extracting the data for the first 10 jobs results\n",
    "# Scraping data for job titles\n",
    "job_titles = []   # empty list\n",
    "for i in urls:\n",
    "    driver.get(i)\n",
    "    time.sleep(5)\n",
    "    try:\n",
    "        title_tag = driver.find_element_by_xpath(\"//h1[@class='jd-header-title']\")\n",
    "        job_titles.append(title_tag.text)\n",
    "    except:\n",
    "        job_titles.append('-')\n",
    "job_titles = job_titles[:10]\n",
    "job_titles"
   ]
  },
  {
   "cell_type": "code",
   "execution_count": 12,
   "metadata": {},
   "outputs": [
    {
     "data": {
      "text/plain": [
       "['Bangalore/Bengaluru',\n",
       " 'Bangalore/Bengaluru',\n",
       " 'Bangalore/Bengaluru',\n",
       " 'Bangalore/Bengaluru',\n",
       " 'Bangalore/Bengaluru',\n",
       " 'Bangalore/Bengaluru',\n",
       " 'Bangalore/Bengaluru',\n",
       " 'Bangalore/Bengaluru',\n",
       " 'Bangalore/Bengaluru',\n",
       " 'Bangalore/Bengaluru']"
      ]
     },
     "execution_count": 12,
     "metadata": {},
     "output_type": "execute_result"
    }
   ],
   "source": [
    "# Scraping data for job location \n",
    "job_location = []   #empty list\n",
    "for i in urls:\n",
    "    driver.get(i)\n",
    "    time.sleep(5)\n",
    "    try:\n",
    "        location_tag = driver.find_element_by_xpath(\"//span[@class='location ']//a\")\n",
    "        job_location.append(location_tag.text)\n",
    "    except:\n",
    "            job_location.append('-')\n",
    "job_location = job_location[:10]\n",
    "job_location"
   ]
  },
  {
   "cell_type": "code",
   "execution_count": 13,
   "metadata": {},
   "outputs": [
    {
     "data": {
      "text/plain": [
       "['Rapido -bike taxi',\n",
       " 'Hitachi ABB Power Grids',\n",
       " 'Innovsource Services Private Limited',\n",
       " 'ICF Next',\n",
       " 'VIMEO TECHNOLOGIES PRIVATE LIMITED',\n",
       " 'Connexions',\n",
       " 'Teamware Solutions ( A division of Quantum Leap Co nsulting Private LTD).',\n",
       " 'Bion',\n",
       " 'CAREERLABS TECHNOLOGIES PRIVATE LIMITED',\n",
       " 'Gojek Tech']"
      ]
     },
     "execution_count": 13,
     "metadata": {},
     "output_type": "execute_result"
    }
   ],
   "source": [
    "# Scraping data for companies name\n",
    "company_name = []   #empty list\n",
    "for i in urls:\n",
    "    driver.get(i)\n",
    "    time.sleep(5)\n",
    "    try:\n",
    "        company_tag = driver.find_element_by_xpath(\"//a[@class='pad-rt-8']\")\n",
    "        company_name.append(company_tag.text)\n",
    "    except:\n",
    "        company_name.append('-')\n",
    "company_name = company_name[:10]\n",
    "company_name"
   ]
  },
  {
   "cell_type": "code",
   "execution_count": 14,
   "metadata": {},
   "outputs": [
    {
     "data": {
      "text/plain": [
       "['2 - 4 years',\n",
       " '2 - 6 years',\n",
       " '1 - 6 years',\n",
       " '1 - 2 years',\n",
       " '1 - 5 years',\n",
       " '1 - 4 years',\n",
       " '2 - 5 years',\n",
       " '1 - 3 years',\n",
       " '0 - 3 years',\n",
       " '2 - 5 years']"
      ]
     },
     "execution_count": 14,
     "metadata": {},
     "output_type": "execute_result"
    }
   ],
   "source": [
    "# Scraping data for experience required\n",
    "experience_req = []   #empty list\n",
    "for i in urls:\n",
    "    driver.get(i)\n",
    "    time.sleep(5)\n",
    "    try:\n",
    "        experience_tag = driver.find_element_by_xpath(\"//div[@class='exp']/span\")\n",
    "        experience_req.append(experience_tag.text)\n",
    "    except:\n",
    "        experience_req.append('-')\n",
    "experience_req = experience_req[:10]\n",
    "experience_req"
   ]
  },
  {
   "cell_type": "code",
   "execution_count": 15,
   "metadata": {},
   "outputs": [
    {
     "name": "stdout",
     "output_type": "stream",
     "text": [
      "10 10 10 10\n"
     ]
    }
   ],
   "source": [
    "# Checking length of the collected data\n",
    "print(len(job_titles),len(job_location),len(company_name),len(experience_req))"
   ]
  },
  {
   "cell_type": "code",
   "execution_count": 16,
   "metadata": {},
   "outputs": [
    {
     "data": {
      "text/html": [
       "<div>\n",
       "<style scoped>\n",
       "    .dataframe tbody tr th:only-of-type {\n",
       "        vertical-align: middle;\n",
       "    }\n",
       "\n",
       "    .dataframe tbody tr th {\n",
       "        vertical-align: top;\n",
       "    }\n",
       "\n",
       "    .dataframe thead th {\n",
       "        text-align: right;\n",
       "    }\n",
       "</style>\n",
       "<table border=\"1\" class=\"dataframe\">\n",
       "  <thead>\n",
       "    <tr style=\"text-align: right;\">\n",
       "      <th></th>\n",
       "      <th>Job Title</th>\n",
       "      <th>Job Location</th>\n",
       "      <th>Company Name</th>\n",
       "      <th>Experience Required</th>\n",
       "    </tr>\n",
       "  </thead>\n",
       "  <tbody>\n",
       "    <tr>\n",
       "      <th>0</th>\n",
       "      <td>Data Analyst</td>\n",
       "      <td>Bangalore/Bengaluru</td>\n",
       "      <td>Rapido -bike taxi</td>\n",
       "      <td>2 - 4 years</td>\n",
       "    </tr>\n",
       "    <tr>\n",
       "      <th>1</th>\n",
       "      <td>Process Data Analyst</td>\n",
       "      <td>Bangalore/Bengaluru</td>\n",
       "      <td>Hitachi ABB Power Grids</td>\n",
       "      <td>2 - 6 years</td>\n",
       "    </tr>\n",
       "    <tr>\n",
       "      <th>2</th>\n",
       "      <td>Data Analyst</td>\n",
       "      <td>Bangalore/Bengaluru</td>\n",
       "      <td>Innovsource Services Private Limited</td>\n",
       "      <td>1 - 6 years</td>\n",
       "    </tr>\n",
       "    <tr>\n",
       "      <th>3</th>\n",
       "      <td>Data Analyst</td>\n",
       "      <td>Bangalore/Bengaluru</td>\n",
       "      <td>ICF Next</td>\n",
       "      <td>1 - 2 years</td>\n",
       "    </tr>\n",
       "    <tr>\n",
       "      <th>4</th>\n",
       "      <td>Data Analyst II - Customer Support</td>\n",
       "      <td>Bangalore/Bengaluru</td>\n",
       "      <td>VIMEO TECHNOLOGIES PRIVATE LIMITED</td>\n",
       "      <td>1 - 5 years</td>\n",
       "    </tr>\n",
       "    <tr>\n",
       "      <th>5</th>\n",
       "      <td>Product/Data Analyst - SQL/Tableau/Qlikview</td>\n",
       "      <td>Bangalore/Bengaluru</td>\n",
       "      <td>Connexions</td>\n",
       "      <td>1 - 4 years</td>\n",
       "    </tr>\n",
       "    <tr>\n",
       "      <th>6</th>\n",
       "      <td>Data Analyst _ 2-5 Years _ Bangalore</td>\n",
       "      <td>Bangalore/Bengaluru</td>\n",
       "      <td>Teamware Solutions ( A division of Quantum Lea...</td>\n",
       "      <td>2 - 5 years</td>\n",
       "    </tr>\n",
       "    <tr>\n",
       "      <th>7</th>\n",
       "      <td>Data Analyst</td>\n",
       "      <td>Bangalore/Bengaluru</td>\n",
       "      <td>Bion</td>\n",
       "      <td>1 - 3 years</td>\n",
       "    </tr>\n",
       "    <tr>\n",
       "      <th>8</th>\n",
       "      <td>Data Analyst</td>\n",
       "      <td>Bangalore/Bengaluru</td>\n",
       "      <td>CAREERLABS TECHNOLOGIES PRIVATE LIMITED</td>\n",
       "      <td>0 - 3 years</td>\n",
       "    </tr>\n",
       "    <tr>\n",
       "      <th>9</th>\n",
       "      <td>Data Analyst - Transportation</td>\n",
       "      <td>Bangalore/Bengaluru</td>\n",
       "      <td>Gojek Tech</td>\n",
       "      <td>2 - 5 years</td>\n",
       "    </tr>\n",
       "  </tbody>\n",
       "</table>\n",
       "</div>"
      ],
      "text/plain": [
       "                                     Job Title         Job Location  \\\n",
       "0                                 Data Analyst  Bangalore/Bengaluru   \n",
       "1                         Process Data Analyst  Bangalore/Bengaluru   \n",
       "2                                 Data Analyst  Bangalore/Bengaluru   \n",
       "3                                 Data Analyst  Bangalore/Bengaluru   \n",
       "4           Data Analyst II - Customer Support  Bangalore/Bengaluru   \n",
       "5  Product/Data Analyst - SQL/Tableau/Qlikview  Bangalore/Bengaluru   \n",
       "6         Data Analyst _ 2-5 Years _ Bangalore  Bangalore/Bengaluru   \n",
       "7                                 Data Analyst  Bangalore/Bengaluru   \n",
       "8                                 Data Analyst  Bangalore/Bengaluru   \n",
       "9                Data Analyst - Transportation  Bangalore/Bengaluru   \n",
       "\n",
       "                                        Company Name Experience Required  \n",
       "0                                  Rapido -bike taxi         2 - 4 years  \n",
       "1                            Hitachi ABB Power Grids         2 - 6 years  \n",
       "2               Innovsource Services Private Limited         1 - 6 years  \n",
       "3                                           ICF Next         1 - 2 years  \n",
       "4                 VIMEO TECHNOLOGIES PRIVATE LIMITED         1 - 5 years  \n",
       "5                                         Connexions         1 - 4 years  \n",
       "6  Teamware Solutions ( A division of Quantum Lea...         2 - 5 years  \n",
       "7                                               Bion         1 - 3 years  \n",
       "8            CAREERLABS TECHNOLOGIES PRIVATE LIMITED         0 - 3 years  \n",
       "9                                         Gojek Tech         2 - 5 years  "
      ]
     },
     "execution_count": 16,
     "metadata": {},
     "output_type": "execute_result"
    }
   ],
   "source": [
    "# Creating the DataFrame for the scraped data\n",
    "\n",
    "jobs = pd.DataFrame({})\n",
    "jobs[\"Job Title\"] = job_titles\n",
    "jobs[\"Job Location\"] = job_location\n",
    "jobs[\"Company Name\"] = company_name\n",
    "jobs[\"Experience Required\"] = experience_req\n",
    "jobs"
   ]
  },
  {
   "cell_type": "markdown",
   "metadata": {},
   "source": [
    "### Q2: Write a python program to scrape data for “Data Scientist” Job position in “Bangalore” location. You have to scrape the job-title, job-location,company_name, full job-description. You have to scrape first 10 jobs data."
   ]
  },
  {
   "cell_type": "code",
   "execution_count": 97,
   "metadata": {},
   "outputs": [],
   "source": [
    "driver = webdriver.Chrome(\"chromedriver.exe\")"
   ]
  },
  {
   "cell_type": "code",
   "execution_count": 98,
   "metadata": {},
   "outputs": [],
   "source": [
    "# Getting the webpage of mentioned url\n",
    "url = 'https://www.naukri.com/'\n",
    "driver.get(url)"
   ]
  },
  {
   "cell_type": "code",
   "execution_count": 99,
   "metadata": {},
   "outputs": [
    {
     "data": {
      "text/plain": [
       "<selenium.webdriver.remote.webelement.WebElement (session=\"4d4c39db14b87b3da1aa314401764db3\", element=\"ce23afa0-16ce-449b-aa18-e947bcca6295\")>"
      ]
     },
     "execution_count": 99,
     "metadata": {},
     "output_type": "execute_result"
    }
   ],
   "source": [
    "# Searching the web element for job title\n",
    "search_job = driver.find_element_by_id('qsb-keyword-sugg')\n",
    "search_job"
   ]
  },
  {
   "cell_type": "code",
   "execution_count": 100,
   "metadata": {},
   "outputs": [],
   "source": [
    "# Entering “Data Scientist” in “Skill,Designations,Companies” field \n",
    "search_job.send_keys('Data Scientist')"
   ]
  },
  {
   "cell_type": "code",
   "execution_count": 101,
   "metadata": {},
   "outputs": [
    {
     "data": {
      "text/plain": [
       "<selenium.webdriver.remote.webelement.WebElement (session=\"4d4c39db14b87b3da1aa314401764db3\", element=\"140f621f-fe93-46d5-8a68-7a4bc18c3e77\")>"
      ]
     },
     "execution_count": 101,
     "metadata": {},
     "output_type": "execute_result"
    }
   ],
   "source": [
    "# Searching the web element for job location\n",
    "search_location = driver.find_element_by_id('qsb-location-sugg')\n",
    "search_location"
   ]
  },
  {
   "cell_type": "code",
   "execution_count": 102,
   "metadata": {},
   "outputs": [],
   "source": [
    "# Entering \"Bangalore\" in “enter the location” field\n",
    "search_location.send_keys('Bangalore')"
   ]
  },
  {
   "cell_type": "code",
   "execution_count": 103,
   "metadata": {},
   "outputs": [],
   "source": [
    "# Clicking on Search button\n",
    "search_btn = driver.find_element_by_xpath(\"/html/body/div[1]/div[3]/div[2]/section/div/form/div[3]/button\")\n",
    "search_btn.click()"
   ]
  },
  {
   "cell_type": "code",
   "execution_count": 104,
   "metadata": {},
   "outputs": [],
   "source": [
    "# Fetching all URLs\n",
    "url_tag = driver.find_elements_by_xpath(\"//a[@class='title fw500 ellipsis']\")\n",
    "\n",
    "urls=[]   #empty list\n",
    "for i in url_tag:\n",
    "    urls.append(i.get_attribute(\"href\"))"
   ]
  },
  {
   "cell_type": "code",
   "execution_count": 105,
   "metadata": {},
   "outputs": [
    {
     "data": {
      "text/plain": [
       "['Data Scientist- Senior Business Analyst/Lead Analyst',\n",
       " '-',\n",
       " 'Senior/ Lead Data Scientist',\n",
       " '-',\n",
       " '-',\n",
       " 'Senior Data Scientist (Analytics),',\n",
       " '-',\n",
       " 'Senior Data Scientist',\n",
       " 'Senior Data Scientist',\n",
       " 'Senior Data Scientist']"
      ]
     },
     "execution_count": 105,
     "metadata": {},
     "output_type": "execute_result"
    }
   ],
   "source": [
    "# Extracting the data for the first 10 jobs results\n",
    "# Scraping data for job titles\n",
    "job_titles = []   # empty list\n",
    "for i in urls:\n",
    "    driver.get(i)\n",
    "    time.sleep(5)\n",
    "    try:\n",
    "        title_tag = driver.find_element_by_xpath(\"//h1[@class='jd-header-title']\")\n",
    "        job_titles.append(title_tag.text)\n",
    "    except:\n",
    "        job_titles.append('-')\n",
    "job_titles = job_titles[:10]\n",
    "job_titles"
   ]
  },
  {
   "cell_type": "code",
   "execution_count": 21,
   "metadata": {},
   "outputs": [
    {
     "data": {
      "text/plain": [
       "['Gurgaon/Gurugram',\n",
       " '-',\n",
       " 'Bangalore/Bengaluru',\n",
       " '-',\n",
       " '-',\n",
       " 'Bangalore/Bengaluru',\n",
       " '-',\n",
       " 'Chennai',\n",
       " 'Bangalore/Bengaluru',\n",
       " 'Bangalore/Bengaluru']"
      ]
     },
     "execution_count": 21,
     "metadata": {},
     "output_type": "execute_result"
    }
   ],
   "source": [
    "# Scraping data for job location \n",
    "job_location = []   #empty list\n",
    "for i in urls:\n",
    "    driver.get(i)\n",
    "    time.sleep(5)\n",
    "    try:\n",
    "        location_tag = driver.find_element_by_xpath(\"//span[@class='location ']//a\")\n",
    "        job_location.append(location_tag.text)\n",
    "    except:\n",
    "            job_location.append('-')\n",
    "job_location = job_location[:10]\n",
    "job_location"
   ]
  },
  {
   "cell_type": "code",
   "execution_count": 22,
   "metadata": {},
   "outputs": [
    {
     "data": {
      "text/plain": [
       "['Evalueserve.com Pvt. Ltd',\n",
       " '-',\n",
       " 'Superior Group',\n",
       " '-',\n",
       " '-',\n",
       " 'Luxoft',\n",
       " '-',\n",
       " 'Tiger Analytics India LLP',\n",
       " 'Signify',\n",
       " 'Cognizer India Private Limited']"
      ]
     },
     "execution_count": 22,
     "metadata": {},
     "output_type": "execute_result"
    }
   ],
   "source": [
    "# Scraping data for companies name\n",
    "company_name = []   #empty list\n",
    "for i in urls:\n",
    "    driver.get(i)\n",
    "    time.sleep(5)\n",
    "    try:\n",
    "        company_tag = driver.find_element_by_xpath(\"//a[@class='pad-rt-8']\")\n",
    "        company_name.append(company_tag.text)\n",
    "    except:\n",
    "        company_name.append('-')\n",
    "company_name = company_name[:10]\n",
    "company_name"
   ]
  },
  {
   "cell_type": "code",
   "execution_count": 26,
   "metadata": {},
   "outputs": [],
   "source": [
    "# Scraping data for job discription\n",
    "job_description = []  #empty list\n",
    "for i in urls[:10]:\n",
    "    driver.get(i)\n",
    "    time.sleep(5)\n",
    "    try:\n",
    "        description_tag = driver.find_element_by_xpath(\"//section[@class='job-desc']\")\n",
    "        job_description.append(description_tag.text)\n",
    "    except:\n",
    "            job_description.append(\"-\")"
   ]
  },
  {
   "cell_type": "code",
   "execution_count": 27,
   "metadata": {},
   "outputs": [
    {
     "name": "stdout",
     "output_type": "stream",
     "text": [
      "10 10 10 10\n"
     ]
    }
   ],
   "source": [
    "# Checking length of the scraped data\n",
    "print(len(job_titles),len(job_location),len(company_name),len(job_description))"
   ]
  },
  {
   "cell_type": "code",
   "execution_count": 28,
   "metadata": {},
   "outputs": [
    {
     "data": {
      "text/html": [
       "<div>\n",
       "<style scoped>\n",
       "    .dataframe tbody tr th:only-of-type {\n",
       "        vertical-align: middle;\n",
       "    }\n",
       "\n",
       "    .dataframe tbody tr th {\n",
       "        vertical-align: top;\n",
       "    }\n",
       "\n",
       "    .dataframe thead th {\n",
       "        text-align: right;\n",
       "    }\n",
       "</style>\n",
       "<table border=\"1\" class=\"dataframe\">\n",
       "  <thead>\n",
       "    <tr style=\"text-align: right;\">\n",
       "      <th></th>\n",
       "      <th>Job Title</th>\n",
       "      <th>Job Location</th>\n",
       "      <th>company Name</th>\n",
       "      <th>Job Description</th>\n",
       "    </tr>\n",
       "  </thead>\n",
       "  <tbody>\n",
       "    <tr>\n",
       "      <th>0</th>\n",
       "      <td>Data Scientist- Senior Business Analyst/Lead A...</td>\n",
       "      <td>Gurgaon/Gurugram</td>\n",
       "      <td>Evalueserve.com Pvt. Ltd</td>\n",
       "      <td>Job description\\nJob Description\\nUnderstand a...</td>\n",
       "    </tr>\n",
       "    <tr>\n",
       "      <th>1</th>\n",
       "      <td>-</td>\n",
       "      <td>-</td>\n",
       "      <td>-</td>\n",
       "      <td>-</td>\n",
       "    </tr>\n",
       "    <tr>\n",
       "      <th>2</th>\n",
       "      <td>Senior/ Lead Data Scientist</td>\n",
       "      <td>Bangalore/Bengaluru</td>\n",
       "      <td>Superior Group</td>\n",
       "      <td>Job description\\nProvide advanced analytical c...</td>\n",
       "    </tr>\n",
       "    <tr>\n",
       "      <th>3</th>\n",
       "      <td>-</td>\n",
       "      <td>-</td>\n",
       "      <td>-</td>\n",
       "      <td>-</td>\n",
       "    </tr>\n",
       "    <tr>\n",
       "      <th>4</th>\n",
       "      <td>-</td>\n",
       "      <td>-</td>\n",
       "      <td>-</td>\n",
       "      <td>-</td>\n",
       "    </tr>\n",
       "    <tr>\n",
       "      <th>5</th>\n",
       "      <td>Senior Data Scientist (Analytics),</td>\n",
       "      <td>Bangalore/Bengaluru</td>\n",
       "      <td>Luxoft</td>\n",
       "      <td>Job description\\n\\n  Data and Analytics Propos...</td>\n",
       "    </tr>\n",
       "    <tr>\n",
       "      <th>6</th>\n",
       "      <td>-</td>\n",
       "      <td>-</td>\n",
       "      <td>-</td>\n",
       "      <td>-</td>\n",
       "    </tr>\n",
       "    <tr>\n",
       "      <th>7</th>\n",
       "      <td>Senior Data Scientist</td>\n",
       "      <td>Chennai</td>\n",
       "      <td>Tiger Analytics India LLP</td>\n",
       "      <td>Job description\\nRoles and Responsibilities\\nT...</td>\n",
       "    </tr>\n",
       "    <tr>\n",
       "      <th>8</th>\n",
       "      <td>Senior Data Scientist</td>\n",
       "      <td>Bangalore/Bengaluru</td>\n",
       "      <td>Signify</td>\n",
       "      <td>Job description\\nWhat you ll do\\nResearch, des...</td>\n",
       "    </tr>\n",
       "    <tr>\n",
       "      <th>9</th>\n",
       "      <td>Senior Data Scientist</td>\n",
       "      <td>Bangalore/Bengaluru</td>\n",
       "      <td>Cognizer India Private Limited</td>\n",
       "      <td>Job description\\n\\nRoles and Responsibilities\\...</td>\n",
       "    </tr>\n",
       "  </tbody>\n",
       "</table>\n",
       "</div>"
      ],
      "text/plain": [
       "                                           Job Title         Job Location  \\\n",
       "0  Data Scientist- Senior Business Analyst/Lead A...     Gurgaon/Gurugram   \n",
       "1                                                  -                    -   \n",
       "2                        Senior/ Lead Data Scientist  Bangalore/Bengaluru   \n",
       "3                                                  -                    -   \n",
       "4                                                  -                    -   \n",
       "5                 Senior Data Scientist (Analytics),  Bangalore/Bengaluru   \n",
       "6                                                  -                    -   \n",
       "7                              Senior Data Scientist              Chennai   \n",
       "8                              Senior Data Scientist  Bangalore/Bengaluru   \n",
       "9                              Senior Data Scientist  Bangalore/Bengaluru   \n",
       "\n",
       "                     company Name  \\\n",
       "0        Evalueserve.com Pvt. Ltd   \n",
       "1                               -   \n",
       "2                  Superior Group   \n",
       "3                               -   \n",
       "4                               -   \n",
       "5                          Luxoft   \n",
       "6                               -   \n",
       "7       Tiger Analytics India LLP   \n",
       "8                         Signify   \n",
       "9  Cognizer India Private Limited   \n",
       "\n",
       "                                     Job Description  \n",
       "0  Job description\\nJob Description\\nUnderstand a...  \n",
       "1                                                  -  \n",
       "2  Job description\\nProvide advanced analytical c...  \n",
       "3                                                  -  \n",
       "4                                                  -  \n",
       "5  Job description\\n\\n  Data and Analytics Propos...  \n",
       "6                                                  -  \n",
       "7  Job description\\nRoles and Responsibilities\\nT...  \n",
       "8  Job description\\nWhat you ll do\\nResearch, des...  \n",
       "9  Job description\\n\\nRoles and Responsibilities\\...  "
      ]
     },
     "execution_count": 28,
     "metadata": {},
     "output_type": "execute_result"
    }
   ],
   "source": [
    "# Creating DataFrame for scraped data\n",
    "jobs = pd.DataFrame({})\n",
    "jobs[\"Job Title\"] = job_titles\n",
    "jobs[\"Job Location\"] = job_location\n",
    "jobs[\"company Name\"] = company_name\n",
    "jobs[\"Job Description\"] = job_description\n",
    "jobs"
   ]
  },
  {
   "cell_type": "markdown",
   "metadata": {},
   "source": [
    "### Q3:Scraping the data using filters available on the webpage\n",
    "- **Use the location and salary filter.**\n",
    "- **Scrape data for “Data Scientist” designation for first 10 job results.**\n",
    "- **Scrape the job-title, job-location, company_name,experience_required.**"
   ]
  },
  {
   "cell_type": "code",
   "execution_count": 29,
   "metadata": {},
   "outputs": [],
   "source": [
    "# Connecting to the webdriver\n",
    "driver = webdriver.Chrome('chromedriver.exe')"
   ]
  },
  {
   "cell_type": "code",
   "execution_count": 30,
   "metadata": {},
   "outputs": [],
   "source": [
    "# Getting the webpage of mentioned url\n",
    "url = 'https://www.naukri.com/'\n",
    "driver.get(url)"
   ]
  },
  {
   "cell_type": "code",
   "execution_count": 31,
   "metadata": {},
   "outputs": [
    {
     "data": {
      "text/plain": [
       "<selenium.webdriver.remote.webelement.WebElement (session=\"d112399884b581e6c721e35220756569\", element=\"32b51f08-5cbe-48eb-ba83-17b6fdfde273\")>"
      ]
     },
     "execution_count": 31,
     "metadata": {},
     "output_type": "execute_result"
    }
   ],
   "source": [
    "# Searching the web element for job title\n",
    "search_job = driver.find_element_by_id('qsb-keyword-sugg')\n",
    "search_job"
   ]
  },
  {
   "cell_type": "code",
   "execution_count": 32,
   "metadata": {},
   "outputs": [],
   "source": [
    "# Entering “Data Scientist” in “Skill,Designations,Companies” field \n",
    "search_job.send_keys('Data Scientist')"
   ]
  },
  {
   "cell_type": "code",
   "execution_count": 33,
   "metadata": {},
   "outputs": [],
   "source": [
    "# Clicking on Search button\n",
    "search_btn = driver.find_element_by_xpath(\"//button[@class='btn']\")\n",
    "search_btn.click()"
   ]
  },
  {
   "cell_type": "code",
   "execution_count": 34,
   "metadata": {},
   "outputs": [],
   "source": [
    "# Applying location filter for the location \"Delhi/NCR\"\n",
    "location_filter = driver.find_element_by_xpath('/html/body/div[1]/div[3]/div[2]/section[1]/div[2]/div[3]/div[2]/div[3]/label/p/span[1]')\n",
    "location_filter.click()"
   ]
  },
  {
   "cell_type": "code",
   "execution_count": 35,
   "metadata": {},
   "outputs": [],
   "source": [
    "# Applying salary filter 3-6 lakhs\n",
    "salary_filter = driver.find_element_by_xpath('/html/body/div[1]/div[3]/div[2]/section[1]/div[2]/div[4]/div[2]/div[2]/label/p/span[1]')\n",
    "salary_filter.click()"
   ]
  },
  {
   "cell_type": "code",
   "execution_count": 36,
   "metadata": {},
   "outputs": [],
   "source": [
    "# Fetching all URLs\n",
    "url_tag = driver.find_elements_by_xpath(\"//a[@class='title fw500 ellipsis']\")\n",
    "\n",
    "urls=[]   #empty list\n",
    "for i in url_tag:\n",
    "    urls.append(i.get_attribute(\"href\"))"
   ]
  },
  {
   "cell_type": "code",
   "execution_count": 37,
   "metadata": {},
   "outputs": [
    {
     "data": {
      "text/plain": [
       "['Data Scientist Internship',\n",
       " 'Data Scientist',\n",
       " 'Immediate Openings For DATA Scientist with 6 To 7 yrs of Experience',\n",
       " 'Data Scientist',\n",
       " 'Data Scientist / Sr. Data Scientist',\n",
       " 'Only Fresher / Data Scientist / Data Analyst / Analytics - MNC Jobs',\n",
       " 'Senior Data Scientist - Noida',\n",
       " 'Data Scientist',\n",
       " 'Data Scientist',\n",
       " '-']"
      ]
     },
     "execution_count": 37,
     "metadata": {},
     "output_type": "execute_result"
    }
   ],
   "source": [
    "# Extracting the data for “Data Scientist” designation for first 10 job results.\n",
    "# Scraping data for job titles\n",
    "job_titles = []   # empty list\n",
    "for i in urls:\n",
    "    driver.get(i)\n",
    "    time.sleep(5)\n",
    "    try:\n",
    "        title_tag = driver.find_element_by_xpath(\"//h1[@class='jd-header-title']\")\n",
    "        job_titles.append(title_tag.text)\n",
    "    except:\n",
    "        job_titles.append('-')\n",
    "job_titles = job_titles[:10]\n",
    "job_titles"
   ]
  },
  {
   "cell_type": "code",
   "execution_count": 38,
   "metadata": {},
   "outputs": [
    {
     "data": {
      "text/plain": [
       "['New Delhi',\n",
       " 'Gurgaon/Gurugram',\n",
       " 'Kolkata',\n",
       " 'Noida',\n",
       " 'Noida',\n",
       " 'Noida',\n",
       " 'Noida',\n",
       " 'Gurgaon/Gurugram',\n",
       " 'Mumbai',\n",
       " '-']"
      ]
     },
     "execution_count": 38,
     "metadata": {},
     "output_type": "execute_result"
    }
   ],
   "source": [
    "# Scraping data for job location \n",
    "job_location = []   #empty list\n",
    "for i in urls:\n",
    "    driver.get(i)\n",
    "    time.sleep(5)\n",
    "    try:\n",
    "        location_tag = driver.find_element_by_xpath(\"//span[@class='location ']/a\")\n",
    "        job_location.append(location_tag.text)\n",
    "    except:\n",
    "            job_location.append('-')\n",
    "job_location = job_location[:10]\n",
    "job_location"
   ]
  },
  {
   "cell_type": "code",
   "execution_count": 39,
   "metadata": {},
   "outputs": [
    {
     "data": {
      "text/plain": [
       "['iHackers Inc',\n",
       " 'CBRE South Asia Pvt Ltd',\n",
       " 'Entune IT Consulting Private Limited',\n",
       " 'Agreeya',\n",
       " 'WEGARNER SOLUTIONS PRIVATE LIMITED',\n",
       " 'GABA Consultancy services',\n",
       " 'Optum Global Solutions (India) Private Limited',\n",
       " 'Decimal Technologies Pvt Ltd.',\n",
       " 'Fractal Analytics',\n",
       " '-']"
      ]
     },
     "execution_count": 39,
     "metadata": {},
     "output_type": "execute_result"
    }
   ],
   "source": [
    "# Scraping data for companies name\n",
    "company_name = []   #empty list\n",
    "for i in urls:\n",
    "    driver.get(i)\n",
    "    time.sleep(5)\n",
    "    try:\n",
    "        company_tag = driver.find_element_by_xpath(\"//a[@class='pad-rt-8']\")\n",
    "        company_name.append(company_tag.text)\n",
    "    except:\n",
    "        company_name.append('-')\n",
    "company_name = company_name[:10]\n",
    "company_name"
   ]
  },
  {
   "cell_type": "code",
   "execution_count": 40,
   "metadata": {},
   "outputs": [
    {
     "data": {
      "text/plain": [
       "['0 - 1 years',\n",
       " '2 - 4 years',\n",
       " '5 - 8 years',\n",
       " '3 - 6 years',\n",
       " '0 - 5 years',\n",
       " '0 years',\n",
       " '2 - 6 years',\n",
       " '1 - 3 years',\n",
       " '3 - 7 years',\n",
       " '-']"
      ]
     },
     "execution_count": 40,
     "metadata": {},
     "output_type": "execute_result"
    }
   ],
   "source": [
    "# Scraping data for experience required\n",
    "experience_req = []   #empty list\n",
    "for i in urls:\n",
    "    driver.get(i)\n",
    "    time.sleep(5)\n",
    "    try:\n",
    "        experience_tag = driver.find_element_by_xpath(\"//div[@class='exp']/span\")\n",
    "        experience_req.append(experience_tag.text)\n",
    "    except:\n",
    "        experience_req.append('-')\n",
    "experience_req = experience_req[:10]\n",
    "experience_req"
   ]
  },
  {
   "cell_type": "code",
   "execution_count": 41,
   "metadata": {},
   "outputs": [
    {
     "name": "stdout",
     "output_type": "stream",
     "text": [
      "10 10 10 10\n"
     ]
    }
   ],
   "source": [
    "# Checking the length of scraped data\n",
    "print(len(job_titles),len(job_location),len(company_name),len(experience_req))"
   ]
  },
  {
   "cell_type": "code",
   "execution_count": 42,
   "metadata": {},
   "outputs": [
    {
     "data": {
      "text/html": [
       "<div>\n",
       "<style scoped>\n",
       "    .dataframe tbody tr th:only-of-type {\n",
       "        vertical-align: middle;\n",
       "    }\n",
       "\n",
       "    .dataframe tbody tr th {\n",
       "        vertical-align: top;\n",
       "    }\n",
       "\n",
       "    .dataframe thead th {\n",
       "        text-align: right;\n",
       "    }\n",
       "</style>\n",
       "<table border=\"1\" class=\"dataframe\">\n",
       "  <thead>\n",
       "    <tr style=\"text-align: right;\">\n",
       "      <th></th>\n",
       "      <th>Job Title</th>\n",
       "      <th>Job Location</th>\n",
       "      <th>company Name</th>\n",
       "      <th>Experience Required</th>\n",
       "    </tr>\n",
       "  </thead>\n",
       "  <tbody>\n",
       "    <tr>\n",
       "      <th>0</th>\n",
       "      <td>Data Scientist Internship</td>\n",
       "      <td>New Delhi</td>\n",
       "      <td>iHackers Inc</td>\n",
       "      <td>0 - 1 years</td>\n",
       "    </tr>\n",
       "    <tr>\n",
       "      <th>1</th>\n",
       "      <td>Data Scientist</td>\n",
       "      <td>Gurgaon/Gurugram</td>\n",
       "      <td>CBRE South Asia Pvt Ltd</td>\n",
       "      <td>2 - 4 years</td>\n",
       "    </tr>\n",
       "    <tr>\n",
       "      <th>2</th>\n",
       "      <td>Immediate Openings For DATA Scientist with 6 T...</td>\n",
       "      <td>Kolkata</td>\n",
       "      <td>Entune IT Consulting Private Limited</td>\n",
       "      <td>5 - 8 years</td>\n",
       "    </tr>\n",
       "    <tr>\n",
       "      <th>3</th>\n",
       "      <td>Data Scientist</td>\n",
       "      <td>Noida</td>\n",
       "      <td>Agreeya</td>\n",
       "      <td>3 - 6 years</td>\n",
       "    </tr>\n",
       "    <tr>\n",
       "      <th>4</th>\n",
       "      <td>Data Scientist / Sr. Data Scientist</td>\n",
       "      <td>Noida</td>\n",
       "      <td>WEGARNER SOLUTIONS PRIVATE LIMITED</td>\n",
       "      <td>0 - 5 years</td>\n",
       "    </tr>\n",
       "    <tr>\n",
       "      <th>5</th>\n",
       "      <td>Only Fresher / Data Scientist / Data Analyst /...</td>\n",
       "      <td>Noida</td>\n",
       "      <td>GABA Consultancy services</td>\n",
       "      <td>0 years</td>\n",
       "    </tr>\n",
       "    <tr>\n",
       "      <th>6</th>\n",
       "      <td>Senior Data Scientist - Noida</td>\n",
       "      <td>Noida</td>\n",
       "      <td>Optum Global Solutions (India) Private Limited</td>\n",
       "      <td>2 - 6 years</td>\n",
       "    </tr>\n",
       "    <tr>\n",
       "      <th>7</th>\n",
       "      <td>Data Scientist</td>\n",
       "      <td>Gurgaon/Gurugram</td>\n",
       "      <td>Decimal Technologies Pvt Ltd.</td>\n",
       "      <td>1 - 3 years</td>\n",
       "    </tr>\n",
       "    <tr>\n",
       "      <th>8</th>\n",
       "      <td>Data Scientist</td>\n",
       "      <td>Mumbai</td>\n",
       "      <td>Fractal Analytics</td>\n",
       "      <td>3 - 7 years</td>\n",
       "    </tr>\n",
       "    <tr>\n",
       "      <th>9</th>\n",
       "      <td>-</td>\n",
       "      <td>-</td>\n",
       "      <td>-</td>\n",
       "      <td>-</td>\n",
       "    </tr>\n",
       "  </tbody>\n",
       "</table>\n",
       "</div>"
      ],
      "text/plain": [
       "                                           Job Title      Job Location  \\\n",
       "0                          Data Scientist Internship         New Delhi   \n",
       "1                                     Data Scientist  Gurgaon/Gurugram   \n",
       "2  Immediate Openings For DATA Scientist with 6 T...           Kolkata   \n",
       "3                                     Data Scientist             Noida   \n",
       "4                Data Scientist / Sr. Data Scientist             Noida   \n",
       "5  Only Fresher / Data Scientist / Data Analyst /...             Noida   \n",
       "6                      Senior Data Scientist - Noida             Noida   \n",
       "7                                     Data Scientist  Gurgaon/Gurugram   \n",
       "8                                     Data Scientist            Mumbai   \n",
       "9                                                  -                 -   \n",
       "\n",
       "                                     company Name Experience Required  \n",
       "0                                    iHackers Inc         0 - 1 years  \n",
       "1                         CBRE South Asia Pvt Ltd         2 - 4 years  \n",
       "2            Entune IT Consulting Private Limited         5 - 8 years  \n",
       "3                                         Agreeya         3 - 6 years  \n",
       "4              WEGARNER SOLUTIONS PRIVATE LIMITED         0 - 5 years  \n",
       "5                       GABA Consultancy services             0 years  \n",
       "6  Optum Global Solutions (India) Private Limited         2 - 6 years  \n",
       "7                   Decimal Technologies Pvt Ltd.         1 - 3 years  \n",
       "8                               Fractal Analytics         3 - 7 years  \n",
       "9                                               -                   -  "
      ]
     },
     "execution_count": 42,
     "metadata": {},
     "output_type": "execute_result"
    }
   ],
   "source": [
    "# Creating DataFrame for the scraped data\n",
    "jobs = pd.DataFrame({})\n",
    "jobs[\"Job Title\"] = job_titles\n",
    "jobs[\"Job Location\"] = job_location\n",
    "jobs[\"company Name\"] = company_name\n",
    "jobs[\"Experience Required\"] = experience_req\n",
    "jobs"
   ]
  },
  {
   "cell_type": "markdown",
   "metadata": {},
   "source": [
    "### Q4: Write a python program to scrape data for first 10 job results for Data scientist Designation in Noida location. You have to scrape company_name, No. of days ago when job was posted, Rating of the company."
   ]
  },
  {
   "cell_type": "code",
   "execution_count": 53,
   "metadata": {},
   "outputs": [],
   "source": [
    "# Connecting to the webdriver\n",
    "driver = webdriver.Chrome('chromedriver.exe')"
   ]
  },
  {
   "cell_type": "code",
   "execution_count": 35,
   "metadata": {},
   "outputs": [],
   "source": [
    "# Getting the webpage of mentioned url\n",
    "url = 'https://www.glassdoor.co.in/index.htm'\n",
    "driver.get(url)"
   ]
  },
  {
   "cell_type": "code",
   "execution_count": 36,
   "metadata": {},
   "outputs": [
    {
     "data": {
      "text/plain": [
       "<selenium.webdriver.remote.webelement.WebElement (session=\"5472d449150eef19d255ab17b0b5ce30\", element=\"95dc920e-f940-4399-a0c5-067a7a41261f\")>"
      ]
     },
     "execution_count": 36,
     "metadata": {},
     "output_type": "execute_result"
    }
   ],
   "source": [
    "#Searching web elemnt for job title\n",
    "search_job = driver.find_element_by_id('scKeyword')\n",
    "search_job"
   ]
  },
  {
   "cell_type": "code",
   "execution_count": 37,
   "metadata": {},
   "outputs": [],
   "source": [
    "# Entering “Data Scientist” in “Job Title,Keyword,Company” field\n",
    "search_job.send_keys('Data Scientist')"
   ]
  },
  {
   "cell_type": "code",
   "execution_count": 38,
   "metadata": {},
   "outputs": [
    {
     "data": {
      "text/plain": [
       "<selenium.webdriver.remote.webelement.WebElement (session=\"5472d449150eef19d255ab17b0b5ce30\", element=\"71a970a1-ed53-4030-9e6e-1cc5a8be114f\")>"
      ]
     },
     "execution_count": 38,
     "metadata": {},
     "output_type": "execute_result"
    }
   ],
   "source": [
    "# Searching the web element for job location\n",
    "search_location = driver.find_element_by_id('scLocation')\n",
    "search_location"
   ]
  },
  {
   "cell_type": "code",
   "execution_count": 41,
   "metadata": {},
   "outputs": [],
   "source": [
    "# Entering “Noida” in “location” field\n",
    "search_location.send_keys('Noida')"
   ]
  },
  {
   "cell_type": "code",
   "execution_count": 42,
   "metadata": {},
   "outputs": [],
   "source": [
    "# Clicking on Search button\n",
    "search_btn = driver.find_element_by_xpath(\"//button[@class='pl-0 pr-xsm SearchStyles__searchKeywordSubmit']\")\n",
    "search_btn.click()"
   ]
  },
  {
   "cell_type": "code",
   "execution_count": 43,
   "metadata": {},
   "outputs": [
    {
     "data": {
      "text/plain": [
       "['Liberin Technologies Private Limited',\n",
       " 'Pixel Vision',\n",
       " 'Newgen Software',\n",
       " 'Crowe',\n",
       " 'Salasar New Age Technologies',\n",
       " 'NatWest Group',\n",
       " 'Ericsson',\n",
       " 'Techlive',\n",
       " 'Biz2Credit Inc',\n",
       " 'Uncodemy']"
      ]
     },
     "execution_count": 43,
     "metadata": {},
     "output_type": "execute_result"
    }
   ],
   "source": [
    "# Scraping data for first 10 jobs\n",
    "\n",
    "# Scraping data for company name\n",
    "company_tag = driver.find_elements_by_xpath(\"//div[@class='d-flex justify-content-between align-items-start']\")\n",
    "\n",
    "company_name = []   #empty list\n",
    "for i in company_tag:\n",
    "    company_name.append(i.text)\n",
    "company_name = company_name[:10]\n",
    "company_name"
   ]
  },
  {
   "cell_type": "code",
   "execution_count": 46,
   "metadata": {},
   "outputs": [
    {
     "data": {
      "text/plain": [
       "['9d', '19d', '20d', '30d+', '30d+', '2d', '4d', '30d+', '30d+', '24h']"
      ]
     },
     "execution_count": 46,
     "metadata": {},
     "output_type": "execute_result"
    }
   ],
   "source": [
    "# Scraping data for No of days ago when job was posted\n",
    "job_posted = driver.find_elements_by_xpath(\"//div[@class='d-flex align-items-end pl-std css-mi55ob']\")\n",
    "\n",
    "No_of_Days = []  #empty list\n",
    "for i in job_posted:\n",
    "    No_of_Days.append(i.text)\n",
    "No_of_Days = No_of_Days[:10]\n",
    "No_of_Days"
   ]
  },
  {
   "cell_type": "code",
   "execution_count": 48,
   "metadata": {},
   "outputs": [
    {
     "data": {
      "text/plain": [
       "['3.3', '3.8', '3.9', '4.1', '5.0', '4.1', '3.8', '3.8', '3.1', '3.7']"
      ]
     },
     "execution_count": 48,
     "metadata": {},
     "output_type": "execute_result"
    }
   ],
   "source": [
    "# Scraping data for rating of the company\n",
    "company_rating = driver.find_elements_by_xpath(\"//span[@class='css-19pjha7 e1cjmv6j1']\")\n",
    "\n",
    "Ratings = []  #empty list\n",
    "for i in company_rating:\n",
    "    Ratings.append(i.text)\n",
    "Ratings = Ratings[:10]\n",
    "Ratings"
   ]
  },
  {
   "cell_type": "code",
   "execution_count": 50,
   "metadata": {},
   "outputs": [
    {
     "name": "stdout",
     "output_type": "stream",
     "text": [
      "10 10 10\n"
     ]
    }
   ],
   "source": [
    "# Checking length of scraped data\n",
    "print(len(company_name),len(No_of_Days),len(Ratings))"
   ]
  },
  {
   "cell_type": "code",
   "execution_count": 53,
   "metadata": {},
   "outputs": [
    {
     "data": {
      "text/html": [
       "<div>\n",
       "<style scoped>\n",
       "    .dataframe tbody tr th:only-of-type {\n",
       "        vertical-align: middle;\n",
       "    }\n",
       "\n",
       "    .dataframe tbody tr th {\n",
       "        vertical-align: top;\n",
       "    }\n",
       "\n",
       "    .dataframe thead th {\n",
       "        text-align: right;\n",
       "    }\n",
       "</style>\n",
       "<table border=\"1\" class=\"dataframe\">\n",
       "  <thead>\n",
       "    <tr style=\"text-align: right;\">\n",
       "      <th></th>\n",
       "      <th>Company Name</th>\n",
       "      <th>No of Days Ago</th>\n",
       "      <th>Company Ratings</th>\n",
       "    </tr>\n",
       "  </thead>\n",
       "  <tbody>\n",
       "    <tr>\n",
       "      <th>0</th>\n",
       "      <td>Liberin Technologies Private Limited</td>\n",
       "      <td>9d</td>\n",
       "      <td>3.3</td>\n",
       "    </tr>\n",
       "    <tr>\n",
       "      <th>1</th>\n",
       "      <td>Pixel Vision</td>\n",
       "      <td>19d</td>\n",
       "      <td>3.8</td>\n",
       "    </tr>\n",
       "    <tr>\n",
       "      <th>2</th>\n",
       "      <td>Newgen Software</td>\n",
       "      <td>20d</td>\n",
       "      <td>3.9</td>\n",
       "    </tr>\n",
       "    <tr>\n",
       "      <th>3</th>\n",
       "      <td>Crowe</td>\n",
       "      <td>30d+</td>\n",
       "      <td>4.1</td>\n",
       "    </tr>\n",
       "    <tr>\n",
       "      <th>4</th>\n",
       "      <td>Salasar New Age Technologies</td>\n",
       "      <td>30d+</td>\n",
       "      <td>5.0</td>\n",
       "    </tr>\n",
       "    <tr>\n",
       "      <th>5</th>\n",
       "      <td>NatWest Group</td>\n",
       "      <td>2d</td>\n",
       "      <td>4.1</td>\n",
       "    </tr>\n",
       "    <tr>\n",
       "      <th>6</th>\n",
       "      <td>Ericsson</td>\n",
       "      <td>4d</td>\n",
       "      <td>3.8</td>\n",
       "    </tr>\n",
       "    <tr>\n",
       "      <th>7</th>\n",
       "      <td>Techlive</td>\n",
       "      <td>30d+</td>\n",
       "      <td>3.8</td>\n",
       "    </tr>\n",
       "    <tr>\n",
       "      <th>8</th>\n",
       "      <td>Biz2Credit Inc</td>\n",
       "      <td>30d+</td>\n",
       "      <td>3.1</td>\n",
       "    </tr>\n",
       "    <tr>\n",
       "      <th>9</th>\n",
       "      <td>Uncodemy</td>\n",
       "      <td>24h</td>\n",
       "      <td>3.7</td>\n",
       "    </tr>\n",
       "  </tbody>\n",
       "</table>\n",
       "</div>"
      ],
      "text/plain": [
       "                           Company Name No of Days Ago Company Ratings\n",
       "0  Liberin Technologies Private Limited             9d             3.3\n",
       "1                          Pixel Vision            19d             3.8\n",
       "2                       Newgen Software            20d             3.9\n",
       "3                                 Crowe           30d+             4.1\n",
       "4          Salasar New Age Technologies           30d+             5.0\n",
       "5                         NatWest Group             2d             4.1\n",
       "6                              Ericsson             4d             3.8\n",
       "7                              Techlive           30d+             3.8\n",
       "8                        Biz2Credit Inc           30d+             3.1\n",
       "9                              Uncodemy            24h             3.7"
      ]
     },
     "execution_count": 53,
     "metadata": {},
     "output_type": "execute_result"
    }
   ],
   "source": [
    "# Creating DataFrame for scraped data\n",
    "glass_door_jobs = pd.DataFrame({})\n",
    "glass_door_jobs[\"Company Name\"] = company_name\n",
    "glass_door_jobs[\"No of Days Ago\"] = No_of_Days\n",
    "glass_door_jobs[\"Company Ratings\"] = Ratings\n",
    "glass_door_jobs"
   ]
  },
  {
   "cell_type": "markdown",
   "metadata": {},
   "source": [
    "### Q5:Write a python program to scrape the salary data for Data Scientist designation in Noida location.\n",
    "\n",
    "### You have to scrape Company name, Number of salaries, Average salary, Minsalary, Max Salary and ratings of the company"
   ]
  },
  {
   "cell_type": "code",
   "execution_count": 17,
   "metadata": {},
   "outputs": [],
   "source": [
    "# Connecting to the webdriver\n",
    "driver = webdriver.Chrome('chromedriver.exe')"
   ]
  },
  {
   "cell_type": "code",
   "execution_count": 18,
   "metadata": {},
   "outputs": [],
   "source": [
    "# Getting the webpage of mentioned url\n",
    "url = 'https://www.glassdoor.co.in/Salaries/index.htm'\n",
    "driver.get(url)"
   ]
  },
  {
   "cell_type": "code",
   "execution_count": 19,
   "metadata": {},
   "outputs": [
    {
     "data": {
      "text/plain": [
       "<selenium.webdriver.remote.webelement.WebElement (session=\"180a114d09bb9d193308d1a8342ab92b\", element=\"aed00610-15c9-4dc5-ad4b-f0c7c9668509\")>"
      ]
     },
     "execution_count": 19,
     "metadata": {},
     "output_type": "execute_result"
    }
   ],
   "source": [
    "#Searching web elemnt for job title\n",
    "search_job = driver.find_element_by_id('scKeyword')\n",
    "search_job"
   ]
  },
  {
   "cell_type": "code",
   "execution_count": 20,
   "metadata": {},
   "outputs": [],
   "source": [
    "# Entering “Data Scientist” in “Job Title,Keyword,Company” field\n",
    "search_job.send_keys('Data Scientist')"
   ]
  },
  {
   "cell_type": "code",
   "execution_count": 21,
   "metadata": {},
   "outputs": [
    {
     "data": {
      "text/plain": [
       "<selenium.webdriver.remote.webelement.WebElement (session=\"180a114d09bb9d193308d1a8342ab92b\", element=\"2b7d1316-ebbe-437b-9db7-58d1011b296c\")>"
      ]
     },
     "execution_count": 21,
     "metadata": {},
     "output_type": "execute_result"
    }
   ],
   "source": [
    "# Searching the web element for job location\n",
    "search_location = driver.find_element_by_id('scLocation')\n",
    "search_location"
   ]
  },
  {
   "cell_type": "code",
   "execution_count": 22,
   "metadata": {},
   "outputs": [],
   "source": [
    "# Entering “Noida” in “location” field\n",
    "search_location.send_keys('Noida')"
   ]
  },
  {
   "cell_type": "code",
   "execution_count": 23,
   "metadata": {},
   "outputs": [],
   "source": [
    "# Clicking on Search button\n",
    "search_btn = driver.find_element_by_xpath(\"//button[@class='pl-0 pr-xsm SearchStyles__searchKeywordSubmit']\")\n",
    "\n",
    "search_btn.click()"
   ]
  },
  {
   "cell_type": "code",
   "execution_count": 27,
   "metadata": {},
   "outputs": [
    {
     "data": {
      "text/plain": [
       "['Tata Consultancy Services',\n",
       " 'IBM',\n",
       " 'Accenture',\n",
       " 'Delhivery',\n",
       " 'Ericsson-Worldwide',\n",
       " 'UnitedHealth Group',\n",
       " 'Valiance Solutions',\n",
       " 'EXL Service',\n",
       " 'Optum',\n",
       " 'Optum Global Solutions']"
      ]
     },
     "execution_count": 27,
     "metadata": {},
     "output_type": "execute_result"
    }
   ],
   "source": [
    "# Scraping data for first 10 companies\n",
    "\n",
    "company_names=[]\n",
    "companies = driver.find_elements_by_xpath(\"//h3[@class='m-0 css-g261rn']/a\")\n",
    "for i in companies:\n",
    "    company_names.append(i.text)\n",
    "company_names = company_names[:10]\n",
    "company_names"
   ]
  },
  {
   "cell_type": "code",
   "execution_count": 29,
   "metadata": {},
   "outputs": [
    {
     "data": {
      "text/plain": [
       "['18 salaries',\n",
       " '18 salaries',\n",
       " '15 salaries',\n",
       " '15 salaries',\n",
       " '14 salaries',\n",
       " '14 salaries',\n",
       " '10 salaries',\n",
       " '9 salaries',\n",
       " '9 salaries',\n",
       " '9 salaries']"
      ]
     },
     "execution_count": 29,
     "metadata": {},
     "output_type": "execute_result"
    }
   ],
   "source": [
    "# Scraping data for number of salaries\n",
    "salary = driver.find_elements_by_xpath(\"//span[@class='m-0 css-1b6bxoo']\")\n",
    "\n",
    "No_of_salaries = []   #empty list\n",
    "for i in salary:\n",
    "    No_of_salaries.append(i.text)\n",
    "No_of_salaries = No_of_salaries[:10]\n",
    "No_of_salaries"
   ]
  },
  {
   "cell_type": "code",
   "execution_count": 30,
   "metadata": {},
   "outputs": [
    {
     "data": {
      "text/plain": [
       "['₹6,12,205',\n",
       " '₹9,00,000',\n",
       " '₹11,63,336',\n",
       " '₹12,18,244',\n",
       " '₹7,39,238',\n",
       " '₹12,80,000',\n",
       " '₹8,63,750',\n",
       " '₹11,10,000',\n",
       " '₹14,23,677',\n",
       " '₹13,28,697']"
      ]
     },
     "execution_count": 30,
     "metadata": {},
     "output_type": "execute_result"
    }
   ],
   "source": [
    "# extracting Average salary data\n",
    "salary=driver.find_elements_by_xpath('//div[@class=\"col-12 col-lg-4 px-lg-0 d-flex align-items-baseline\"]/h3')\n",
    "\n",
    "average_salary=[]\n",
    "for i in salary:\n",
    "    average_salary.append(i.text)\n",
    "average_salary = average_salary[:10]\n",
    "average_salary"
   ]
  },
  {
   "cell_type": "code",
   "execution_count": 37,
   "metadata": {},
   "outputs": [
    {
     "data": {
      "text/plain": [
       "['₹3L--₹13L',\n",
       " '₹6L--₹27L',\n",
       " '₹6L--₹22L',\n",
       " '₹5L--₹1Cr',\n",
       " '₹4L--₹16L',\n",
       " '₹8L--₹15L',\n",
       " '₹5L--₹15L',\n",
       " '₹6L--₹15L',\n",
       " '₹8L--₹20L',\n",
       " '₹4L--₹22L']"
      ]
     },
     "execution_count": 37,
     "metadata": {},
     "output_type": "execute_result"
    }
   ],
   "source": [
    "# extracting minimum and maximum salary data\n",
    "salary=driver.find_elements_by_xpath('//div[@class=\"d-flex mt-xxsm css-79elbk epuxyqn0\"]')\n",
    "\n",
    "min_max_salary=[]\n",
    "for i in salary:\n",
    "    min_max_salary.append(i.text.replace(\"\\n\",\"--\"))\n",
    "min_max_salary = min_max_salary[:10]\n",
    "min_max_salary"
   ]
  },
  {
   "cell_type": "code",
   "execution_count": 60,
   "metadata": {},
   "outputs": [
    {
     "data": {
      "text/plain": [
       "['₹3L',\n",
       " '₹6L',\n",
       " '₹6L',\n",
       " '₹5L',\n",
       " '₹4L',\n",
       " '₹8L',\n",
       " '₹5L',\n",
       " '₹6L',\n",
       " '₹8L',\n",
       " '₹4L',\n",
       " '₹2L',\n",
       " '₹6L']"
      ]
     },
     "execution_count": 60,
     "metadata": {},
     "output_type": "execute_result"
    }
   ],
   "source": [
    "# extracting minimum salary data\n",
    "minsalary=driver.find_elements_by_xpath('//div[@class=\"d-flex mt-xxsm css-79elbk epuxyqn0\"]/p[1]')\n",
    "\n",
    "min_salary=[]\n",
    "for i in minsalary:\n",
    "    min_salary.append(i.text.replace(\"\\n\",\"--\"))\n",
    "min_salary = min_salary[:12]\n",
    "min_salary"
   ]
  },
  {
   "cell_type": "code",
   "execution_count": 46,
   "metadata": {},
   "outputs": [
    {
     "data": {
      "text/plain": [
       "['₹13L',\n",
       " '₹27L',\n",
       " '₹22L',\n",
       " '₹1Cr',\n",
       " '₹16L',\n",
       " '₹15L',\n",
       " '₹15L',\n",
       " '₹15L',\n",
       " '₹20L',\n",
       " '₹22L',\n",
       " '₹18L',\n",
       " '₹17L']"
      ]
     },
     "execution_count": 46,
     "metadata": {},
     "output_type": "execute_result"
    }
   ],
   "source": [
    "# extracting maximun salary data\n",
    "maxsalary=driver.find_elements_by_xpath('//div[@class=\"d-flex mt-xxsm css-79elbk epuxyqn0\"]/p[2]')\n",
    "\n",
    "max_salary=[]\n",
    "for i in maxsalary:\n",
    "    max_salary.append(i.text.replace(\"\\n\",\"--\"))\n",
    "max_salary = max_salary[:12]\n",
    "max_salary"
   ]
  },
  {
   "cell_type": "code",
   "execution_count": 49,
   "metadata": {},
   "outputs": [
    {
     "data": {
      "text/plain": [
       "['3.9', '3.9', '4.1', '3.9', '4', '3.6', '4.2', '3.6', '3.7', '3.9']"
      ]
     },
     "execution_count": 49,
     "metadata": {},
     "output_type": "execute_result"
    }
   ],
   "source": [
    "# extracting rating of the company data \n",
    "company_rating=driver.find_elements_by_xpath('//span[@class=\"m-0 css-kyx745\"]')\n",
    "\n",
    "Rating=[]\n",
    "for i in company_rating:\n",
    "    Rating.append(i.text)\n",
    "Rating = Rating[:10]\n",
    "Rating"
   ]
  },
  {
   "cell_type": "code",
   "execution_count": 61,
   "metadata": {},
   "outputs": [
    {
     "data": {
      "text/html": [
       "<div>\n",
       "<style scoped>\n",
       "    .dataframe tbody tr th:only-of-type {\n",
       "        vertical-align: middle;\n",
       "    }\n",
       "\n",
       "    .dataframe tbody tr th {\n",
       "        vertical-align: top;\n",
       "    }\n",
       "\n",
       "    .dataframe thead th {\n",
       "        text-align: right;\n",
       "    }\n",
       "</style>\n",
       "<table border=\"1\" class=\"dataframe\">\n",
       "  <thead>\n",
       "    <tr style=\"text-align: right;\">\n",
       "      <th></th>\n",
       "      <th>Company Name</th>\n",
       "      <th>No of Salaries</th>\n",
       "      <th>Average Salary</th>\n",
       "      <th>Min_Max Salary</th>\n",
       "      <th>Min Salary</th>\n",
       "      <th>Max Salary</th>\n",
       "      <th>Ratings</th>\n",
       "    </tr>\n",
       "  </thead>\n",
       "  <tbody>\n",
       "    <tr>\n",
       "      <th>0</th>\n",
       "      <td>Tata Consultancy Services</td>\n",
       "      <td>18 salaries</td>\n",
       "      <td>₹6,12,205</td>\n",
       "      <td>₹3L--₹13L</td>\n",
       "      <td>₹3L</td>\n",
       "      <td>₹13L</td>\n",
       "      <td>3.9</td>\n",
       "    </tr>\n",
       "    <tr>\n",
       "      <th>1</th>\n",
       "      <td>IBM</td>\n",
       "      <td>18 salaries</td>\n",
       "      <td>₹9,00,000</td>\n",
       "      <td>₹6L--₹27L</td>\n",
       "      <td>₹6L</td>\n",
       "      <td>₹27L</td>\n",
       "      <td>3.9</td>\n",
       "    </tr>\n",
       "    <tr>\n",
       "      <th>2</th>\n",
       "      <td>Accenture</td>\n",
       "      <td>15 salaries</td>\n",
       "      <td>₹11,63,336</td>\n",
       "      <td>₹6L--₹22L</td>\n",
       "      <td>₹6L</td>\n",
       "      <td>₹22L</td>\n",
       "      <td>4.1</td>\n",
       "    </tr>\n",
       "    <tr>\n",
       "      <th>3</th>\n",
       "      <td>Delhivery</td>\n",
       "      <td>15 salaries</td>\n",
       "      <td>₹12,18,244</td>\n",
       "      <td>₹5L--₹1Cr</td>\n",
       "      <td>₹5L</td>\n",
       "      <td>₹1Cr</td>\n",
       "      <td>3.9</td>\n",
       "    </tr>\n",
       "    <tr>\n",
       "      <th>4</th>\n",
       "      <td>Ericsson-Worldwide</td>\n",
       "      <td>14 salaries</td>\n",
       "      <td>₹7,39,238</td>\n",
       "      <td>₹4L--₹16L</td>\n",
       "      <td>₹4L</td>\n",
       "      <td>₹16L</td>\n",
       "      <td>4</td>\n",
       "    </tr>\n",
       "    <tr>\n",
       "      <th>5</th>\n",
       "      <td>UnitedHealth Group</td>\n",
       "      <td>14 salaries</td>\n",
       "      <td>₹12,80,000</td>\n",
       "      <td>₹8L--₹15L</td>\n",
       "      <td>₹8L</td>\n",
       "      <td>₹15L</td>\n",
       "      <td>3.6</td>\n",
       "    </tr>\n",
       "    <tr>\n",
       "      <th>6</th>\n",
       "      <td>Valiance Solutions</td>\n",
       "      <td>10 salaries</td>\n",
       "      <td>₹8,63,750</td>\n",
       "      <td>₹5L--₹15L</td>\n",
       "      <td>₹5L</td>\n",
       "      <td>₹15L</td>\n",
       "      <td>4.2</td>\n",
       "    </tr>\n",
       "    <tr>\n",
       "      <th>7</th>\n",
       "      <td>EXL Service</td>\n",
       "      <td>9 salaries</td>\n",
       "      <td>₹11,10,000</td>\n",
       "      <td>₹6L--₹15L</td>\n",
       "      <td>₹6L</td>\n",
       "      <td>₹15L</td>\n",
       "      <td>3.6</td>\n",
       "    </tr>\n",
       "    <tr>\n",
       "      <th>8</th>\n",
       "      <td>Optum</td>\n",
       "      <td>9 salaries</td>\n",
       "      <td>₹14,23,677</td>\n",
       "      <td>₹8L--₹20L</td>\n",
       "      <td>₹8L</td>\n",
       "      <td>₹20L</td>\n",
       "      <td>3.7</td>\n",
       "    </tr>\n",
       "    <tr>\n",
       "      <th>9</th>\n",
       "      <td>Optum Global Solutions</td>\n",
       "      <td>9 salaries</td>\n",
       "      <td>₹13,28,697</td>\n",
       "      <td>₹4L--₹22L</td>\n",
       "      <td>₹4L</td>\n",
       "      <td>₹22L</td>\n",
       "      <td>3.9</td>\n",
       "    </tr>\n",
       "  </tbody>\n",
       "</table>\n",
       "</div>"
      ],
      "text/plain": [
       "                Company Name No of Salaries Average Salary Min_Max Salary  \\\n",
       "0  Tata Consultancy Services    18 salaries      ₹6,12,205      ₹3L--₹13L   \n",
       "1                        IBM    18 salaries      ₹9,00,000      ₹6L--₹27L   \n",
       "2                  Accenture    15 salaries     ₹11,63,336      ₹6L--₹22L   \n",
       "3                  Delhivery    15 salaries     ₹12,18,244      ₹5L--₹1Cr   \n",
       "4         Ericsson-Worldwide    14 salaries      ₹7,39,238      ₹4L--₹16L   \n",
       "5         UnitedHealth Group    14 salaries     ₹12,80,000      ₹8L--₹15L   \n",
       "6         Valiance Solutions    10 salaries      ₹8,63,750      ₹5L--₹15L   \n",
       "7                EXL Service     9 salaries     ₹11,10,000      ₹6L--₹15L   \n",
       "8                      Optum     9 salaries     ₹14,23,677      ₹8L--₹20L   \n",
       "9     Optum Global Solutions     9 salaries     ₹13,28,697      ₹4L--₹22L   \n",
       "\n",
       "  Min Salary Max Salary Ratings  \n",
       "0        ₹3L       ₹13L     3.9  \n",
       "1        ₹6L       ₹27L     3.9  \n",
       "2        ₹6L       ₹22L     4.1  \n",
       "3        ₹5L       ₹1Cr     3.9  \n",
       "4        ₹4L       ₹16L       4  \n",
       "5        ₹8L       ₹15L     3.6  \n",
       "6        ₹5L       ₹15L     4.2  \n",
       "7        ₹6L       ₹15L     3.6  \n",
       "8        ₹8L       ₹20L     3.7  \n",
       "9        ₹4L       ₹22L     3.9  "
      ]
     },
     "execution_count": 61,
     "metadata": {},
     "output_type": "execute_result"
    }
   ],
   "source": [
    "# Creating DataFrame for scraped data\n",
    "glass_door_jobs = pd.DataFrame({})\n",
    "glass_door_jobs[\"Company Name\"] = company_names[:10]\n",
    "glass_door_jobs[\"No of Salaries\"] = No_of_salaries[:10]\n",
    "glass_door_jobs[\"Average Salary\"] = average_salary[:10]\n",
    "glass_door_jobs[\"Min_Max Salary\"] = min_max_salary[:10]\n",
    "glass_door_jobs[\"Min Salary\"] = min_salary[:10]\n",
    "glass_door_jobs[\"Max Salary\"] = max_salary[:10]\n",
    "glass_door_jobs[\"Ratings\"] = Rating[:10]\n",
    "glass_door_jobs"
   ]
  },
  {
   "cell_type": "markdown",
   "metadata": {},
   "source": [
    "### Q6 : Scrape data of first 100 sunglasses listings on flipkart.com. You have to scrape four attributes:\n",
    "\n",
    "**1. Brand**\n",
    "\n",
    "**2. Product Description**\n",
    "\n",
    "**3. Price**\n",
    "\n",
    "**4. Discount %**"
   ]
  },
  {
   "cell_type": "code",
   "execution_count": 126,
   "metadata": {},
   "outputs": [],
   "source": [
    "# Connecting to the web driver\n",
    "driver = webdriver.Chrome(\"chromedriver.exe\")"
   ]
  },
  {
   "cell_type": "code",
   "execution_count": 129,
   "metadata": {},
   "outputs": [],
   "source": [
    "# Getting the webpage of mentioned url\n",
    "url = 'https://www.flipkart.com/'\n",
    "driver.get(url)"
   ]
  },
  {
   "cell_type": "code",
   "execution_count": 131,
   "metadata": {},
   "outputs": [
    {
     "data": {
      "text/plain": [
       "<selenium.webdriver.remote.webelement.WebElement (session=\"a6335d882b841e6158802f677f54679d\", element=\"3ec87d79-fa85-4897-848a-37b8eb65299a\")>"
      ]
     },
     "execution_count": 131,
     "metadata": {},
     "output_type": "execute_result"
    }
   ],
   "source": [
    "#Searching web elemnt for job title\n",
    "search_glasses = driver.find_element_by_xpath(\"//input[@class='_3704LK']\")\n",
    "search_glasses"
   ]
  },
  {
   "cell_type": "code",
   "execution_count": 132,
   "metadata": {},
   "outputs": [],
   "source": [
    "#Enter “sunglasses” in the search field where “search for products, brands and more\"\n",
    "search_glasses.send_keys(\"sunglasses\")"
   ]
  },
  {
   "cell_type": "code",
   "execution_count": 138,
   "metadata": {},
   "outputs": [],
   "source": [
    "# Clicking on Search button\n",
    "search_btn = driver.find_element_by_xpath(\"//button[@class='L0Z3Pu']\")\n",
    "\n",
    "search_btn.click()"
   ]
  },
  {
   "cell_type": "code",
   "execution_count": 141,
   "metadata": {},
   "outputs": [
    {
     "data": {
      "text/plain": [
       "['https://www.flipkart.com/search?q=sunglasses&otracker=search&otracker1=search&marketplace=FLIPKART&as-show=on&as=off&page=1',\n",
       " 'https://www.flipkart.com/search?q=sunglasses&otracker=search&otracker1=search&marketplace=FLIPKART&as-show=on&as=off&page=2',\n",
       " 'https://www.flipkart.com/search?q=sunglasses&otracker=search&otracker1=search&marketplace=FLIPKART&as-show=on&as=off&page=3',\n",
       " 'https://www.flipkart.com/search?q=sunglasses&otracker=search&otracker1=search&marketplace=FLIPKART&as-show=on&as=off&page=4',\n",
       " 'https://www.flipkart.com/search?q=sunglasses&otracker=search&otracker1=search&marketplace=FLIPKART&as-show=on&as=off&page=5',\n",
       " 'https://www.flipkart.com/search?q=sunglasses&otracker=search&otracker1=search&marketplace=FLIPKART&as-show=on&as=off&page=6',\n",
       " 'https://www.flipkart.com/search?q=sunglasses&otracker=search&otracker1=search&marketplace=FLIPKART&as-show=on&as=off&page=7',\n",
       " 'https://www.flipkart.com/search?q=sunglasses&otracker=search&otracker1=search&marketplace=FLIPKART&as-show=on&as=off&page=8',\n",
       " 'https://www.flipkart.com/search?q=sunglasses&otracker=search&otracker1=search&marketplace=FLIPKART&as-show=on&as=off&page=9',\n",
       " 'https://www.flipkart.com/search?q=sunglasses&otracker=search&otracker1=search&marketplace=FLIPKART&as-show=on&as=off&page=10',\n",
       " 'https://www.flipkart.com/search?q=sunglasses&otracker=search&otracker1=search&marketplace=FLIPKART&as-show=on&as=off&page=2']"
      ]
     },
     "execution_count": 141,
     "metadata": {},
     "output_type": "execute_result"
    }
   ],
   "source": [
    "# Fetching all the URLs \n",
    "url = driver.find_elements_by_xpath(\"//nav[@class='yFHi8N']/a\")\n",
    "\n",
    "urls = []  #empty list\n",
    "for i in url:\n",
    "    urls.append(i.get_attribute('href'))\n",
    "urls"
   ]
  },
  {
   "cell_type": "code",
   "execution_count": 148,
   "metadata": {},
   "outputs": [
    {
     "data": {
      "text/plain": [
       "['Wrogn',\n",
       " 'hipe',\n",
       " 'Elligator',\n",
       " 'Fastrack',\n",
       " 'Fastrack',\n",
       " 'Fastrack',\n",
       " 'kingsunglasses',\n",
       " 'Villain',\n",
       " 'PIRASO',\n",
       " 'Fastrack',\n",
       " 'kingsunglasses',\n",
       " 'HAMIW COLLECTION',\n",
       " 'PIRASO',\n",
       " 'Fastrack',\n",
       " 'kingsunglasses',\n",
       " 'ROYAL SON',\n",
       " 'Fastrack',\n",
       " 'ROZZETTA CRAFT',\n",
       " 'Fastrack',\n",
       " 'ROYAL SON',\n",
       " 'Silver Kartz',\n",
       " 'PHENOMENAL',\n",
       " 'ROZZETTA CRAFT',\n",
       " 'ROYAL SON',\n",
       " 'kingsunglasses',\n",
       " 'Elligator',\n",
       " 'Singco India',\n",
       " 'Wrogn',\n",
       " 'Fastrack',\n",
       " 'hipe',\n",
       " 'Singco India',\n",
       " 'ROYAL SON',\n",
       " 'Elligator',\n",
       " 'Fastrack',\n",
       " 'Elligator',\n",
       " 'ROYAL SON',\n",
       " 'Fastrack',\n",
       " 'Elligator',\n",
       " 'NuVew',\n",
       " 'ROYAL SON',\n",
       " 'PHENOMENAL',\n",
       " 'ROZZETTA CRAFT',\n",
       " 'Fastrack',\n",
       " 'Wrogn',\n",
       " 'GANSTA',\n",
       " 'PIRASO',\n",
       " 'DEIXELS',\n",
       " 'Villain',\n",
       " 'Singco',\n",
       " 'Fastrack',\n",
       " 'HIPPON',\n",
       " 'HAMIW COLLECTION',\n",
       " 'NuVew',\n",
       " 'Fastrack',\n",
       " 'AISLIN',\n",
       " 'hipe',\n",
       " 'Fastrack',\n",
       " 'Fastrack',\n",
       " 'GANSTA',\n",
       " 'ROYAL SON',\n",
       " 'PIRASO',\n",
       " 'hipe',\n",
       " 'hipe',\n",
       " 'ROYAL SON',\n",
       " 'ROYAL SON',\n",
       " 'Singco India',\n",
       " 'DEIXELS',\n",
       " 'ROYAL SON',\n",
       " 'hipe',\n",
       " 'Singco India',\n",
       " 'GANSTA',\n",
       " 'Wrogn',\n",
       " 'kingsunglasses',\n",
       " 'ROYAL SON',\n",
       " 'PIRASO',\n",
       " 'ROYAL SON',\n",
       " 'Fastrack',\n",
       " 'kingsunglasses',\n",
       " 'PIRASO',\n",
       " 'Singco India',\n",
       " 'AISLIN',\n",
       " 'NuVew',\n",
       " 'ROYAL SON',\n",
       " 'Wrogn',\n",
       " 'Fastrack',\n",
       " 'PHENOMENAL',\n",
       " 'AISLIN',\n",
       " 'HAMIW COLLECTION',\n",
       " 'Badfella',\n",
       " 'PHENOMENAL',\n",
       " 'Elligator',\n",
       " 'hipe',\n",
       " 'Singco India',\n",
       " 'hipe',\n",
       " 'Fastrack',\n",
       " 'Villain',\n",
       " 'Flizz',\n",
       " 'ROYAL SON',\n",
       " 'ROZZETTA CRAFT',\n",
       " 'ROYAL SON']"
      ]
     },
     "execution_count": 148,
     "metadata": {},
     "output_type": "execute_result"
    }
   ],
   "source": [
    "# Scraping data for sunglasses brand\n",
    "glass_brand = []  #empty list\n",
    "for i in urls:\n",
    "    driver.get(i)\n",
    "    Brand= driver.find_elements_by_xpath(\"//div[@class='_2WkVRV']\")\n",
    "    for i in Brand:\n",
    "        glass_brand.append(i.text)\n",
    "glass_brand = glass_brand[:100]\n",
    "glass_brand"
   ]
  },
  {
   "cell_type": "code",
   "execution_count": 149,
   "metadata": {},
   "outputs": [
    {
     "data": {
      "text/plain": [
       "100"
      ]
     },
     "execution_count": 149,
     "metadata": {},
     "output_type": "execute_result"
    }
   ],
   "source": [
    "len(glass_brand)"
   ]
  },
  {
   "cell_type": "code",
   "execution_count": 156,
   "metadata": {},
   "outputs": [
    {
     "data": {
      "text/plain": [
       "['Mirrored Wayfarer Sunglasses (51)',\n",
       " 'UV Protection Round Sunglasses (Free Size)',\n",
       " 'UV Protection Round Sunglasses (54)',\n",
       " 'Gradient, UV Protection Wayfarer Sunglasses (Free Size)',\n",
       " 'UV Protection Rectangular Sunglasses (Free Size)',\n",
       " 'UV Protection Wayfarer Sunglasses (Free Size)',\n",
       " 'Mirrored, UV Protection Wayfarer Sunglasses (Free Size)',\n",
       " 'Mirrored Wayfarer Sunglasses (55)',\n",
       " 'UV Protection Aviator Sunglasses (54)',\n",
       " 'Mirrored, UV Protection Wayfarer Sunglasses (Free Size)',\n",
       " 'UV Protection Aviator Sunglasses (58)',\n",
       " 'Polarized, UV Protection Round Sunglasses (49)',\n",
       " 'UV Protection Aviator Sunglasses (54)',\n",
       " 'UV Protection Aviator Sunglasses (Free Size)',\n",
       " 'UV Protection Rectangular Sunglasses (Free Size)',\n",
       " 'UV Protection Aviator Sunglasses (60)',\n",
       " 'UV Protection Wayfarer Sunglasses (56)',\n",
       " 'UV Protection Retro Square Sunglasses (Free Size)',\n",
       " 'UV Protection Round Sunglasses (54)',\n",
       " 'UV Protection Rectangular Sunglasses (58)',\n",
       " 'UV Protection Wayfarer Sunglasses (Free Size)',\n",
       " 'UV Protection Wayfarer Sunglasses (Free Size)',\n",
       " 'UV Protection Aviator Sunglasses (58)',\n",
       " 'UV Protection Over-sized Sunglasses (65)',\n",
       " 'UV Protection Retro Square Sunglasses (Free Size)',\n",
       " 'UV Protection, Gradient Rectangular Sunglasses (Free Si...',\n",
       " 'UV Protection Round Sunglasses (54)',\n",
       " 'Polarized, UV Protection Rectangular Sunglasses (59)',\n",
       " 'Gradient, UV Protection Wayfarer Sunglasses (Free Size)',\n",
       " 'UV Protection, Riding Glasses, Others Aviator, Wayfarer...',\n",
       " 'Mirrored, UV Protection, Gradient Round Sunglasses (55)',\n",
       " 'Polarized, UV Protection Round Sunglasses (53)',\n",
       " 'UV Protection Aviator Sunglasses (Free Size)',\n",
       " 'UV Protection, Riding Glasses Rectangular Sunglasses (F...',\n",
       " 'UV Protection Rectangular Sunglasses (55)',\n",
       " 'UV Protection, Mirrored, Others Aviator Sunglasses (33)',\n",
       " 'UV Protection, Riding Glasses Rectangular, Retro Square...',\n",
       " 'UV Protection Aviator Sunglasses (58)',\n",
       " 'UV Protection, Mirrored Retro Square Sunglasses (53)',\n",
       " 'Polarized Retro Square Sunglasses (58)',\n",
       " 'UV Protection, Mirrored Retro Square Sunglasses (Free S...',\n",
       " 'UV Protection Shield Sunglasses (Free Size)',\n",
       " 'UV Protection, Gradient Rectangular Sunglasses (Free Si...',\n",
       " 'Mirrored Wayfarer Sunglasses (51)',\n",
       " 'UV Protection, Night Vision, Riding Glasses Aviator Sun...',\n",
       " 'UV Protection Wayfarer Sunglasses (55)',\n",
       " 'UV Protection Aviator Sunglasses (Free Size)',\n",
       " 'Others Wayfarer Sunglasses (Free Size)',\n",
       " 'Mirrored Aviator Sunglasses (53)',\n",
       " 'UV Protection Aviator Sunglasses (54)',\n",
       " 'Polarized, UV Protection, Riding Glasses Wayfarer Sungl...',\n",
       " 'UV Protection Round Sunglasses (Free Size)',\n",
       " 'UV Protection Wayfarer Sunglasses (Free Size)',\n",
       " 'UV Protection Aviator Sunglasses (Free Size)',\n",
       " 'UV Protection Rectangular Sunglasses (59)',\n",
       " 'Mirrored Wayfarer Sunglasses (55)',\n",
       " 'UV Protection, Gradient Butterfly, Retro Square Sunglas...',\n",
       " 'Mirrored, Riding Glasses, Others Sports Sunglasses (50)',\n",
       " 'UV Protection, Mirrored, Night Vision, Riding Glasses S...',\n",
       " 'Polarized, UV Protection Round Sunglasses (49)',\n",
       " 'UV Protection Sports Sunglasses (Free Size)',\n",
       " 'UV Protection, Gradient, Mirrored, Riding Glasses Recta...',\n",
       " 'UV Protection, Mirrored Wayfarer Sunglasses (53)',\n",
       " 'Polarized, UV Protection Round Sunglasses (53)',\n",
       " 'Mirrored, UV Protection, Riding Glasses, Others Wrap-ar...',\n",
       " 'UV Protection Aviator, Wayfarer Sunglasses (Free Size)',\n",
       " 'UV Protection Rectangular Sunglasses (58)',\n",
       " 'UV Protection Aviator Sunglasses (60)',\n",
       " 'Night Vision, Riding Glasses Wayfarer Sunglasses (53)',\n",
       " 'UV Protection, Gradient Wayfarer Sunglasses (55)',\n",
       " 'UV Protection Retro Square Sunglasses (Free Size)',\n",
       " 'UV Protection Over-sized Sunglasses (65)',\n",
       " 'UV Protection, Mirrored Round Sunglasses (54)',\n",
       " 'UV Protection Sports Sunglasses (Free Size)',\n",
       " 'UV Protection Wayfarer Sunglasses (32)',\n",
       " 'UV Protection, Mirrored, Others Aviator Sunglasses (33)',\n",
       " 'UV Protection Aviator Sunglasses (Free Size)',\n",
       " 'UV Protection Aviator Sunglasses (54)',\n",
       " 'UV Protection Wrap-around Sunglasses (Free Size)',\n",
       " 'Polarized, UV Protection Rectangular Sunglasses (59)',\n",
       " 'UV Protection Round Sunglasses (Free Size)',\n",
       " 'UV Protection Oval Sunglasses (58)',\n",
       " 'UV Protection Retro Square Sunglasses (58)',\n",
       " 'Mirrored Wayfarer Sunglasses (51)',\n",
       " 'Polarized, UV Protection Retro Square Sunglasses (53)',\n",
       " 'UV Protection, Gradient Butterfly, Retro Square Sunglas...',\n",
       " 'UV Protection Wayfarer, Rectangular Sunglasses (61)',\n",
       " 'UV Protection Round Sunglasses (Free Size)',\n",
       " 'UV Protection Round Sunglasses (53)',\n",
       " 'Riding Glasses, Others, UV Protection Wrap-around Sungl...',\n",
       " 'UV Protection, Gradient, Mirrored, Riding Glasses Aviat...',\n",
       " 'Mirrored Wayfarer Sunglasses (55)',\n",
       " 'UV Protection Round Sunglasses (53)',\n",
       " 'UV Protection Wayfarer Sunglasses (Free Size)',\n",
       " 'UV Protection Retro Square Sunglasses (Free Size)',\n",
       " 'Others Retro Square Sunglasses (Free Size)',\n",
       " 'UV Protection, Riding Glasses Rectangular, Retro Square...',\n",
       " 'Gradient, UV Protection Round Sunglasses (Free Size)',\n",
       " 'UV Protection Wayfarer Sunglasses (Free Size)',\n",
       " 'Polarized, UV Protection Round Sunglasses (49)']"
      ]
     },
     "execution_count": 156,
     "metadata": {},
     "output_type": "execute_result"
    }
   ],
   "source": [
    "# Scraping data for product discription\n",
    "product_desc = []  #empty list\n",
    "for i in urls:\n",
    "    driver.get(i)\n",
    "    Product = driver.find_elements_by_xpath(\"//a[@class='IRpwTa']\")\n",
    "    for i in Product:\n",
    "        product_desc.append(i.text)\n",
    "product_desc = product_desc[:100]\n",
    "product_desc"
   ]
  },
  {
   "cell_type": "code",
   "execution_count": 158,
   "metadata": {},
   "outputs": [
    {
     "data": {
      "text/plain": [
       "100"
      ]
     },
     "execution_count": 158,
     "metadata": {},
     "output_type": "execute_result"
    }
   ],
   "source": [
    "len(product_desc)"
   ]
  },
  {
   "cell_type": "code",
   "execution_count": 160,
   "metadata": {},
   "outputs": [
    {
     "data": {
      "text/plain": [
       "['₹739',\n",
       " '₹549',\n",
       " '₹295',\n",
       " '₹455',\n",
       " '₹509',\n",
       " '₹669',\n",
       " '₹299',\n",
       " '₹219',\n",
       " '₹225',\n",
       " '₹299',\n",
       " '₹969',\n",
       " '₹599',\n",
       " '₹225',\n",
       " '₹539',\n",
       " '₹210',\n",
       " '₹179',\n",
       " '₹599',\n",
       " '₹499',\n",
       " '₹225',\n",
       " '₹664',\n",
       " '₹599',\n",
       " '₹246',\n",
       " '₹969',\n",
       " '₹1,009',\n",
       " '₹379',\n",
       " '₹404',\n",
       " '₹331',\n",
       " '₹474',\n",
       " '₹599',\n",
       " '₹214',\n",
       " '₹210',\n",
       " '₹699',\n",
       " '₹334',\n",
       " '₹426',\n",
       " '₹349',\n",
       " '₹219',\n",
       " '₹398',\n",
       " '₹949',\n",
       " '₹379',\n",
       " '₹664',\n",
       " '₹379',\n",
       " '₹609',\n",
       " '₹474',\n",
       " '₹739',\n",
       " '₹295',\n",
       " '₹257',\n",
       " '₹1,479',\n",
       " '₹179',\n",
       " '₹239',\n",
       " '₹225',\n",
       " '₹224',\n",
       " '₹219',\n",
       " '₹629',\n",
       " '₹609',\n",
       " '₹969',\n",
       " '₹664',\n",
       " '₹516',\n",
       " '₹239',\n",
       " '₹309',\n",
       " '₹664',\n",
       " '₹319',\n",
       " '₹299',\n",
       " '₹211',\n",
       " '₹699',\n",
       " '₹331',\n",
       " '₹202',\n",
       " '₹474',\n",
       " '₹1,009',\n",
       " '₹209',\n",
       " '₹217',\n",
       " '₹269',\n",
       " '₹426',\n",
       " '₹249',\n",
       " '₹599',\n",
       " '₹225',\n",
       " '₹664',\n",
       " '₹314',\n",
       " '₹225',\n",
       " '₹669',\n",
       " '₹219',\n",
       " '₹189',\n",
       " '₹430',\n",
       " '₹499',\n",
       " '₹739',\n",
       " '₹255',\n",
       " '₹487',\n",
       " '₹639',\n",
       " '₹179',\n",
       " '₹282',\n",
       " '₹293',\n",
       " '₹209',\n",
       " '₹219',\n",
       " '₹295',\n",
       " '₹599',\n",
       " '₹399',\n",
       " '₹599',\n",
       " '₹349',\n",
       " '₹426',\n",
       " '₹559',\n",
       " '₹664']"
      ]
     },
     "execution_count": 160,
     "metadata": {},
     "output_type": "execute_result"
    }
   ],
   "source": [
    "# Scraping data for product price\n",
    "product_price = []  #empty list\n",
    "for i in urls:\n",
    "    driver.get(i)\n",
    "    Price = driver.find_elements_by_xpath(\"//div[@class='_30jeq3']\")\n",
    "    for i in Price:\n",
    "        product_price.append(i.text)\n",
    "product_price = product_price[:100]\n",
    "product_price"
   ]
  },
  {
   "cell_type": "code",
   "execution_count": 161,
   "metadata": {},
   "outputs": [
    {
     "data": {
      "text/plain": [
       "100"
      ]
     },
     "execution_count": 161,
     "metadata": {},
     "output_type": "execute_result"
    }
   ],
   "source": [
    "len(product_price)"
   ]
  },
  {
   "cell_type": "code",
   "execution_count": 166,
   "metadata": {},
   "outputs": [
    {
     "data": {
      "text/plain": [
       "['71% off',\n",
       " '88% off',\n",
       " '88% off',\n",
       " '43% off',\n",
       " '36% off',\n",
       " '25% off',\n",
       " '88% off',\n",
       " '45% off',\n",
       " '85% off',\n",
       " '88% off',\n",
       " '25% off',\n",
       " '78% off',\n",
       " '85% off',\n",
       " '32% off',\n",
       " '82% off',\n",
       " '66% off',\n",
       " '33% off',\n",
       " '77% off',\n",
       " '79% off',\n",
       " '66% off',\n",
       " '33% off',\n",
       " '83% off',\n",
       " '25% off',\n",
       " '68% off',\n",
       " '81% off',\n",
       " '79% off',\n",
       " '74% off',\n",
       " '68% off',\n",
       " '25% off',\n",
       " '69% off',\n",
       " '85% off',\n",
       " '53% off',\n",
       " '72% off',\n",
       " '80% off',\n",
       " '76% off',\n",
       " '77% off',\n",
       " '73% off',\n",
       " '26% off',\n",
       " '81% off',\n",
       " '78% off',\n",
       " '81% off',\n",
       " '32% off',\n",
       " '78% off',\n",
       " '71% off',\n",
       " '85% off',\n",
       " '78% off',\n",
       " '26% off',\n",
       " '88% off',\n",
       " '76% off',\n",
       " '85% off',\n",
       " '62% off',\n",
       " '78% off',\n",
       " '30% off',\n",
       " '32% off',\n",
       " '25% off',\n",
       " '66% off',\n",
       " '66% off',\n",
       " '84% off',\n",
       " '66% off',\n",
       " '53% off',\n",
       " '83% off',\n",
       " '76% off',\n",
       " '78% off',\n",
       " '68% off',\n",
       " '83% off',\n",
       " '83% off',\n",
       " '68% off',\n",
       " '66% off',\n",
       " '88% off',\n",
       " '78% off',\n",
       " '82% off',\n",
       " '78% off',\n",
       " '79% off',\n",
       " '33% off',\n",
       " '85% off',\n",
       " '55% off',\n",
       " '80% off',\n",
       " '85% off',\n",
       " '25% off',\n",
       " '78% off',\n",
       " '81% off',\n",
       " '82% off',\n",
       " '66% off',\n",
       " '71% off',\n",
       " '74% off',\n",
       " '68% off',\n",
       " '70% off',\n",
       " '88% off',\n",
       " '87% off',\n",
       " '82% off',\n",
       " '79% off',\n",
       " '78% off',\n",
       " '88% off',\n",
       " '25% off',\n",
       " '81% off',\n",
       " '66% off',\n",
       " '76% off',\n",
       " '78% off',\n",
       " '30% off',\n",
       " '66% off']"
      ]
     },
     "execution_count": 166,
     "metadata": {},
     "output_type": "execute_result"
    }
   ],
   "source": [
    "# Scraping data for product Discount %\n",
    "Product_Discount= []  #empty list\n",
    "for i in urls:\n",
    "    driver.get(i)\n",
    "    Discount = driver.find_elements_by_xpath(\"//div[@class='_3Ay6Sb']/span\")\n",
    "    for i in Discount:\n",
    "        Product_Discount.append(i.text)\n",
    "Product_Discount =Product_Discount[:100]\n",
    "Product_Discount"
   ]
  },
  {
   "cell_type": "code",
   "execution_count": 168,
   "metadata": {},
   "outputs": [
    {
     "data": {
      "text/plain": [
       "100"
      ]
     },
     "execution_count": 168,
     "metadata": {},
     "output_type": "execute_result"
    }
   ],
   "source": [
    "len(Product_Discount)"
   ]
  },
  {
   "cell_type": "code",
   "execution_count": 169,
   "metadata": {},
   "outputs": [
    {
     "name": "stdout",
     "output_type": "stream",
     "text": [
      "100 100 100 100\n"
     ]
    }
   ],
   "source": [
    "# Checking length of scraped data\n",
    "print(len(glass_brand),len(product_desc),len(product_price),len(Product_Discount))"
   ]
  },
  {
   "cell_type": "code",
   "execution_count": 170,
   "metadata": {},
   "outputs": [
    {
     "data": {
      "text/html": [
       "<div>\n",
       "<style scoped>\n",
       "    .dataframe tbody tr th:only-of-type {\n",
       "        vertical-align: middle;\n",
       "    }\n",
       "\n",
       "    .dataframe tbody tr th {\n",
       "        vertical-align: top;\n",
       "    }\n",
       "\n",
       "    .dataframe thead th {\n",
       "        text-align: right;\n",
       "    }\n",
       "</style>\n",
       "<table border=\"1\" class=\"dataframe\">\n",
       "  <thead>\n",
       "    <tr style=\"text-align: right;\">\n",
       "      <th></th>\n",
       "      <th>Brand</th>\n",
       "      <th>Product Description</th>\n",
       "      <th>Price</th>\n",
       "      <th>Discount%</th>\n",
       "    </tr>\n",
       "  </thead>\n",
       "  <tbody>\n",
       "    <tr>\n",
       "      <th>0</th>\n",
       "      <td>Wrogn</td>\n",
       "      <td>Mirrored Wayfarer Sunglasses (51)</td>\n",
       "      <td>₹739</td>\n",
       "      <td>71% off</td>\n",
       "    </tr>\n",
       "    <tr>\n",
       "      <th>1</th>\n",
       "      <td>hipe</td>\n",
       "      <td>UV Protection Round Sunglasses (Free Size)</td>\n",
       "      <td>₹549</td>\n",
       "      <td>88% off</td>\n",
       "    </tr>\n",
       "    <tr>\n",
       "      <th>2</th>\n",
       "      <td>Elligator</td>\n",
       "      <td>UV Protection Round Sunglasses (54)</td>\n",
       "      <td>₹295</td>\n",
       "      <td>88% off</td>\n",
       "    </tr>\n",
       "    <tr>\n",
       "      <th>3</th>\n",
       "      <td>Fastrack</td>\n",
       "      <td>Gradient, UV Protection Wayfarer Sunglasses (F...</td>\n",
       "      <td>₹455</td>\n",
       "      <td>43% off</td>\n",
       "    </tr>\n",
       "    <tr>\n",
       "      <th>4</th>\n",
       "      <td>Fastrack</td>\n",
       "      <td>UV Protection Rectangular Sunglasses (Free Size)</td>\n",
       "      <td>₹509</td>\n",
       "      <td>36% off</td>\n",
       "    </tr>\n",
       "    <tr>\n",
       "      <th>...</th>\n",
       "      <td>...</td>\n",
       "      <td>...</td>\n",
       "      <td>...</td>\n",
       "      <td>...</td>\n",
       "    </tr>\n",
       "    <tr>\n",
       "      <th>95</th>\n",
       "      <td>Villain</td>\n",
       "      <td>Others Retro Square Sunglasses (Free Size)</td>\n",
       "      <td>₹599</td>\n",
       "      <td>66% off</td>\n",
       "    </tr>\n",
       "    <tr>\n",
       "      <th>96</th>\n",
       "      <td>Flizz</td>\n",
       "      <td>UV Protection, Riding Glasses Rectangular, Ret...</td>\n",
       "      <td>₹349</td>\n",
       "      <td>76% off</td>\n",
       "    </tr>\n",
       "    <tr>\n",
       "      <th>97</th>\n",
       "      <td>ROYAL SON</td>\n",
       "      <td>Gradient, UV Protection Round Sunglasses (Free...</td>\n",
       "      <td>₹426</td>\n",
       "      <td>78% off</td>\n",
       "    </tr>\n",
       "    <tr>\n",
       "      <th>98</th>\n",
       "      <td>ROZZETTA CRAFT</td>\n",
       "      <td>UV Protection Wayfarer Sunglasses (Free Size)</td>\n",
       "      <td>₹559</td>\n",
       "      <td>30% off</td>\n",
       "    </tr>\n",
       "    <tr>\n",
       "      <th>99</th>\n",
       "      <td>ROYAL SON</td>\n",
       "      <td>Polarized, UV Protection Round Sunglasses (49)</td>\n",
       "      <td>₹664</td>\n",
       "      <td>66% off</td>\n",
       "    </tr>\n",
       "  </tbody>\n",
       "</table>\n",
       "<p>100 rows × 4 columns</p>\n",
       "</div>"
      ],
      "text/plain": [
       "             Brand                                Product Description Price  \\\n",
       "0            Wrogn                  Mirrored Wayfarer Sunglasses (51)  ₹739   \n",
       "1             hipe         UV Protection Round Sunglasses (Free Size)  ₹549   \n",
       "2        Elligator                UV Protection Round Sunglasses (54)  ₹295   \n",
       "3         Fastrack  Gradient, UV Protection Wayfarer Sunglasses (F...  ₹455   \n",
       "4         Fastrack   UV Protection Rectangular Sunglasses (Free Size)  ₹509   \n",
       "..             ...                                                ...   ...   \n",
       "95         Villain         Others Retro Square Sunglasses (Free Size)  ₹599   \n",
       "96           Flizz  UV Protection, Riding Glasses Rectangular, Ret...  ₹349   \n",
       "97       ROYAL SON  Gradient, UV Protection Round Sunglasses (Free...  ₹426   \n",
       "98  ROZZETTA CRAFT      UV Protection Wayfarer Sunglasses (Free Size)  ₹559   \n",
       "99       ROYAL SON     Polarized, UV Protection Round Sunglasses (49)  ₹664   \n",
       "\n",
       "   Discount%  \n",
       "0    71% off  \n",
       "1    88% off  \n",
       "2    88% off  \n",
       "3    43% off  \n",
       "4    36% off  \n",
       "..       ...  \n",
       "95   66% off  \n",
       "96   76% off  \n",
       "97   78% off  \n",
       "98   30% off  \n",
       "99   66% off  \n",
       "\n",
       "[100 rows x 4 columns]"
      ]
     },
     "execution_count": 170,
     "metadata": {},
     "output_type": "execute_result"
    }
   ],
   "source": [
    "# Creating DataFrame for the scraped data\n",
    "sunglasses = pd.DataFrame({})\n",
    "sunglasses[\"Brand\"] = glass_brand\n",
    "sunglasses[\"Product Description\"] = product_desc\n",
    "sunglasses[\"Price\"] = product_price\n",
    "sunglasses[\"Discount%\"] = Product_Discount\n",
    "sunglasses"
   ]
  },
  {
   "cell_type": "markdown",
   "metadata": {},
   "source": [
    "### Q7: Scrape 100 reviews data from flipkart.com for iphone11 phone. You have to go the \n",
    "link: https://www.flipkart.com/apple-iphone-11-black-64-gb-includes\u0002earpods-power\u0002adapter/p/itm0f37c2240b217?pid=MOBFKCTSVZAXUHGR&lid=LSTMOBFKCTSVZAXUHGREPBFGI&marketplace\n",
    "\n",
    "**1. Rating** \n",
    "\n",
    "**2. Review_summary** \n",
    "\n",
    "**3. Full review**\n",
    "\n",
    "**You have to scrape this data for first 100 reviews**"
   ]
  },
  {
   "cell_type": "code",
   "execution_count": null,
   "metadata": {},
   "outputs": [],
   "source": [
    "# Connecting to the webdriver\n",
    "driver = webdriver.Chrome('chromedriver.exe')"
   ]
  },
  {
   "cell_type": "code",
   "execution_count": 179,
   "metadata": {},
   "outputs": [],
   "source": [
    "# Getting the webpage of mentioned url\n",
    "url = ' https://www.flipkart.com/apple-iphone-11-black-64-gb-includes\u0002earpods-power\u0002adapter/p/itm0f37c2240b217?pid=MOBFKCTSVZAXUHGR&lid=LSTMOBFKCTSVZAXUHGREPBFGI&marketplace'\n",
    "driver.get(url)"
   ]
  },
  {
   "cell_type": "code",
   "execution_count": 180,
   "metadata": {},
   "outputs": [
    {
     "data": {
      "text/plain": [
       "<selenium.webdriver.remote.webelement.WebElement (session=\"497c58cabe896bd59367ec735137ede7\", element=\"64272a4b-2b04-415b-9772-5959f0a6ae74\")>"
      ]
     },
     "execution_count": 180,
     "metadata": {},
     "output_type": "execute_result"
    }
   ],
   "source": [
    "#Searching web elemnt for reviews\n",
    "search_reviews = driver.find_element_by_xpath(\"//div[@class='_3UAT2v _16PBlm']\")\n",
    "search_reviews"
   ]
  },
  {
   "cell_type": "code",
   "execution_count": 181,
   "metadata": {},
   "outputs": [],
   "source": [
    "# Cliking on view all\n",
    "search_all = driver.find_element_by_xpath(\"//div[@class='_3UAT2v _16PBlm']/span\")\n",
    "\n",
    "search_all.click()"
   ]
  },
  {
   "cell_type": "code",
   "execution_count": 182,
   "metadata": {},
   "outputs": [
    {
     "data": {
      "text/plain": [
       "['https://www.flipkart.com/apple-iphone-11-black-64-gb-includes-earpods-power-adapter/product-reviews/itm0f37c2240b217?pid=MOBFKCTSVZAXUHGR&lid=LSTMOBFKCTSVZAXUHGREPBFGI&marketplace=FLIPKART&page=1',\n",
       " 'https://www.flipkart.com/apple-iphone-11-black-64-gb-includes-earpods-power-adapter/product-reviews/itm0f37c2240b217?pid=MOBFKCTSVZAXUHGR&lid=LSTMOBFKCTSVZAXUHGREPBFGI&marketplace=FLIPKART&page=2',\n",
       " 'https://www.flipkart.com/apple-iphone-11-black-64-gb-includes-earpods-power-adapter/product-reviews/itm0f37c2240b217?pid=MOBFKCTSVZAXUHGR&lid=LSTMOBFKCTSVZAXUHGREPBFGI&marketplace=FLIPKART&page=3',\n",
       " 'https://www.flipkart.com/apple-iphone-11-black-64-gb-includes-earpods-power-adapter/product-reviews/itm0f37c2240b217?pid=MOBFKCTSVZAXUHGR&lid=LSTMOBFKCTSVZAXUHGREPBFGI&marketplace=FLIPKART&page=4',\n",
       " 'https://www.flipkart.com/apple-iphone-11-black-64-gb-includes-earpods-power-adapter/product-reviews/itm0f37c2240b217?pid=MOBFKCTSVZAXUHGR&lid=LSTMOBFKCTSVZAXUHGREPBFGI&marketplace=FLIPKART&page=5',\n",
       " 'https://www.flipkart.com/apple-iphone-11-black-64-gb-includes-earpods-power-adapter/product-reviews/itm0f37c2240b217?pid=MOBFKCTSVZAXUHGR&lid=LSTMOBFKCTSVZAXUHGREPBFGI&marketplace=FLIPKART&page=6',\n",
       " 'https://www.flipkart.com/apple-iphone-11-black-64-gb-includes-earpods-power-adapter/product-reviews/itm0f37c2240b217?pid=MOBFKCTSVZAXUHGR&lid=LSTMOBFKCTSVZAXUHGREPBFGI&marketplace=FLIPKART&page=7',\n",
       " 'https://www.flipkart.com/apple-iphone-11-black-64-gb-includes-earpods-power-adapter/product-reviews/itm0f37c2240b217?pid=MOBFKCTSVZAXUHGR&lid=LSTMOBFKCTSVZAXUHGREPBFGI&marketplace=FLIPKART&page=8',\n",
       " 'https://www.flipkart.com/apple-iphone-11-black-64-gb-includes-earpods-power-adapter/product-reviews/itm0f37c2240b217?pid=MOBFKCTSVZAXUHGR&lid=LSTMOBFKCTSVZAXUHGREPBFGI&marketplace=FLIPKART&page=9',\n",
       " 'https://www.flipkart.com/apple-iphone-11-black-64-gb-includes-earpods-power-adapter/product-reviews/itm0f37c2240b217?pid=MOBFKCTSVZAXUHGR&lid=LSTMOBFKCTSVZAXUHGREPBFGI&marketplace=FLIPKART&page=10',\n",
       " 'https://www.flipkart.com/apple-iphone-11-black-64-gb-includes-earpods-power-adapter/product-reviews/itm0f37c2240b217?pid=MOBFKCTSVZAXUHGR&lid=LSTMOBFKCTSVZAXUHGREPBFGI&marketplace=FLIPKART&page=2']"
      ]
     },
     "execution_count": 182,
     "metadata": {},
     "output_type": "execute_result"
    }
   ],
   "source": [
    "# Fetching all the URLs \n",
    "url = driver.find_elements_by_xpath(\"//nav[@class='yFHi8N']/a\")\n",
    "\n",
    "urls = []  #empty list\n",
    "for i in url:\n",
    "    urls.append(i.get_attribute('href'))\n",
    "urls"
   ]
  },
  {
   "cell_type": "code",
   "execution_count": 183,
   "metadata": {},
   "outputs": [
    {
     "data": {
      "text/plain": [
       "['5',\n",
       " '5',\n",
       " '5',\n",
       " '5',\n",
       " '5',\n",
       " '5',\n",
       " '5',\n",
       " '4',\n",
       " '5',\n",
       " '5',\n",
       " '5',\n",
       " '5',\n",
       " '5',\n",
       " '5',\n",
       " '5',\n",
       " '5',\n",
       " '5',\n",
       " '5',\n",
       " '5',\n",
       " '5',\n",
       " '4',\n",
       " '5',\n",
       " '5',\n",
       " '5',\n",
       " '5',\n",
       " '4',\n",
       " '5',\n",
       " '5',\n",
       " '5',\n",
       " '5',\n",
       " '5',\n",
       " '5',\n",
       " '5',\n",
       " '5',\n",
       " '4',\n",
       " '5',\n",
       " '5',\n",
       " '5',\n",
       " '5',\n",
       " '5',\n",
       " '5',\n",
       " '5',\n",
       " '5',\n",
       " '4',\n",
       " '5',\n",
       " '5',\n",
       " '5',\n",
       " '5',\n",
       " '5',\n",
       " '5',\n",
       " '5',\n",
       " '5',\n",
       " '5',\n",
       " '5',\n",
       " '5',\n",
       " '5',\n",
       " '5',\n",
       " '5',\n",
       " '5',\n",
       " '5',\n",
       " '5',\n",
       " '5',\n",
       " '4',\n",
       " '5',\n",
       " '5',\n",
       " '4',\n",
       " '5',\n",
       " '4',\n",
       " '5',\n",
       " '5',\n",
       " '5',\n",
       " '5',\n",
       " '5',\n",
       " '5',\n",
       " '5',\n",
       " '5',\n",
       " '5',\n",
       " '4',\n",
       " '5',\n",
       " '5',\n",
       " '5',\n",
       " '4',\n",
       " '5',\n",
       " '3',\n",
       " '5',\n",
       " '5',\n",
       " '5',\n",
       " '4',\n",
       " '5',\n",
       " '5',\n",
       " '5',\n",
       " '5',\n",
       " '3',\n",
       " '5',\n",
       " '5',\n",
       " '5',\n",
       " '5',\n",
       " '5',\n",
       " '5',\n",
       " '5']"
      ]
     },
     "execution_count": 183,
     "metadata": {},
     "output_type": "execute_result"
    }
   ],
   "source": [
    "# Scraping data for iphone ratings\n",
    "iphone_ratings= []  #empty list\n",
    "for i in urls:\n",
    "    driver.get(i)\n",
    "    Ratings = driver.find_elements_by_xpath(\"//div[@class='_3LWZlK _1BLPMq']\")\n",
    "    for i in Ratings:\n",
    "        iphone_ratings.append(i.text)\n",
    "iphone_ratings =iphone_ratings[:100]\n",
    "iphone_ratings"
   ]
  },
  {
   "cell_type": "code",
   "execution_count": 186,
   "metadata": {},
   "outputs": [
    {
     "data": {
      "text/plain": [
       "100"
      ]
     },
     "execution_count": 186,
     "metadata": {},
     "output_type": "execute_result"
    }
   ],
   "source": [
    "len(iphone_ratings)"
   ]
  },
  {
   "cell_type": "code",
   "execution_count": 184,
   "metadata": {},
   "outputs": [
    {
     "data": {
      "text/plain": [
       "['Simply awesome',\n",
       " 'Brilliant',\n",
       " 'Fabulous!',\n",
       " 'Perfect product!',\n",
       " 'Worth every penny',\n",
       " 'Great product',\n",
       " 'Worth every penny',\n",
       " 'Good choice',\n",
       " 'Highly recommended',\n",
       " 'Perfect product!',\n",
       " 'Perfect product!',\n",
       " 'Best in the market!',\n",
       " 'Highly recommended',\n",
       " 'Classy product',\n",
       " 'Highly recommended',\n",
       " 'Worth every penny',\n",
       " 'Perfect product!',\n",
       " 'Simply awesome',\n",
       " 'Worth every penny',\n",
       " 'Terrific',\n",
       " 'Nice product',\n",
       " 'Wonderful',\n",
       " 'Classy product',\n",
       " 'Brilliant',\n",
       " 'Must buy!',\n",
       " 'Good choice',\n",
       " 'Perfect product!',\n",
       " 'Wonderful',\n",
       " 'Terrific purchase',\n",
       " 'Great product',\n",
       " 'Simply awesome',\n",
       " 'Mind-blowing purchase',\n",
       " 'Terrific purchase',\n",
       " 'Simply awesome',\n",
       " 'Good quality product',\n",
       " 'Very poor',\n",
       " 'Perfect product!',\n",
       " 'Must buy!',\n",
       " 'Fabulous!',\n",
       " 'Mind-blowing purchase',\n",
       " 'Mind-blowing purchase',\n",
       " 'Wonderful',\n",
       " 'Worth every penny',\n",
       " 'Great product',\n",
       " 'Very Good',\n",
       " 'Perfect product!',\n",
       " 'Classy product',\n",
       " 'Perfect product!',\n",
       " 'Just wow!',\n",
       " 'Awesome',\n",
       " 'Terrific',\n",
       " 'Terrific purchase',\n",
       " 'Awesome',\n",
       " 'Classy product',\n",
       " 'Brilliant',\n",
       " 'Terrific',\n",
       " 'Perfect product!',\n",
       " 'Awesome',\n",
       " 'Perfect product!',\n",
       " 'Excellent',\n",
       " 'Very poor',\n",
       " 'Fabulous!',\n",
       " 'Excellent',\n",
       " 'Must buy!',\n",
       " 'Value-for-money',\n",
       " 'Brilliant',\n",
       " 'Terrific purchase',\n",
       " 'Good quality product',\n",
       " 'Perfect product!',\n",
       " 'Value-for-money',\n",
       " 'Just wow!',\n",
       " 'Super!',\n",
       " 'Awesome',\n",
       " 'Best in the market!',\n",
       " 'Highly recommended',\n",
       " 'Mind-blowing purchase',\n",
       " 'Must buy!',\n",
       " 'Excellent',\n",
       " 'Excellent',\n",
       " 'Pretty good',\n",
       " 'Wonderful',\n",
       " 'Worth every penny',\n",
       " 'Worth every penny',\n",
       " 'Nice product',\n",
       " 'Mind-blowing purchase',\n",
       " 'Does the job',\n",
       " 'Fabulous!',\n",
       " 'Classy product',\n",
       " 'Awesome',\n",
       " 'Pretty good',\n",
       " 'Classy product',\n",
       " 'Terrific',\n",
       " 'Terrific purchase',\n",
       " 'Awesome',\n",
       " 'Decent product',\n",
       " 'Super!',\n",
       " 'Fabulous!',\n",
       " 'Just wow!',\n",
       " 'Mind-blowing purchase',\n",
       " 'Excellent']"
      ]
     },
     "execution_count": 184,
     "metadata": {},
     "output_type": "execute_result"
    }
   ],
   "source": [
    "# Scraping data for iphone review summary\n",
    "review_sum= []  #empty list\n",
    "for i in urls:\n",
    "    driver.get(i)\n",
    "    rev_sum = driver.find_elements_by_xpath(\"//p[@class='_2-N8zT']\")\n",
    "    for i in rev_sum:\n",
    "        review_sum.append(i.text)\n",
    "review_sum =review_sum[:100]\n",
    "review_sum"
   ]
  },
  {
   "cell_type": "code",
   "execution_count": 187,
   "metadata": {},
   "outputs": [
    {
     "data": {
      "text/plain": [
       "100"
      ]
     },
     "execution_count": 187,
     "metadata": {},
     "output_type": "execute_result"
    }
   ],
   "source": [
    "len(review_sum)"
   ]
  },
  {
   "cell_type": "code",
   "execution_count": 185,
   "metadata": {},
   "outputs": [
    {
     "data": {
      "text/plain": [
       "['Really satisfied with the Product I received... It’s totally genuine and the packaging was also really good so if ur planning to buy just go for it.',\n",
       " 'The Best Phone for the Money\\n\\nThe iPhone 11 offers superb cameras, a more durable design and excellent battery life for an affordable price.\\n\\nCompelling ultra-wide camera\\nNew Night mode is excellent\\nLong battery life',\n",
       " 'This is my first iOS phone. I am very happy with this product. Very much satisfied with this. I love this phone.',\n",
       " 'Amazing phone with great cameras and better battery which gives you the best performance. I just love the camera .',\n",
       " 'Previously I was using one plus 3t it was a great phone\\nAnd then I decided to upgrade I am stuck between Samsung s10 plus or iPhone 11\\nI have seen the specs and everything were good except the display it’s somewhere between 720-1080 and it’s not even an amoled it’s an LCD display\\nBut I decided to go with iPhone because I have never used an IOS device I have Been an android user from the past 9 years I ordered IPhone 11 (128gb) product red\\nMy experience after using 3 weeks\\n1. The delivery ...\\nREAD MORE',\n",
       " 'Amazing Powerful and Durable Gadget.\\n\\nI’m am very happy with the camera picture quality, Amazing face id unlocked in dark room, Strong battery with perfect screen size as you can carry easily in pocket. This is my third iPhone.\\n\\nI shifted from android Samsung Note series to iPhone because of the strong build quality and peace of mind for next 3-4 years.\\n\\nDon’t think to much just go for it and I suggest you to go for minimum 128gb variant or more 256gb.\\n\\nI’ve attached my puppy pics and no fi...\\nREAD MORE',\n",
       " 'i11 is worthy to buy, too much happy with the product. Thank u flipkart I received the item on time..loved it..',\n",
       " 'So far it’s been an AMAZING experience coming back to iOS after nearly a decade but it’s not as versatile as android though phone is sturdy dropped it accidentally a couple of times and nothing happened fortunately camera is awesome',\n",
       " 'iphone 11 is a very good phone to buy only if you can compromise for the display. The display on this is device is pretty good but you can get other options with better displays in this price segment.\\nIf you can survive with an HD+ LCD panel with thicker bezels and a notch up top then this is a very good phone for you.\\nCameras are awesome, battery backup excellent, great performance and a decent premium look. Good job Apple !',\n",
       " 'It’s a must buy who is looking for an upgrade from previous generation of iPhones. If you are using XR then still you can hold on for sometime and upgrade to 2020 model else this phone is a must buy . Camera quality is amazing and wide angle is something to count upon. Performance wise it’s amazing and feels premium while holding in hand. So a big YES for this device. Go for 128 GB variant as the 4K videos will occupy lots of space and the storage can get over very quickly. Try to buy it with...\\nREAD MORE',\n",
       " 'Value for money❤️❤️\\nIts awesome mobile phone in the world ...\\nDisplay was very good and bright ..\\nTrust me freinds you r never regret after Buying..\\nJust go for it....\\nI love this phone and i switch to iphone x to 11',\n",
       " 'Great iPhone very snappy experience as apple kind. Upgraded from iPhone 7.\\nPros\\n-Camera top class\\n- Battery top performed\\n-Chipset no need to say as apple kind\\n-Security as you expect from apple\\n- Display super bright industry leading colour\\naccuracy and super responsive\\n-Build quality as expect from apple sturdy\\npremium durable beautiful stylish.\\n-Os most stable os in smartphone industry\\n\\nCons\\n-No 5G\\n-Display is not based on OLED technology\\n-Charger headphones and 1 apple stic...\\nREAD MORE',\n",
       " 'What a camera .....just awesome ..you can feel this iPhone just awesome . Good for gaming also ...try pubg in hd it’s just wow',\n",
       " 'Totally in love with this ❤ the camera quality is amazing just love it 😘😘😘 itsss dammnnnnnn amazing... Must buy iPhone 11 this is my best experience ever ☀👌👌🧡🧡🧡🧡🧡 thanku apple ❤',\n",
       " \"It's my first time to use iOS phone and I am loving my upgradation 😍😍 I love the color, I love the assebility of the phone....I need to learn more about its functionality, but as far as I have seen, it's quite easy and it has a lot of functions to work on, specially if you are a content writer or a blogger you get a lot of content creation platforms and they are really amazing.\\n\\nThis phone not only for good quality photography but a lot of other task too.😍💯\",\n",
       " 'Best budget Iphone till date ❤️ go for it guys without second thought. Let me explain you guys about Camera, Display, battery, and performance.\\n\\nCamera: at this price range there is no comparison of camera, you’ll love the picture quality as well as video quality. I am a Vlogger I wanted an iPhone with 4k video by front camera and I got this phone and I am more than happy 😃\\n\\nBattery: I use this phone roughly as I am active social media person and I have a youtube channel. so the battery ba...\\nREAD MORE',\n",
       " \"Iphone is just awesome.. battery backup is very very nice.. continuously for 10 hours we can use it.camera is just awesome.. display is just fab.i love it alot..i had to wait 15 days for it as i pre ordered it..overalll it's worth the price..these all images are clicked by my iPhone..and i love it.\",\n",
       " 'Excellent camera, good performance, no lag. The lcd display is also good.. but difference come when we watch movie in prime and Netflix, the colours are not vibrant.. as we see in amoled display.. and the charger in box is of 5 watts.. takes more than 3 hours to charge from 0 to 100.. so guys be prepare to buy 18 watts charger . Finally I am an android user, it was my first Iapple phone, I promise u guys the iOS is so smooth.. overall the phone is damn good.... close eyes to buy it.. thanks t...\\nREAD MORE',\n",
       " 'It’s been almost a month since I have been using this phone. I upgraded from an iPhone 8. The main issue with my 8 was battery and this phone is just awesome when it comes to battery. It lasts a day and a half for me with my regular use , internet connected always with 4g\\nCan’t move forward without saying this. Battery of this phone is a life saver when I am traveling or at work when I don’t get the option to charge\\nCamera is superb. Front cam selfies and back cam photos are just awesome.\\n...\\nREAD MORE',\n",
       " 'Really worth of money. i just love it. It is the best phone ever.',\n",
       " 'Awesome Phone. Slightly high price but worth. Better than iPhone XR.\\nCamera is superb and wide angle camera is very clear.\\n12MP selfie camera is also very good.\\nA13 Chip gives a very good and smooth performance.',\n",
       " 'This is my first ever I phone. Before this I was using my google nexus 5. But moving from android to iOS is a great experience. It’s worth at this price. I will highly recommend it if you want to move to iOS. The best part of this phone is it’s camera and it’s battery life. This two things have won my heart. I loved it. Happy to have it in my hand. Still exploring its features. And can’t forget to mention Flipkart service. Very prompt service and fast delivery.',\n",
       " 'Superb Product !!!\\nA big and worthy upgrade from mi 3S to iphone 11 .\\nTotally loved it !',\n",
       " 'I have migrated from OP 7pro... and trust me, iPhone 11 is totally worth it.. following are the reasons:-\\n1)there is ABSOLUTELY NO ISSUE WITH THE DISPLAY... its crisp, sharp and I found it to be much much better than OP7 pro. Netflix, Prime video all run crisply... you won’t miss a thing. True Tone works flawlessly...the display brightness is perfect. OP have not calibrated their screens properly.\\n2) iPhone 11 series have really good cameras... others have spoken in depth about them.\\n3) bat...\\nREAD MORE',\n",
       " 'It’s an amazing product from apple and the camera is simply superb. Phone is faster.Night shot is simply superb and detailing and colour differentiation from camera is an added advantage\\n\\nThis review I have written from iPhone 11 only and I am glad to say outside.\\n\\nCons wise if we see HD+ display only, no battery percentage indicator as in older iPhone 8.\\nNo assistive touch control button in it\\nNo oleophobic coating on back panel glass and finger prints are visible but since I bought mint gr...\\nREAD MORE',\n",
       " 'Looking so good 👍 😍 super 👌 stylish 😎 phone\\nClean box 📦 good 👍 delivery 👌 fast delivery\\nOriginal box Original iphone 📱 👌 😍😍😍',\n",
       " 'After 1 month use I found camera quality best compared to my previous Samsung note 10+.Display not good as note 10 also charging too slow.Apple should add fast charger like 11 plus and pro.Best phone for daily use',\n",
       " 'I just directly switch from iphone 6s to iphone 11 .The best premium smartphone I recommend to everyone. Excellent quality and colors the iphone have in 11 series.\\nCamera quality is just awesome and the major feel when we hold in our hands. The sound quality and volume is also higher then the previous models.\\nI will recommend to buy iphone 11 instead of pro models , there is nothing much difference as this model contains everything which fulfill our needs.\\n\\nOnly one thing that I dislike abo...\\nREAD MORE',\n",
       " 'Upgraded from iphone 6 to 11 best phone for iphone users battery is much better than other iphones camera is awesome love to use it.camera is so clear in night.',\n",
       " 'Well you all know the specifications . One of a kind. Best iPhone till date. Many enhancements to the camera app with many options. Love the glass body with matte finish in the lens area on the back. Lovely colours to choose from. Best battery in an iPhone till date, enough to last more than a day in normal usage. I tested my iPhone 11 battery and lasted for than 24 hours after full charge still with 30% battery charge left. Watched movies for some time. Normal usage on calls, browsing, musi...\\nREAD MORE',\n",
       " \"It's very high performances devise i am like the service of flipkart delevary very fast and packing very nice perfect phone\",\n",
       " 'This will help you more. See if you are planning to buy iPhone 11. I will say. Yes. But there are some plans I just want to disclose before you buy. 1) If you are an existing iPhone X/XS/XS Max/ XR user, better you guys do not think it to buy. You guys have more or less better gadget. 2) If you are an android user and planning to buy premium phone. I will suggest them to please buy iPhone instead of buying an Android. I bet you will never go back to android after using IOS. Now I want to shar...\\nREAD MORE',\n",
       " 'The built quality is not very premium.\\nThe battery back is great .\\nThe LCD panel is not so sharp but the brightness level is very High .\\nCamera is super duper awesome.\\nThe red colour which people think is bright is actually very soothing and excellent colour to choose from .\\nThe A13 Bionic chip is really a flagship processor and can beat any phone which even has 12 gb ram .\\nCamera module is very great and looks very stylish.',\n",
       " 'Really good actually this is my first apple product am using its really awesome performance wise excellent. Am really happy with this iphone11',\n",
       " 'it is very good at performance. Camera is best like before and very smooth response even in water. Don’t buy 12 mini buy iPhone 11 , it is far better than 12 mini believe me ! Have a nice day \\uf8ff ☺️',\n",
       " 'Reviewing again after 5 months. At the beginning the battery and performance was good but it degraded soon. Also I was facing heating issues. The mobile will heat up like a stove sometimes. You cannot even play Pubg even in low settings properly, performance is not a problem but heating is. Also if you play that game for 10 mins the brightness will be automatically down due to over heating even when the auto brightness is set to off. This will not be solved even if u manually increase the bri...\\nREAD MORE',\n",
       " 'It is just awesome mobile for this price from Apple,\\n\\nAfter 10 days review\\n\\nBattery enough for 1 day even 24*7 Internet will be on and mostly internet usage\\n\\nCamera is just awesome cool , android 64 MP is equal to this just 12 MP\\n\\nA13 Bionic chip will give more high performance without hanging\\n\\nAudio stereo speakers will give Dolby atoms sound with crystal clear\\n\\nVideo recording is like cinematic shots of every sec can be a 4K 60fps. Just awesome this phone\\niPhone 11 loved one',\n",
       " 'Best Apple iPhone that i have bought at a very reasonable price, camera quality is next level just awesome n of superior quality android phones not even close(RIP) to that and also battery is really good but packaging by Flipkart of iPhone was very poor of such a expensive product, firstly im bit worried about the quality of product if i purchased it through online how was the product but i think now this was mine best decision to bought it through Flipkart online because i got genuine Apple...\\nREAD MORE',\n",
       " \"I can say I'm damn impressed with iPhone 11. As they says iPhone 11 have the toughest glass ever in the smartphone which you'll find on the front and back and it's totally smooth. The fit and finish is full apple quality - there's no sense that any cheaping out has happened in the construction. Without saying it's camera features this review won't complete. The iPhone 11 has a dual camera system, consisting of a wide angle len's that's pretty much same as found on the iPhone XR last year, but...\\nREAD MORE\",\n",
       " 'Best Quality Product OF iPhone Series , Sound Quality & Camera quality is very awesome, Battery Life is very Sufficient for 24 hr Backup With Full Internet Access , I love this this Product too much , It is very fast & making me Very fast in all my daily Routine\\nHighlights;\\n1.Camera: 5 STAR\\n2.Video Recording: 5 star\\n3.Night mODE sHOOTING & Camera:4 star\\n4. Audio Quality: Awesome\\n5. Battery : 5 Star\\n6. Touch:5 Star\\n7. Processor: Very Fast\\nThe M...\\nREAD MORE',\n",
       " 'First thanks to Flipkart for this amazing deal and phone is outstanding. I upgraded from iPhone 7 and this is like very big upgrade. But the packaging was very basic I expected a good packaging as they only wrapped one layer of bubble wrap which I don’t think is enough to protect this expensive phone. And I recommend this phone and seller as well.\\n\\nAnd I’m posting this review after using it for 4 days.',\n",
       " 'Superfast delivery by Flipkart. Thanks.\\n\\n1. iPhone 11 is a pretty solid phone for the money you are paying.\\n2. All the bad reviews about the display is confusing. It’s not that bad.\\n3. I switched from a Oneplus 7t. I have no complaints about the display quality of iPhone. Yes, it’s not OLED, so, we are missing on the deep blacks. But that’s it. It is a very colour accurate display. Gets adequately bright and I could not find any pixelation.\\n4. Performance is one of the best, if not best, in ...\\nREAD MORE',\n",
       " 'Smooth like butter, camera like fantabulous, sound is crystal clear & its red color is damn attractive, i am just loving it. Must buy if you love photography.\\n\\nLucky to get it in sale, thank you Flipkart.',\n",
       " \"Again back to apple iphone after a gap of 2-3 years. It's pleasure to use iOS and the quality product by Apple. Iphone 11 still works like a beast in 2021 also. It really capable of doing day to day usage as well as hard core gaming. Battery is awesome. I'm really too much satisfied with it. Apart fto the very gorgious IPS LCD (AMOLED will be better) everything is mind boggling. Iphone💕.\",\n",
       " 'impressive super phone and best in class camera ,sound and face unlock is super fast just see and phone is unlock and fast in daily apps use',\n",
       " 'Battery backup is extraordinary, camera is decent & performance offered by A13 bionic is awsome. The display is good in practical usage like the visibility of display is very good in direct sun light compare to pro models. Iam extremely satisfied for the money I spent.',\n",
       " 'Well while switching from android to iOS the first thing you need to be careful about is that you will loose all your whatsapp chat backups as both are different operating systems. Camera clarity is awesome and though being an lcd screen clarity and resolution is good. Battery backup is also good unlike previous gen iPhone. So far the experience is good will Padre after a few months of usage.\\n\\nP.S the black is more of a dark grey shade and not jet black',\n",
       " 'In love with this iphone great performance,camera ,battery everything. Go for it have a uncompareble battery backup, no doubts in iPhone camera here You can see the picture which is shot on my iPhone In love with this iphone great performance,camera ,battery everything. Go for it have a uncompareble battery backup, no doubts in iPhone camera here You can see the picture which is shot on my iPhone In love with this iphone great performance,camera ,battery everything. Go for it have a uncompare...\\nREAD MORE',\n",
       " 'Best in class. Battery backup is good especially when you play games like Pubg COD. But it is sort of heavy when you hold in hands. Portrait mode is best to click pictures. Stage light effect is awesome. Try to click photos outside in nature because photos inside home or room will not give you the quality in any phone even in DSLR.',\n",
       " 'Very excited to have this phone. This phone has the real power unlike the android phones having SD 855 . The battery life is very good and the camera quality is excellent as comapred to redmi and other phones except google pixel. I M enjoying every single bit of it. Would recommed only if you have the budget.',\n",
       " \"I upgraded (downgraded?) from my iPhone X since the phone fell down and I didn't want to repair the screen. The box that the phone came in was super slim and I was worried that there'd be no 5W charger with it and my fears were confirmed. However, thankfully I had the 18W USB-C PD charger from Apple which I bought for my iPhone X and it worked perfectly. The charging time is as lethargic as ever though and it takes about 1:30 mins or even 2 hours depending on charge remaining. I'll list some ...\\nREAD MORE\",\n",
       " 'Its Very awesome product working and good camera quality and all about best product and also flipkart is very great deal and offer nice price',\n",
       " 'I am using this phone for 5 days and its one of the best camera out there ❤️ the screen is not oled and i am coming from iphone xs so its little bit not up to the mark i would say\\nBut overall value for money💕😍the battery back up is far better than my iphone xs and its worth in my apple ecosystem💫❤️if u are an apple User and have the eco system then go for it❤️though i will be getting the new iphone but its pretty good💫',\n",
       " 'Best and amazing product.....phone looks so premium.... battary is also good as expected .... Wide angle camera is so addictive ...if you are a IOS lover....then this phone will be the best choice for you all!!💯🔥',\n",
       " 'Excellent camera and display touching very nice and smooth very improvement against iPhone XR and new processor is very fast',\n",
       " \"I got this beast today. And I must say the picture quality of its camera is awesome. Both the cameras works fine.\\n\\nAs for as the processing is concerned, it runs without any lag. You can play and do whatever you want without a glitch.\\n\\nThe battery runs for a day with medium and high workload.\\n\\nThe display is good and the speakers are working fine.\\n\\nThe earphones doesn't have any base and you can use it for calling mostly.\\n\\nThe charging time is approximately for 90 minutes for full charging...\\nREAD MORE\",\n",
       " 'Awesome purchase. Amazing phone with good battery backup. It’s a top notch device. White colour looks amazing. Phone has a few extra feature than iPhone XR. Overall, this is value for money',\n",
       " 'Always love the apple products, upgraded from old iPhone 6S plus to this after having my first baby. I just love to click baby’s photos with it. Overall I just love this phone. Battery back up is okay, sound quality is good. Haven’t tested yet waterproof yet. Only one thing I hate is apple could have given charger & headphones in box.',\n",
       " 'Value for money\\n5 star rating\\nExcellent camera\\nBattery backup full day in single charge.\\n\\nTougher and water resistant design, glossy back.\\nThe screen has excellent brightness and contrast.\\nApple A13 Bionic is the fastest smartphone chip on the planet.\\nExcellent battery life, fast charging support.\\nStereo speakers with great quality.',\n",
       " 'Amazing camera and feel super machine I am not describe my feeling but this is amazing Phone I am so lucky I have this',\n",
       " 'Please DONT buy from here,\\n\\nI purchased Apple iPhone 11. with an exchange of IPhone 7, the exchange did not go well, iPhone 7 had a small scratch out side screen which i could never identify till date, but the FLIPKART person could, so he reduced 50% from exchange rate. I decided not to trade in, but paid money.\\n\\niPhone 11 Detail Below\\n---------------------------------------------\\nIt came with no charging, then i have put for charging, it took lot of time for charging, the phone also showe...\\nREAD MORE',\n",
       " 'awesome phone to have. it has got many smart features apart from mind blowing looks, camera, display, battery and sound. have fallen in love with this phone. must buy phone if you have got enough money. thanks to flipkart and apple of course..',\n",
       " 'Its a fabulous mobile look awesome performance unbeaten camera like dslr battery good i think this is a beast of mobile',\n",
       " 'Dear friends... I want to share my experience with you about this amazing I phone 11....this is my first iPhone and special things about this mobile is it has great camera, battery backup and awesome display.... I mean everything is perfect.loved it 👍👍👍',\n",
       " \"Just got this iphone 11\\nAnd it is most powerful mobile phone I have used ever\\n\\nSo,go for it if you want a phone with best specification like camera,battery backup,display, A13 bionic chip\\n\\nThat's my review about this phone but yours can be differ from me....\",\n",
       " 'Amazing phone and on great deal I received with super fast delivery by Flipkart...',\n",
       " 'finally an iPhone with very nice battery backup. update from iPhone 7 and happy to have it. camera is not up to the mark in low light but overall a recommended phone if your budget allows 😀',\n",
       " \"I'm switching this phone to oppo reno 10x zoom\\nIt's really impressive\\nRarely I'm missing smooth display touch response like oppo reno but\\nI really loved it.\\nCamera really impressive\",\n",
       " 'Worth the money’ starting first from its performance it beats out all phones , second the smoothness of camera is awesome, contrast ratio is much than expected. Price will not matter if u r a quality person, if not other phones are available with better discount',\n",
       " \"I'm Really happy with the product\\nDelivery was fast as well\\n..it was a gift for my sister and she loved it so much.\",\n",
       " 'Great iphone.\\nI am writing this review after 2 months of usage.\\nCamera is excellent, especially the nightmode\\nDisplay perfect\\nBattery backup awesome\\nSound quality very good\\nOverall Apple gives you a perfect iphone in this range.\\nReally in love with iPhone 11',\n",
       " 'Did an upgrade from 6s plus to iphone 11.\\nAo far the experience is well and good. Felt smoother than 6s plus. The camera quality is superb. Battery backup is descent. Not a heavy user, and gets power more than a day. Go for it if you need an alrounder iphone in a competitve price.',\n",
       " 'I dreamt about this day from a long time.... Getting an iPhone with my own money.... Super happy and worth spending every penny',\n",
       " 'Damn this phone is a blast . Upgraded from android to ios and is a duperb experience. Battery backup is top notch and display also pretty good',\n",
       " 'Thanks Flipkart For this amazing deal! I had a dream of owning a iphone since i had known about.\\nIm very happy with my purchase & it is totally worth it.\\nAmazing experience all over !!\\n\\nAnyone who’s thinking of buying it in 2021, i would simply say go for it without any second thoughts ❤️',\n",
       " 'awesome Phone Smooth Touch Too good Sexyy looks one word Awesome',\n",
       " 'I rate this product 5* as it has got amazing user experience with the best performing A13 bionic processor. The screen responds and graphics rendering is top notch. With casual gaming and internet browsing, the battery lasts for approx. 1 day. Camera is very good. You will fall in love with the portrait mode. You can call me a loyal Apple customer or whatever but I won’t stop praising the products and overall experience. That user experience matters and is worth every penny you pay.\\n\\nBelow ar...\\nREAD MORE',\n",
       " \"It was amazing experience for me. Honestly i am using iPhone first time so I don't have that much past experience about that. But after using 7 days this mobile i want to give some honest feedback.\\n1- Display 9 out of 10\\n2- Camera 9.5 out of 10\\n3- Battery 7 out of 10\\n4- Performance 9.5 out of 10\\n5- Features & Functions 10 out of 10\\n6- Outer looks and colour 10 out of 10\\nRest i think i will understand after using this for few months.\\nI will highly recommend you guys if you have budget then you...\\nREAD MORE\",\n",
       " \"Just go for it.\\nThis phone is really amazing. I ordered it for my wife and we click photos on this thing which are better than dslr. I own OnePlus 6t but it's camera sucks. iPhone is really amazing when it comes to camera. It's worth spending 50k on this. Cons- only display is lcd. While using u don't feel it but if u compare with other phone then u can see difference quite easily.\\nChanging from Android to iphone is bit difficult coz most of things u don't know but I liked it. Some of the a...\\nREAD MORE\",\n",
       " \"I've used this phone for over a month now and here are my takeaways.\\nI would like to first talk about the best things about this phone and then the cons of it.\\n\\nPros:\\nThis phone is a performance beast. It handles large games and applications effortlessly and you won't find any stutters or lags while playing graphic intensive games like pubg, cod , mortal kombat and asphalt.\\n\\nThis phone has only 4gb ram and yet the ram management is amazing, it can keep 3 heavy games in memory without reload...\\nREAD MORE\",\n",
       " 'Nice value for money good and best price I phone mind blowing camera processor very fast other android mobile I am happy India top selling phone 2020',\n",
       " 'Here is the thing\\n\\nThe only reason why you should buy this phone is for the camera, iOS, and if you have headaches looking at AMOLED display.\\n\\nI’m not an avid gamer but watch a lot of movies on smartphone. However, my migraine attacks increased considerably after using AMOLED Smartphone. That’s why I made a calculated decision to buy iPhone 11. It has the best LCD display and the blacks, though not as natural as an AMOLED, is better than some of the other smartphones.\\n\\nAdding to this the ste...\\nREAD MORE',\n",
       " 'Undoubtedly Iphone 11 is the most successful model till now and its performance is extraordinary and the security features are very impressive, display is more vibrant sound quality Camera Quality 5*****, but Iphone should add accessories too and act like scrooge.',\n",
       " \"If you are looking for a premium phone under 55k, this is the one for you.Got the iPhone 11 during the Republic day sale. Performance is top notch in this price range. Camera's do a perfect job in taking good quality photos and videos. Battery backup too is satisfactory. Writing this review after using for a week. Any further observations would be updated.\",\n",
       " 'Absolutely powerful gadget. Loved it’s look! Soo glassy and classy. I would definitely recommend this model of Apple. Only disappointed with the 5W charger, one should purchase an 18W adapter for fast charging. Though battery backup is great. Bought it in September 2020, reviewing after so long so I’m gonna put the genuine review here.✅',\n",
       " \"phone is good but in display is 720p lcd in this price range we can get full hd OLED displays with higher refresh rate processor is very good camera is nice but looks kind of oldish in front of todays phone also there's no charging in box had to buy it seperately\",\n",
       " 'I purchased the iPhone 11 a month back. I must say Apple has impressed me yet again . I have been an Apple user for past 5 years . The phone is power packed with amazing features . What impressed me the most was the battery backup the phone offers . Battery can easily run upto 1.5 days in single charge with moderate to\\nHeavy usage . If you’re looking for a value for money device , I don’t see any other phone in the price range which can match the iPhone 11 .\\nOne thing I didn’t like was that ...\\nREAD MORE',\n",
       " 'We are on apple ecosystem for almost eight years now with couple of iPads and iPhones, including Xr.\\n\\nBought iPhone 11 as a gift to my daughter who loves it. We chose for a purple coloured one. Believe me it is gorgeous and towards the lighter shade. Dazzling and brilliant!\\n\\nThe phone is great and does excellent RAM management like any other Apple device.\\n\\nThe screen, though a LCD and lesser ppi as compared to other flagship phones of competitor brands, is a delight to watch with perfect re...\\nREAD MORE',\n",
       " 'Can’t beat the software and hardware integration of apple.\\nPerforms like a beast. Great quality camera\\n6-7 hours screen on time which is good. Nothing much to complaint about the screen. Good connectivity speeds.\\nGreat buy and Flipkart’s delivery top notch as usual',\n",
       " 'I was using Iphone 6s and also Oneplus 6t. Both mobiles were perfectly alright in Photos, gaming, and smooth interface . My 6s mobile getting battery issue. thought upgrade to 11. Really like this mobile of its Internal storage (compare to 6s) , camera and its touch feeling. Its a worth buying mobile for me.',\n",
       " 'Gifted my man on his 30th birthday 🎂 He loves it.. Him happy so i am more than happy 😍😘❤️🥰',\n",
       " 'I bought iPhone 11 On March 2021, And I am Writing this review after using the phone for 4 Months. I would Say Everything is fine, Top Performance, Nice Camera as Anyone would Expect from any series of iPhone but when the Question comes to Battery it is complicated. The Battery is fully optimised and it comes 3110 mAh capacity but the problem is with the charger. Honestly Apple Removed charger from in Box items in the name of Environment and they are also forcing us to buy any 20W PD 3rd part...\\nREAD MORE',\n",
       " 'I use a Note10+ and have been using both iOS and Android devices.\\n\\nCamera has really good features and portraits are super good, better than Samsung flagship. Overall camera setup can still be enhanced and hopeful for better upgrades on software in next release\\n\\nOperating system is quite a breeze and user experience of daily usage is very high as compared to Android. I moved to iOS very swiftly in 2 days for all my office work from Note10+\\n\\nBattery holds up quite well with 4 hrs of call and ...\\nREAD MORE',\n",
       " 'The phone is completely good\\nAs far as camera Apple is king of it\\nAnd its a beast in performance\\nAnd the battery is pretty good too',\n",
       " 'Everything u ll like it when u use this iPhone. Simple changes only not many to lower models but it’s nice to use. Little heavy compared to previous models like 7,8',\n",
       " 'This is my first ever iPhone.\\nAnd I truly don’t regret switching to IOS from my Android.\\n\\nIt is easily an alternative to a DSLR camera.\\nIf you’re obsessed with photos and videos, just don’t think twice or don’t compare to other androids(Samsung S10 lite or OnePlus 8/8T), as it’s far better from them in every field.\\nComparing will only make you confused.\\n\\nI am getting an average Screen on Time of around 10 hours with 30 percent left. I haven’t let my device discharged below 30 % as it aff...\\nREAD MORE',\n",
       " 'Everything is perfect pictures come out so clearly and at first I wasn’t sure when I got it then when I started to use it and get the hang of it it was amazing!! I can’t wait to see what the next future phones will be like. The screen display on this bad boy are unbelievable they are so clear and never fail me. The performance is super cool there is a lot of cool features as well I like this phone because I feel that it is easy to use and one of my favorite things about this phone is the Face...\\nREAD MORE',\n",
       " 'The ultimate performance\\nCamera is superb\\nThe battery backup also very good i never saw iphone gives this much of battery backup\\nIf any one wana buy iphone 11 definitely i will recommend this mobile\\nIt has the better battery and powerfull processer peak performance glorious camera and the display also 100% high quality lcd display if u had money for for 12 if u dont wana invest much money on that then go for iphone 11 it has maximum same specs only main difference between the 12 and 11 is...\\nREAD MORE',\n",
       " 'Excellent camera 📸 And Display touching very Nice And Smooth and very improvement against\\nI phone 11 and new processor is very fast',\n",
       " 'A perfect phone and a good battery super camera and the sound is dynamic overall the phone is perfect for upgrading from lower iPhone model to iPhone 11']"
      ]
     },
     "execution_count": 185,
     "metadata": {},
     "output_type": "execute_result"
    }
   ],
   "source": [
    "# Scraping data for iphone full review summary\n",
    "full_review_sum= []  #empty list\n",
    "for i in urls:\n",
    "    driver.get(i)\n",
    "    Review = driver.find_elements_by_xpath(\"//div[@class='t-ZTKy']\")\n",
    "    for i in Review:\n",
    "        full_review_sum.append(i.text)\n",
    "full_review_sum = full_review_sum[:100]\n",
    "full_review_sum"
   ]
  },
  {
   "cell_type": "code",
   "execution_count": 188,
   "metadata": {},
   "outputs": [
    {
     "data": {
      "text/plain": [
       "100"
      ]
     },
     "execution_count": 188,
     "metadata": {},
     "output_type": "execute_result"
    }
   ],
   "source": [
    "len(full_review_sum)"
   ]
  },
  {
   "cell_type": "code",
   "execution_count": 189,
   "metadata": {},
   "outputs": [
    {
     "data": {
      "text/html": [
       "<div>\n",
       "<style scoped>\n",
       "    .dataframe tbody tr th:only-of-type {\n",
       "        vertical-align: middle;\n",
       "    }\n",
       "\n",
       "    .dataframe tbody tr th {\n",
       "        vertical-align: top;\n",
       "    }\n",
       "\n",
       "    .dataframe thead th {\n",
       "        text-align: right;\n",
       "    }\n",
       "</style>\n",
       "<table border=\"1\" class=\"dataframe\">\n",
       "  <thead>\n",
       "    <tr style=\"text-align: right;\">\n",
       "      <th></th>\n",
       "      <th>Ratings</th>\n",
       "      <th>Review Summary</th>\n",
       "      <th>Full Review</th>\n",
       "    </tr>\n",
       "  </thead>\n",
       "  <tbody>\n",
       "    <tr>\n",
       "      <th>0</th>\n",
       "      <td>5</td>\n",
       "      <td>Simply awesome</td>\n",
       "      <td>Really satisfied with the Product I received.....</td>\n",
       "    </tr>\n",
       "    <tr>\n",
       "      <th>1</th>\n",
       "      <td>5</td>\n",
       "      <td>Brilliant</td>\n",
       "      <td>The Best Phone for the Money\\n\\nThe iPhone 11 ...</td>\n",
       "    </tr>\n",
       "    <tr>\n",
       "      <th>2</th>\n",
       "      <td>5</td>\n",
       "      <td>Fabulous!</td>\n",
       "      <td>This is my first iOS phone. I am very happy wi...</td>\n",
       "    </tr>\n",
       "    <tr>\n",
       "      <th>3</th>\n",
       "      <td>5</td>\n",
       "      <td>Perfect product!</td>\n",
       "      <td>Amazing phone with great cameras and better ba...</td>\n",
       "    </tr>\n",
       "    <tr>\n",
       "      <th>4</th>\n",
       "      <td>5</td>\n",
       "      <td>Worth every penny</td>\n",
       "      <td>Previously I was using one plus 3t it was a gr...</td>\n",
       "    </tr>\n",
       "    <tr>\n",
       "      <th>...</th>\n",
       "      <td>...</td>\n",
       "      <td>...</td>\n",
       "      <td>...</td>\n",
       "    </tr>\n",
       "    <tr>\n",
       "      <th>95</th>\n",
       "      <td>5</td>\n",
       "      <td>Super!</td>\n",
       "      <td>This is my first ever iPhone.\\nAnd I truly don...</td>\n",
       "    </tr>\n",
       "    <tr>\n",
       "      <th>96</th>\n",
       "      <td>5</td>\n",
       "      <td>Fabulous!</td>\n",
       "      <td>Everything is perfect pictures come out so cle...</td>\n",
       "    </tr>\n",
       "    <tr>\n",
       "      <th>97</th>\n",
       "      <td>5</td>\n",
       "      <td>Just wow!</td>\n",
       "      <td>The ultimate performance\\nCamera is superb\\nTh...</td>\n",
       "    </tr>\n",
       "    <tr>\n",
       "      <th>98</th>\n",
       "      <td>5</td>\n",
       "      <td>Mind-blowing purchase</td>\n",
       "      <td>Excellent camera 📸 And Display touching very N...</td>\n",
       "    </tr>\n",
       "    <tr>\n",
       "      <th>99</th>\n",
       "      <td>5</td>\n",
       "      <td>Excellent</td>\n",
       "      <td>A perfect phone and a good battery super camer...</td>\n",
       "    </tr>\n",
       "  </tbody>\n",
       "</table>\n",
       "<p>100 rows × 3 columns</p>\n",
       "</div>"
      ],
      "text/plain": [
       "   Ratings         Review Summary  \\\n",
       "0        5         Simply awesome   \n",
       "1        5              Brilliant   \n",
       "2        5              Fabulous!   \n",
       "3        5       Perfect product!   \n",
       "4        5      Worth every penny   \n",
       "..     ...                    ...   \n",
       "95       5                 Super!   \n",
       "96       5              Fabulous!   \n",
       "97       5              Just wow!   \n",
       "98       5  Mind-blowing purchase   \n",
       "99       5              Excellent   \n",
       "\n",
       "                                          Full Review  \n",
       "0   Really satisfied with the Product I received.....  \n",
       "1   The Best Phone for the Money\\n\\nThe iPhone 11 ...  \n",
       "2   This is my first iOS phone. I am very happy wi...  \n",
       "3   Amazing phone with great cameras and better ba...  \n",
       "4   Previously I was using one plus 3t it was a gr...  \n",
       "..                                                ...  \n",
       "95  This is my first ever iPhone.\\nAnd I truly don...  \n",
       "96  Everything is perfect pictures come out so cle...  \n",
       "97  The ultimate performance\\nCamera is superb\\nTh...  \n",
       "98  Excellent camera 📸 And Display touching very N...  \n",
       "99  A perfect phone and a good battery super camer...  \n",
       "\n",
       "[100 rows x 3 columns]"
      ]
     },
     "execution_count": 189,
     "metadata": {},
     "output_type": "execute_result"
    }
   ],
   "source": [
    "# Creating DataFrame for scraped data\n",
    "iphone_review = pd.DataFrame({})\n",
    "iphone_review[\"Ratings\"] = iphone_ratings\n",
    "iphone_review[\"Review Summary\"] = review_sum\n",
    "iphone_review[\"Full Review\"] = full_review_sum\n",
    "iphone_review"
   ]
  },
  {
   "cell_type": "markdown",
   "metadata": {},
   "source": [
    "### Q8: Scrape data for first 100 sneakers you find when you visit flipkart.com and search for “sneakers” in the search field.\n",
    "\n",
    "**You have to scrape 4 attributes of each sneaker :**\n",
    "    \n",
    "**1. Brand**\n",
    "\n",
    "**2. Product Description**\n",
    "\n",
    "**3. Price**\n",
    "\n",
    "**4. discount %**"
   ]
  },
  {
   "cell_type": "code",
   "execution_count": 194,
   "metadata": {},
   "outputs": [],
   "source": [
    "# Connecting to the webdriver\n",
    "driver = webdriver.Chrome('chromedriver.exe')"
   ]
  },
  {
   "cell_type": "code",
   "execution_count": 195,
   "metadata": {},
   "outputs": [],
   "source": [
    "# Getting the webpage of mentioned url\n",
    "url = 'https://www.flipkart.com/'\n",
    "driver.get(url)"
   ]
  },
  {
   "cell_type": "code",
   "execution_count": 197,
   "metadata": {},
   "outputs": [
    {
     "data": {
      "text/plain": [
       "<selenium.webdriver.remote.webelement.WebElement (session=\"f8c62ab64cec0c682c40333b394cc6cc\", element=\"b919d401-2588-4cd4-af72-d251a7474d2f\")>"
      ]
     },
     "execution_count": 197,
     "metadata": {},
     "output_type": "execute_result"
    }
   ],
   "source": [
    "#Searching web elemnet for first 100 sneakers\n",
    "search_sneakers = driver.find_element_by_xpath(\"//input[@class='_3704LK']\")\n",
    "search_sneakers"
   ]
  },
  {
   "cell_type": "code",
   "execution_count": 198,
   "metadata": {},
   "outputs": [],
   "source": [
    "# Entering sneakers in the search field\n",
    "search_sneakers.send_keys('sneakers')"
   ]
  },
  {
   "cell_type": "code",
   "execution_count": 201,
   "metadata": {},
   "outputs": [],
   "source": [
    "# Clicking on search button\n",
    "search_btn = driver.find_element_by_xpath(\"//button[@class='L0Z3Pu']\")\n",
    "search_btn.click()"
   ]
  },
  {
   "cell_type": "code",
   "execution_count": 202,
   "metadata": {},
   "outputs": [
    {
     "data": {
      "text/plain": [
       "['https://www.flipkart.com/search?q=sneakers&otracker=search&otracker1=search&marketplace=FLIPKART&as-show=on&as=off&page=1',\n",
       " 'https://www.flipkart.com/search?q=sneakers&otracker=search&otracker1=search&marketplace=FLIPKART&as-show=on&as=off&page=2',\n",
       " 'https://www.flipkart.com/search?q=sneakers&otracker=search&otracker1=search&marketplace=FLIPKART&as-show=on&as=off&page=3',\n",
       " 'https://www.flipkart.com/search?q=sneakers&otracker=search&otracker1=search&marketplace=FLIPKART&as-show=on&as=off&page=4',\n",
       " 'https://www.flipkart.com/search?q=sneakers&otracker=search&otracker1=search&marketplace=FLIPKART&as-show=on&as=off&page=5',\n",
       " 'https://www.flipkart.com/search?q=sneakers&otracker=search&otracker1=search&marketplace=FLIPKART&as-show=on&as=off&page=6',\n",
       " 'https://www.flipkart.com/search?q=sneakers&otracker=search&otracker1=search&marketplace=FLIPKART&as-show=on&as=off&page=7',\n",
       " 'https://www.flipkart.com/search?q=sneakers&otracker=search&otracker1=search&marketplace=FLIPKART&as-show=on&as=off&page=8',\n",
       " 'https://www.flipkart.com/search?q=sneakers&otracker=search&otracker1=search&marketplace=FLIPKART&as-show=on&as=off&page=9',\n",
       " 'https://www.flipkart.com/search?q=sneakers&otracker=search&otracker1=search&marketplace=FLIPKART&as-show=on&as=off&page=10',\n",
       " 'https://www.flipkart.com/search?q=sneakers&otracker=search&otracker1=search&marketplace=FLIPKART&as-show=on&as=off&page=2']"
      ]
     },
     "execution_count": 202,
     "metadata": {},
     "output_type": "execute_result"
    }
   ],
   "source": [
    "#Fetching all the URLs\n",
    "url = driver.find_elements_by_xpath(\"//nav[@class='yFHi8N']/a\")\n",
    "\n",
    "urls = []  #empty list\n",
    "for i in url:\n",
    "    urls.append(i.get_attribute('href'))\n",
    "urls"
   ]
  },
  {
   "cell_type": "code",
   "execution_count": 203,
   "metadata": {},
   "outputs": [
    {
     "data": {
      "text/plain": [
       "['DUCATI',\n",
       " 'DUCATI',\n",
       " 'Numenzo',\n",
       " 'Chevit',\n",
       " 'bluemaker',\n",
       " 'Magnolia',\n",
       " 'Chevit',\n",
       " 'Labbin',\n",
       " 'World Wear Footwear',\n",
       " 'Red Rose',\n",
       " 'Numenzo',\n",
       " 'DUCATI',\n",
       " 'Chevit',\n",
       " 'ASTEROID',\n",
       " 'BRUTON',\n",
       " 'Strollin',\n",
       " 'Shoes Bank',\n",
       " 'India hub',\n",
       " 'Chevit',\n",
       " 'aadi',\n",
       " 'PEHANOSA',\n",
       " 'Robbie jones',\n",
       " 'SCATCHITE',\n",
       " 'DUCATI',\n",
       " 'BRUTON',\n",
       " 'Chevit',\n",
       " 'believe',\n",
       " 'ROCKFIELD',\n",
       " 'luxury fashion',\n",
       " 'RODDICK SHOES',\n",
       " 'Nilatin',\n",
       " 'DUCATI',\n",
       " 'Creer',\n",
       " 'ROCKFIELD',\n",
       " 'World Wear Footwear',\n",
       " 'RODDICK SHOES',\n",
       " 'Nilatin',\n",
       " 'Kraasa',\n",
       " 'SPARX',\n",
       " 'Robbie jones',\n",
       " 'D-SNEAKERZ',\n",
       " 'Arohi',\n",
       " 'CALCADOS',\n",
       " 'DUCATI',\n",
       " 'T-ROCK',\n",
       " 'SPARX',\n",
       " 'India hub',\n",
       " 'DUCATI',\n",
       " 'BIRDE',\n",
       " 'bluemaker',\n",
       " 'World Wear Footwear',\n",
       " 'RODDICK SHOES',\n",
       " 'Ktiz',\n",
       " 'PUMA',\n",
       " 'PUMA',\n",
       " 'Labbin',\n",
       " 'Zsyto',\n",
       " 'World Wear Footwear',\n",
       " 'restinfoot',\n",
       " 'DUCATI',\n",
       " 'D-SNEAKERZ',\n",
       " 'Edoeviv',\n",
       " 'Zixer',\n",
       " 'Strollin',\n",
       " 'tigonis',\n",
       " 'Xylus',\n",
       " 'Nilatin',\n",
       " 'aadi',\n",
       " 'Chevit',\n",
       " 'Magnolia',\n",
       " 'Fzzirok',\n",
       " 'BRUTON',\n",
       " 'D-SNEAKERZ',\n",
       " 'SPARX',\n",
       " 'Robbie jones',\n",
       " 'DUCATI',\n",
       " 'Jokatoo',\n",
       " 'Jack Diamond',\n",
       " 'Ktiz',\n",
       " 'RODDICK SHOES',\n",
       " 'kardam&sons',\n",
       " 'luxury fashion',\n",
       " 'Robbie jones',\n",
       " 'DUCATI',\n",
       " 'WRIZT',\n",
       " 'SPARX',\n",
       " 'Zorth',\n",
       " 'DUCATI',\n",
       " 'Bonexy',\n",
       " 'Robbie jones',\n",
       " 'RED TAPE',\n",
       " 'RODDICK SHOES',\n",
       " 'PUMA',\n",
       " 'FILA',\n",
       " 'ROCKFIELD',\n",
       " 'DUCATI',\n",
       " 'SPARX',\n",
       " 'Creer',\n",
       " 'Labbin',\n",
       " 'Strollin']"
      ]
     },
     "execution_count": 203,
     "metadata": {},
     "output_type": "execute_result"
    }
   ],
   "source": [
    "# Scraping data for sneakers brand\n",
    "sneakers_brand= []  #empty list\n",
    "for i in urls:\n",
    "    driver.get(i)\n",
    "    Brand = driver.find_elements_by_xpath(\"//div[@class='_2WkVRV']\")\n",
    "    for i in Brand:\n",
    "        sneakers_brand.append(i.text)\n",
    "sneakers_brand =sneakers_brand[:100]\n",
    "sneakers_brand"
   ]
  },
  {
   "cell_type": "code",
   "execution_count": 204,
   "metadata": {},
   "outputs": [
    {
     "data": {
      "text/plain": [
       "100"
      ]
     },
     "execution_count": 204,
     "metadata": {},
     "output_type": "execute_result"
    }
   ],
   "source": [
    "len(sneakers_brand)"
   ]
  },
  {
   "cell_type": "code",
   "execution_count": 208,
   "metadata": {},
   "outputs": [
    {
     "data": {
      "text/plain": [
       "['Sneakers For Men',\n",
       " 'Unique & Perfect Collection Combo Pack of 02 Shoes for ...',\n",
       " 'casual for men (blue 06) Sneakers For Men',\n",
       " 'Sneakers For Men',\n",
       " 'Super Stylish & Trendy Combo Pack of 02 Pairs Sneakers ...',\n",
       " '5011-Latest Collection Stylish Casual Loafer Sneakers S...',\n",
       " 'Sneakers For Men',\n",
       " 'Sneakers For Men',\n",
       " '494 Perfect Sports Shoes for Running Training Hikking &...',\n",
       " \"Original Luxury Branded Fashionable Men's Casual Walkin...\",\n",
       " 'Combo Pack Of 4 Casual Shoes Loafer Shoes Sneakers For ...',\n",
       " \"White Sneaker For Men's/Boy's Sneakers For Men\",\n",
       " 'Fashionable casual sneakers shoes Sneakers For Men',\n",
       " 'Speed Set of 5 Pairs Sneakers Outdoors Casuals for Men ...',\n",
       " 'Sneakers For Men',\n",
       " 'Sneakers For Men',\n",
       " 'Sneakers Sneakers For Men',\n",
       " 'Modern & Trendy Collection Combo Pack of 02 Shoes for M...',\n",
       " 'Perfect & Affordable Combo Pack of 03 Pairs Casual Snea...',\n",
       " 'Luxury Fashionable casual sneaker shoes Sneakers For Me...',\n",
       " 'Sneakers for men(black_6) Sneakers For Men',\n",
       " 'Fashion Outdoor Canvas Casual Light Weight Lace-up Even...',\n",
       " 'Sneakers For Men',\n",
       " 'Men 5014 Latest Collection Stylish Casual Sports Loafer...',\n",
       " 'Series 7 Sneakers For Men',\n",
       " 'Black Sneaker For Men Sneakers For Men',\n",
       " 'SM-322 Sneakers For Men',\n",
       " 'Perfect & Affordable Combo Pack of 02 Pairs Sneakers Ou...',\n",
       " 'Modern Trendy Sneakers Shoes Sneakers For Men',\n",
       " 'Trend Sneakers For Men',\n",
       " 'Modern & Trendy Collection Combo Pack of 02 Shoes for M...',\n",
       " 'Casual Sneakers White Shoes For Men And Boys Sneakers F...',\n",
       " 'Men Boxer Sneakers For Men',\n",
       " 'Fashion Outdoor Canvas Casual Light Weight Lace-up Even...',\n",
       " 'casual for men (beige 06) Sneakers For Men',\n",
       " \"Casual , Partywear Sneakers Shoes For Men's And Boys Wh...\",\n",
       " 'Sneakers For Men',\n",
       " 'Sneakers For Men',\n",
       " 'Synthetic Leather Casual Partywear Wedding Sneakers Sho...',\n",
       " 'Men White Sneakers Sneakers For Men',\n",
       " 'Fashionable casual sneakers shoes Sneakers For Men',\n",
       " 'Sneakers For Men',\n",
       " 'Combo Pack of 4 Casual Shoes Sneakers For Men',\n",
       " 'casual for men (black 08) Sneakers For Men',\n",
       " 'Rockstyle Trending Multicolor Ultralight canvas Sport/ ...',\n",
       " 'Fashion Outdoor Canvas Casual Light Weight Lace-up Even...',\n",
       " 'Sneakers For Men',\n",
       " 'X-Ray Sneakers For Men',\n",
       " 'Acrux IDP Sneakers For Men',\n",
       " 'Sneakers For Men',\n",
       " 'Casual shoes Sneakers For Men',\n",
       " 'Sneakers For Men',\n",
       " 'Latest Collection-1227 Stylish Casual Sports Sneakers F...',\n",
       " \"Casual , Partywear Sneakers Shoes For Men's And Boys Re...\",\n",
       " \"Original Luxury Branded Fashionable Men's Casual Walkin...\",\n",
       " 'Luxury Fashionable casual sneaker shoes Sneakers For Me...',\n",
       " 'Sneakers For Men',\n",
       " 'Double protection Stylish & Comfortable Running & Sport...',\n",
       " 'White Sneaker For Men Sneakers For Men',\n",
       " 'Sneakers For Men',\n",
       " 'Super 445 Fashion Sneakers For Men',\n",
       " 'White Sneakers Sneakers For Men',\n",
       " 'Walking Shoes For Men (Black) Sneakers For Men',\n",
       " \"Casual , Partywear Sneakers Shoes For Men's And Boys Wh...\",\n",
       " 'Casual Sneakers Shoes For Men Sneakers For Men',\n",
       " 'Sneakers For Men',\n",
       " 'Combo Pack Of 4 Casual Shoes Loafer Shoes Sneakers For ...',\n",
       " 'Subtle Grace Canvas Shoes For Men',\n",
       " \"White Sneaker For Men's/Boy's Sneakers For Men\",\n",
       " 'Sneakers For Men',\n",
       " 'Sneakers For Men',\n",
       " 'Fashionable casual sneaker shoes Sneakers For Men',\n",
       " 'Sneakers For Men',\n",
       " 'Casual Sneakers White Shoes For Men Sneakers For Men',\n",
       " 'Sneakers For Men',\n",
       " 'SM-162 Sneakers For Men',\n",
       " 'EMAN Sneakers For Men',\n",
       " 'Sneakers For Men',\n",
       " 'Caracal Sneakers For Men',\n",
       " 'Sneakers For Men',\n",
       " 'Sneakers For Men',\n",
       " 'Fashion Outdoor Canvas Casual Light Weight Lace-up Even...',\n",
       " 'Sneakers For Men',\n",
       " \"Luxury Branded Fashionable Men's Casual Walking Partywe...\",\n",
       " 'Sneakers For Men',\n",
       " 'Sneakers For Men',\n",
       " 'Sneakers Sneakers For Men',\n",
       " 'Rigel IDP Sneakers For Men',\n",
       " 'Sneakers For Men',\n",
       " 'Sneakers For Men',\n",
       " 'Sneakers For Men',\n",
       " 'Combo pack of 2 casual sneaker shoes for men Sneakers F...',\n",
       " 'Combo Pack Of 4 Casual Shoes Loafer Shoes Sneakers For ...',\n",
       " 'Casual Sneakers Shoes For Men Sneakers For Men',\n",
       " 'Sneakers Sneakers For Men',\n",
       " 'Walking Shoes For Men (Black) Sneakers For Men',\n",
       " 'Puma Rebound LayUp SL Sneakers For Men',\n",
       " 'Sneakers For Men',\n",
       " 'Sneakers For Men',\n",
       " 'SM-675 Sneakers For Men']"
      ]
     },
     "execution_count": 208,
     "metadata": {},
     "output_type": "execute_result"
    }
   ],
   "source": [
    "# Scraping data for sneakers product description\n",
    "sneakers_desc= []  #empty list\n",
    "for i in urls:\n",
    "    driver.get(i)\n",
    "    description = driver.find_elements_by_xpath(\"//a[@class='IRpwTa']\")\n",
    "    for i in description:\n",
    "        sneakers_desc.append(i.text)\n",
    "sneakers_desc =sneakers_desc[:100]\n",
    "sneakers_desc"
   ]
  },
  {
   "cell_type": "code",
   "execution_count": 209,
   "metadata": {},
   "outputs": [
    {
     "data": {
      "text/plain": [
       "100"
      ]
     },
     "execution_count": 209,
     "metadata": {},
     "output_type": "execute_result"
    }
   ],
   "source": [
    "len(sneakers_desc)"
   ]
  },
  {
   "cell_type": "code",
   "execution_count": 210,
   "metadata": {},
   "outputs": [
    {
     "data": {
      "text/plain": [
       "['₹1,289',\n",
       " '₹399',\n",
       " '₹378',\n",
       " '₹420',\n",
       " '₹399',\n",
       " '₹356',\n",
       " '₹536',\n",
       " '₹1,259',\n",
       " '₹240',\n",
       " '₹299',\n",
       " '₹426',\n",
       " '₹449',\n",
       " '₹254',\n",
       " '₹474',\n",
       " '₹399',\n",
       " '₹1,259',\n",
       " '₹331',\n",
       " '₹449',\n",
       " '₹679',\n",
       " '₹399',\n",
       " '₹424',\n",
       " '₹474',\n",
       " '₹398',\n",
       " '₹299',\n",
       " '₹499',\n",
       " '₹594',\n",
       " '₹399',\n",
       " '₹449',\n",
       " '₹399',\n",
       " '₹474',\n",
       " '₹407',\n",
       " '₹1,209',\n",
       " '₹398',\n",
       " '₹299',\n",
       " '₹240',\n",
       " '₹399',\n",
       " '₹416',\n",
       " '₹426',\n",
       " '₹635',\n",
       " '₹1,259',\n",
       " '₹348',\n",
       " '₹464',\n",
       " '₹748',\n",
       " '₹1,289',\n",
       " '₹378',\n",
       " '₹625',\n",
       " '₹449',\n",
       " '₹1,259',\n",
       " '₹624',\n",
       " '₹399',\n",
       " '₹429',\n",
       " '₹474',\n",
       " '₹240',\n",
       " '₹2,730',\n",
       " '₹1,350',\n",
       " '₹449',\n",
       " '₹555',\n",
       " '₹378',\n",
       " '₹341',\n",
       " '₹1,259',\n",
       " '₹240',\n",
       " '₹346',\n",
       " '₹474',\n",
       " '₹399',\n",
       " '₹359',\n",
       " '₹599',\n",
       " '₹407',\n",
       " '₹399',\n",
       " '₹348',\n",
       " '₹311',\n",
       " '₹360',\n",
       " '₹299',\n",
       " '₹384',\n",
       " '₹379',\n",
       " '₹506',\n",
       " '₹399',\n",
       " '₹806',\n",
       " '₹635',\n",
       " '₹378',\n",
       " '₹1,209',\n",
       " '₹449',\n",
       " '₹378',\n",
       " '₹379',\n",
       " '₹1,289',\n",
       " '₹279',\n",
       " '₹474',\n",
       " '₹635',\n",
       " '₹1,259',\n",
       " '₹474',\n",
       " '₹730',\n",
       " '₹951',\n",
       " '₹474',\n",
       " '₹4,999',\n",
       " '₹424',\n",
       " '₹379',\n",
       " '₹1,259',\n",
       " '₹378',\n",
       " '₹449',\n",
       " '₹449',\n",
       " '₹399']"
      ]
     },
     "execution_count": 210,
     "metadata": {},
     "output_type": "execute_result"
    }
   ],
   "source": [
    "# Scraping data for sneakers price\n",
    "sneakers_price= []  #empty list\n",
    "for i in urls:\n",
    "    driver.get(i)\n",
    "    price = driver.find_elements_by_xpath(\"//div[@class='_30jeq3']\")\n",
    "    for i in price:\n",
    "        sneakers_price.append(i.text)\n",
    "sneakers_price =sneakers_price[:100]\n",
    "sneakers_price"
   ]
  },
  {
   "cell_type": "code",
   "execution_count": 211,
   "metadata": {},
   "outputs": [
    {
     "data": {
      "text/plain": [
       "100"
      ]
     },
     "execution_count": 211,
     "metadata": {},
     "output_type": "execute_result"
    }
   ],
   "source": [
    "len(sneakers_price)"
   ]
  },
  {
   "cell_type": "code",
   "execution_count": 212,
   "metadata": {},
   "outputs": [
    {
     "data": {
      "text/plain": [
       "['65% off',\n",
       " '65% off',\n",
       " '62% off',\n",
       " '71% off',\n",
       " '60% off',\n",
       " '64% off',\n",
       " '66% off',\n",
       " '55% off',\n",
       " '51% off',\n",
       " '70% off',\n",
       " '78% off',\n",
       " '65% off',\n",
       " '74% off',\n",
       " '76% off',\n",
       " '88% off',\n",
       " '60% off',\n",
       " '66% off',\n",
       " '85% off',\n",
       " '72% off',\n",
       " '85% off',\n",
       " '57% off',\n",
       " '52% off',\n",
       " '60% off',\n",
       " '68% off',\n",
       " '80% off',\n",
       " '77% off',\n",
       " '69% off',\n",
       " '60% off',\n",
       " '60% off',\n",
       " '52% off',\n",
       " '68% off',\n",
       " '65% off',\n",
       " '60% off',\n",
       " '70% off',\n",
       " '51% off',\n",
       " '52% off',\n",
       " '58% off',\n",
       " '67% off',\n",
       " '9% off',\n",
       " '62% off',\n",
       " '47% off',\n",
       " '53% off',\n",
       " '62% off',\n",
       " '65% off',\n",
       " '62% off',\n",
       " '16% off',\n",
       " '85% off',\n",
       " '65% off',\n",
       " '68% off',\n",
       " '60% off',\n",
       " '66% off',\n",
       " '52% off',\n",
       " '51% off',\n",
       " '57% off',\n",
       " '59% off',\n",
       " '55% off',\n",
       " '44% off',\n",
       " '70% off',\n",
       " '65% off',\n",
       " '65% off',\n",
       " '51% off',\n",
       " '65% off',\n",
       " '40% off',\n",
       " '60% off',\n",
       " '80% off',\n",
       " '62% off',\n",
       " '68% off',\n",
       " '85% off',\n",
       " '30% off',\n",
       " '68% off',\n",
       " '63% off',\n",
       " '88% off',\n",
       " '61% off',\n",
       " '62% off',\n",
       " '66% off',\n",
       " '68% off',\n",
       " '15% off',\n",
       " '36% off',\n",
       " '62% off',\n",
       " '65% off',\n",
       " '55% off',\n",
       " '70% off',\n",
       " '87% off',\n",
       " '65% off',\n",
       " '72% off',\n",
       " '52% off',\n",
       " '9% off',\n",
       " '80% off',\n",
       " '52% off',\n",
       " '23% off',\n",
       " '69% off',\n",
       " '65% off',\n",
       " '57% off',\n",
       " '62% off',\n",
       " '52% off',\n",
       " '62% off',\n",
       " '55% off',\n",
       " '55% off',\n",
       " '65% off',\n",
       " '70% off']"
      ]
     },
     "execution_count": 212,
     "metadata": {},
     "output_type": "execute_result"
    }
   ],
   "source": [
    "# Scraping data for sneakers discount %\n",
    "sneakers_discount= []  #empty list\n",
    "for i in urls:\n",
    "    driver.get(i)\n",
    "    discount = driver.find_elements_by_xpath(\"//div[@class='_3Ay6Sb']/span\")\n",
    "    for i in discount:\n",
    "        sneakers_discount.append(i.text)\n",
    "sneakers_discount =sneakers_discount[:100]\n",
    "sneakers_discount"
   ]
  },
  {
   "cell_type": "code",
   "execution_count": 213,
   "metadata": {},
   "outputs": [
    {
     "data": {
      "text/plain": [
       "100"
      ]
     },
     "execution_count": 213,
     "metadata": {},
     "output_type": "execute_result"
    }
   ],
   "source": [
    "len(sneakers_discount)"
   ]
  },
  {
   "cell_type": "code",
   "execution_count": 215,
   "metadata": {},
   "outputs": [
    {
     "data": {
      "text/html": [
       "<div>\n",
       "<style scoped>\n",
       "    .dataframe tbody tr th:only-of-type {\n",
       "        vertical-align: middle;\n",
       "    }\n",
       "\n",
       "    .dataframe tbody tr th {\n",
       "        vertical-align: top;\n",
       "    }\n",
       "\n",
       "    .dataframe thead th {\n",
       "        text-align: right;\n",
       "    }\n",
       "</style>\n",
       "<table border=\"1\" class=\"dataframe\">\n",
       "  <thead>\n",
       "    <tr style=\"text-align: right;\">\n",
       "      <th></th>\n",
       "      <th>Brand</th>\n",
       "      <th>Product Description</th>\n",
       "      <th>Price</th>\n",
       "      <th>Discount %</th>\n",
       "    </tr>\n",
       "  </thead>\n",
       "  <tbody>\n",
       "    <tr>\n",
       "      <th>0</th>\n",
       "      <td>DUCATI</td>\n",
       "      <td>Sneakers For Men</td>\n",
       "      <td>₹1,289</td>\n",
       "      <td>65% off</td>\n",
       "    </tr>\n",
       "    <tr>\n",
       "      <th>1</th>\n",
       "      <td>DUCATI</td>\n",
       "      <td>Unique &amp; Perfect Collection Combo Pack of 02 S...</td>\n",
       "      <td>₹399</td>\n",
       "      <td>65% off</td>\n",
       "    </tr>\n",
       "    <tr>\n",
       "      <th>2</th>\n",
       "      <td>Numenzo</td>\n",
       "      <td>casual for men (blue 06) Sneakers For Men</td>\n",
       "      <td>₹378</td>\n",
       "      <td>62% off</td>\n",
       "    </tr>\n",
       "    <tr>\n",
       "      <th>3</th>\n",
       "      <td>Chevit</td>\n",
       "      <td>Sneakers For Men</td>\n",
       "      <td>₹420</td>\n",
       "      <td>71% off</td>\n",
       "    </tr>\n",
       "    <tr>\n",
       "      <th>4</th>\n",
       "      <td>bluemaker</td>\n",
       "      <td>Super Stylish &amp; Trendy Combo Pack of 02 Pairs ...</td>\n",
       "      <td>₹399</td>\n",
       "      <td>60% off</td>\n",
       "    </tr>\n",
       "    <tr>\n",
       "      <th>...</th>\n",
       "      <td>...</td>\n",
       "      <td>...</td>\n",
       "      <td>...</td>\n",
       "      <td>...</td>\n",
       "    </tr>\n",
       "    <tr>\n",
       "      <th>95</th>\n",
       "      <td>DUCATI</td>\n",
       "      <td>Walking Shoes For Men (Black) Sneakers For Men</td>\n",
       "      <td>₹1,259</td>\n",
       "      <td>62% off</td>\n",
       "    </tr>\n",
       "    <tr>\n",
       "      <th>96</th>\n",
       "      <td>SPARX</td>\n",
       "      <td>Puma Rebound LayUp SL Sneakers For Men</td>\n",
       "      <td>₹378</td>\n",
       "      <td>55% off</td>\n",
       "    </tr>\n",
       "    <tr>\n",
       "      <th>97</th>\n",
       "      <td>Creer</td>\n",
       "      <td>Sneakers For Men</td>\n",
       "      <td>₹449</td>\n",
       "      <td>55% off</td>\n",
       "    </tr>\n",
       "    <tr>\n",
       "      <th>98</th>\n",
       "      <td>Labbin</td>\n",
       "      <td>Sneakers For Men</td>\n",
       "      <td>₹449</td>\n",
       "      <td>65% off</td>\n",
       "    </tr>\n",
       "    <tr>\n",
       "      <th>99</th>\n",
       "      <td>Strollin</td>\n",
       "      <td>SM-675 Sneakers For Men</td>\n",
       "      <td>₹399</td>\n",
       "      <td>70% off</td>\n",
       "    </tr>\n",
       "  </tbody>\n",
       "</table>\n",
       "<p>100 rows × 4 columns</p>\n",
       "</div>"
      ],
      "text/plain": [
       "        Brand                                Product Description   Price  \\\n",
       "0      DUCATI                                   Sneakers For Men  ₹1,289   \n",
       "1      DUCATI  Unique & Perfect Collection Combo Pack of 02 S...    ₹399   \n",
       "2     Numenzo          casual for men (blue 06) Sneakers For Men    ₹378   \n",
       "3      Chevit                                   Sneakers For Men    ₹420   \n",
       "4   bluemaker  Super Stylish & Trendy Combo Pack of 02 Pairs ...    ₹399   \n",
       "..        ...                                                ...     ...   \n",
       "95     DUCATI     Walking Shoes For Men (Black) Sneakers For Men  ₹1,259   \n",
       "96      SPARX             Puma Rebound LayUp SL Sneakers For Men    ₹378   \n",
       "97      Creer                                   Sneakers For Men    ₹449   \n",
       "98     Labbin                                   Sneakers For Men    ₹449   \n",
       "99   Strollin                            SM-675 Sneakers For Men    ₹399   \n",
       "\n",
       "   Discount %  \n",
       "0     65% off  \n",
       "1     65% off  \n",
       "2     62% off  \n",
       "3     71% off  \n",
       "4     60% off  \n",
       "..        ...  \n",
       "95    62% off  \n",
       "96    55% off  \n",
       "97    55% off  \n",
       "98    65% off  \n",
       "99    70% off  \n",
       "\n",
       "[100 rows x 4 columns]"
      ]
     },
     "execution_count": 215,
     "metadata": {},
     "output_type": "execute_result"
    }
   ],
   "source": [
    "# Creating DataFrame for the scraped data\n",
    "sneakers = pd.DataFrame({})\n",
    "sneakers[\"Brand\"] = sneakers_brand\n",
    "sneakers[\"Product Description\"] = sneakers_desc\n",
    "sneakers[\"Price\"] = sneakers_price\n",
    "sneakers[\"Discount %\"] = sneakers_discount\n",
    "sneakers"
   ]
  },
  {
   "cell_type": "markdown",
   "metadata": {},
   "source": [
    "### Q9: Go to the link - https://www.myntra.com/shoes. Set Price filter to “Rs. 6649 to Rs. 13099” , Color filter to “Black”, And then scrape First 100 shoes data you get. The data should include “Brand” of the shoes , Short Shoe description, price of the shoe\n"
   ]
  },
  {
   "cell_type": "code",
   "execution_count": 19,
   "metadata": {},
   "outputs": [],
   "source": [
    "# Connecting to the webdriver\n",
    "driver = webdriver.Chrome('chromedriver.exe')"
   ]
  },
  {
   "cell_type": "code",
   "execution_count": 20,
   "metadata": {},
   "outputs": [],
   "source": [
    "# Getting the webpage of mentioned url\n",
    "url = \"https://www.myntra.com/shoes\"\n",
    "driver.get(url)"
   ]
  },
  {
   "cell_type": "code",
   "execution_count": 21,
   "metadata": {},
   "outputs": [],
   "source": [
    "# Searching for filter element\n",
    "search_filter = driver.find_element_by_xpath(\"//span[@class='header-title']\")\n",
    "search_filter.click()"
   ]
  },
  {
   "cell_type": "code",
   "execution_count": 222,
   "metadata": {},
   "outputs": [],
   "source": [
    "# Setting Price filter to Rs.6649 to Rs.13099\n",
    "price_filter = driver.find_element_by_xpath(\"/html/body/div[2]/div/div[1]/main/div[3]/div[1]/section/div/div[5]/ul/li[2]/label\")\n",
    "price_filter.click()"
   ]
  },
  {
   "cell_type": "code",
   "execution_count": 223,
   "metadata": {},
   "outputs": [],
   "source": [
    "# Setting Color filter to “Black”\n",
    "color_filter = driver.find_element_by_xpath(\"/html/body/div[2]/div/div[1]/main/div[3]/div[1]/section/div/div[6]/ul/li[1]/label\")\n",
    "color_filter.click()"
   ]
  },
  {
   "cell_type": "code",
   "execution_count": 233,
   "metadata": {},
   "outputs": [
    {
     "data": {
      "text/plain": [
       "['https://www.myntra.com/shoes?f=Color%3ABlack_36454f&plaEnabled=false&rf=Price%3A5342.0_10495.0_5342.0%20TO%2010495.0%2C5387.0_10525.0_5387.0%20TO%2010525.0',\n",
       " 'https://www.myntra.com/shoes?f=Color%3ABlack_36454f&plaEnabled=false&rf=Price%3A5342.0_10495.0_5342.0%20TO%2010495.0%2C5387.0_10525.0_5387.0%20TO%2010525.0&p=2',\n",
       " 'https://www.myntra.com/shoes?f=Color%3ABlack_36454f&plaEnabled=false&rf=Price%3A5342.0_10495.0_5342.0%20TO%2010495.0%2C5387.0_10525.0_5387.0%20TO%2010525.0&p=3',\n",
       " 'https://www.myntra.com/shoes?f=Color%3ABlack_36454f&plaEnabled=false&rf=Price%3A5342.0_10495.0_5342.0%20TO%2010495.0%2C5387.0_10525.0_5387.0%20TO%2010525.0&p=4',\n",
       " 'https://www.myntra.com/shoes?f=Color%3ABlack_36454f&plaEnabled=false&rf=Price%3A5342.0_10495.0_5342.0%20TO%2010495.0%2C5387.0_10525.0_5387.0%20TO%2010525.0&p=5',\n",
       " 'https://www.myntra.com/shoes?f=Color%3ABlack_36454f&plaEnabled=false&rf=Price%3A5342.0_10495.0_5342.0%20TO%2010495.0%2C5387.0_10525.0_5387.0%20TO%2010525.0&p=6',\n",
       " 'https://www.myntra.com/shoes?f=Color%3ABlack_36454f&plaEnabled=false&rf=Price%3A5342.0_10495.0_5342.0%20TO%2010495.0%2C5387.0_10525.0_5387.0%20TO%2010525.0&p=7',\n",
       " 'https://www.myntra.com/shoes?f=Color%3ABlack_36454f&plaEnabled=false&rf=Price%3A5342.0_10495.0_5342.0%20TO%2010495.0%2C5387.0_10525.0_5387.0%20TO%2010525.0&p=8',\n",
       " 'https://www.myntra.com/shoes?f=Color%3ABlack_36454f&plaEnabled=false&rf=Price%3A5342.0_10495.0_5342.0%20TO%2010495.0%2C5387.0_10525.0_5387.0%20TO%2010525.0&p=9',\n",
       " 'https://www.myntra.com/shoes?f=Color%3ABlack_36454f&plaEnabled=false&rf=Price%3A5342.0_10495.0_5342.0%20TO%2010495.0%2C5387.0_10525.0_5387.0%20TO%2010525.0&p=10']"
      ]
     },
     "execution_count": 233,
     "metadata": {},
     "output_type": "execute_result"
    }
   ],
   "source": [
    "#Fetching all the URLs\n",
    "url = driver.find_elements_by_xpath(\"//li[@class='pagination-active'or @class='pagination-number']/a\")\n",
    "\n",
    "urls = []  #empty list\n",
    "for i in url:\n",
    "    urls.append(i.get_attribute('href'))\n",
    "urls"
   ]
  },
  {
   "cell_type": "code",
   "execution_count": 234,
   "metadata": {},
   "outputs": [
    {
     "data": {
      "text/plain": [
       "['Nike',\n",
       " 'UNDER ARMOUR',\n",
       " 'UNDER ARMOUR',\n",
       " 'Puma',\n",
       " 'UNDER ARMOUR',\n",
       " 'Hush Puppies',\n",
       " 'Nike',\n",
       " 'ADIDAS',\n",
       " 'ADIDAS',\n",
       " 'UNDER ARMOUR',\n",
       " 'Puma',\n",
       " 'UNDER ARMOUR',\n",
       " 'UNDER ARMOUR',\n",
       " 'UNDER ARMOUR',\n",
       " 'UNDER ARMOUR',\n",
       " 'UNDER ARMOUR',\n",
       " 'UNDER ARMOUR',\n",
       " 'Puma',\n",
       " 'UNDER ARMOUR',\n",
       " 'Hush Puppies',\n",
       " 'Skechers',\n",
       " 'Puma',\n",
       " 'Hush Puppies',\n",
       " 'Geox',\n",
       " 'Hush Puppies',\n",
       " 'FORCLAZ By Decathlon',\n",
       " 'Quechua By Decathlon',\n",
       " 'PUMA Hoops',\n",
       " 'Puma',\n",
       " 'Geox',\n",
       " 'Puma',\n",
       " 'UNDER ARMOUR',\n",
       " 'Bugatti',\n",
       " 'Hush Puppies',\n",
       " 'UNDER ARMOUR',\n",
       " 'Quechua By Decathlon',\n",
       " 'Hush Puppies',\n",
       " 'Hush Puppies',\n",
       " 'Geox',\n",
       " 'Puma',\n",
       " 'Nike',\n",
       " 'PUMA Hoops',\n",
       " 'Puma',\n",
       " 'Puma',\n",
       " 'Nike',\n",
       " 'Puma',\n",
       " 'Geox',\n",
       " 'UNDER ARMOUR',\n",
       " 'Hush Puppies',\n",
       " 'Xtep',\n",
       " 'Hush Puppies',\n",
       " 'DAVINCHI',\n",
       " 'Xtep',\n",
       " 'Lacoste',\n",
       " 'Jack & Jones',\n",
       " 'Hush Puppies',\n",
       " 'RARE RABBIT',\n",
       " 'UNDER ARMOUR',\n",
       " 'Ruosh',\n",
       " 'FORCLAZ By Decathlon',\n",
       " 'TARMAK By Decathlon',\n",
       " 'PUMA Motorsport',\n",
       " 'Ruosh',\n",
       " 'Puma',\n",
       " 'UNDER ARMOUR',\n",
       " 'RARE RABBIT',\n",
       " 'one8 Select BY VIRAT KOHLI',\n",
       " 'Geox',\n",
       " 'Geox',\n",
       " 'Kalenji By Decathlon',\n",
       " 'J.FONTINI',\n",
       " 'Kenneth Cole',\n",
       " 'Cole Haan',\n",
       " 'Geox',\n",
       " 'J.FONTINI',\n",
       " 'Geox',\n",
       " 'Bugatti',\n",
       " 'Hush Puppies',\n",
       " 'Hush Puppies',\n",
       " 'Heel & Buckle London',\n",
       " 'Xtep',\n",
       " 'Geox',\n",
       " 'Alberto Torresi',\n",
       " 'PUMA Motorsport',\n",
       " 'Puma',\n",
       " 'Ruosh',\n",
       " 'J.FONTINI',\n",
       " 'Geox',\n",
       " 'J.FONTINI',\n",
       " 'Bugatti',\n",
       " 'KIPRUN By Decathlon',\n",
       " 'Metro',\n",
       " 'Kenneth Cole',\n",
       " 'Geox',\n",
       " 'ASICS',\n",
       " 'Clarks',\n",
       " 'Quechua By Decathlon',\n",
       " 'UNDER ARMOUR',\n",
       " 'UNDER ARMOUR',\n",
       " 'Ruosh']"
      ]
     },
     "execution_count": 234,
     "metadata": {},
     "output_type": "execute_result"
    }
   ],
   "source": [
    "# Scraping data for first 100 shoes\n",
    "\n",
    "# Scraping data for brand of the shoes\n",
    "shoes_brand= []  #empty list\n",
    "for i in urls:\n",
    "    driver.get(i)\n",
    "    brand = driver.find_elements_by_xpath(\"//h3[@class='product-brand']\")\n",
    "    for i in brand:\n",
    "        shoes_brand.append(i.text)\n",
    "shoes_brand =shoes_brand[:100]\n",
    "shoes_brand"
   ]
  },
  {
   "cell_type": "code",
   "execution_count": 235,
   "metadata": {},
   "outputs": [
    {
     "data": {
      "text/plain": [
       "100"
      ]
     },
     "execution_count": 235,
     "metadata": {},
     "output_type": "execute_result"
    }
   ],
   "source": [
    "len(shoes_brand)"
   ]
  },
  {
   "cell_type": "code",
   "execution_count": 236,
   "metadata": {},
   "outputs": [
    {
     "data": {
      "text/plain": [
       "['Men ZOOM SPAN 3 Running Shoes',\n",
       " 'Men Charged Bandit 6 Running',\n",
       " 'Men HOVR Sonic STRT Tech Shoes',\n",
       " 'Axelion Block Running Shoes',\n",
       " 'Men Charged Vantage Running',\n",
       " 'Men Solid Leather Formal Oxfords',\n",
       " 'Men Printed Slip-On Sneakers',\n",
       " 'Men Crater Remixa Sneakers',\n",
       " 'Women Response SR Running',\n",
       " 'Women SUPERNOVA Running Shoes',\n",
       " 'Unisex Project Rock Recruit',\n",
       " 'Men Cell Fraction Fade Running',\n",
       " 'Men Charged Pursuit 2 SE Shoes',\n",
       " 'Men Perforated Slip On Sneaker',\n",
       " 'Men Charged Assert 8 Marble',\n",
       " 'Men Charged Pursuit 2 SE',\n",
       " 'Women Charged Vantage ClrShft',\n",
       " 'Men Equalizer 4.0 Trail',\n",
       " 'Men Charged Commit 3 Training',\n",
       " 'GS SC 3Zero IV Basketball',\n",
       " 'Women Deviate Nitro Running',\n",
       " 'Men Charged Rogue 2.5 RFLCT',\n",
       " 'Men Formal Derbys',\n",
       " 'Men SOFTRIDE Rift Shoes',\n",
       " 'Men Leather Slip-On Sneakers',\n",
       " 'Men Solid Leather Formal Slip-Ons',\n",
       " 'TREKKING 100 Boots',\n",
       " 'Men Textured Leather Loafers',\n",
       " 'Unisex Clyde Basketball Shoes',\n",
       " 'Women Waterproof Hiking Shoes',\n",
       " 'Men Leader VT Running Shoes',\n",
       " 'Women BETTER FOAM Adore Shoes',\n",
       " 'Men Perforations Leather Brogues',\n",
       " 'Men Leather Formal Derbys',\n",
       " 'Men Victory Sneakers',\n",
       " 'Women UltraRide Running Shoes',\n",
       " 'Men Perforated Mule Sneakers',\n",
       " 'Men Leather Slip-On Sneakers',\n",
       " 'Women Liquify Rebel Running',\n",
       " 'Men Trekking Shoes',\n",
       " 'Men Leather Formal Brogues',\n",
       " 'Men Colourblocked Driving Shoes',\n",
       " 'Men Perforations Brogues',\n",
       " 'Women Eternity Nitro Running',\n",
       " 'Unisex Clyde Basketball Shoes',\n",
       " \"Men BlazerLow '77 Sneakers\",\n",
       " 'Unisex Future Rider Sneakers',\n",
       " 'Women AIR MAX VIVA Sneakers',\n",
       " 'Men Running Shoes',\n",
       " 'Men Leather Formal Slip-Ons',\n",
       " 'Women Running Shoes',\n",
       " 'Men Driving Shoes Casual Shoes',\n",
       " 'Men Leather Formal Oxfords',\n",
       " 'Men Textured Leather Loafers',\n",
       " 'Men Woven Design Slip-On Sneakers',\n",
       " 'Men Leather Flat Boots',\n",
       " 'Men Solid Leather Formal Slip-Ons',\n",
       " 'Women Charged Impulse Shft',\n",
       " 'Men Hiking Shoes',\n",
       " 'Men Basketball Shoes',\n",
       " 'Men Solid Leather Formal Oxfords',\n",
       " 'Unisex Sneakers',\n",
       " 'Men Perforations Leather Brogues',\n",
       " 'Men Formal Leather Brogues',\n",
       " 'Men Phade Running Shoes',\n",
       " 'Men Driving Shoes',\n",
       " 'Men Solid Sneakers',\n",
       " 'Men Textured Leather Handcrafted Sole Wingman Formal Slip-Ons',\n",
       " 'Men Solid Loafers',\n",
       " 'Men Perforations Brogues',\n",
       " 'Men Wingtip Oxford Sneakers',\n",
       " 'Men Solid Leather Formal Brogues',\n",
       " 'Men Leather Formal Derbys',\n",
       " 'Men Sneakers',\n",
       " 'Men Colourblocked Leather Derbys',\n",
       " 'Men Leather Formal Derbys',\n",
       " 'Men Leather Semiformal Driving',\n",
       " 'Men Textured Leather Driving Shoes',\n",
       " 'Men Leather Derbys',\n",
       " 'Women Leather Stilettos',\n",
       " 'Men Solid Leather Formal Slip-Ons',\n",
       " 'AIR MEGA Energy Ring Shoes',\n",
       " 'Men Leather Formal Slip Ons',\n",
       " 'Men Sneakers',\n",
       " 'Unisex Ferrari Sneakers',\n",
       " 'Women Velocity Nitro Running',\n",
       " 'Men Textured Derbys',\n",
       " 'Men Solid Leather Formal Derbys',\n",
       " 'Men Leather Formal Brogues',\n",
       " 'Men Leather Formal Slip-Ons',\n",
       " 'Men Solid Formal Loafers',\n",
       " 'Men Textured Leather Formal Loafers',\n",
       " 'Women Running Shoes',\n",
       " 'Men Leather Boots',\n",
       " 'Men Solid Leather Formal Oxfords',\n",
       " 'Basketweave Block Heels',\n",
       " 'Men Textured Leather Formal Derbys',\n",
       " 'Women Running Shoes',\n",
       " 'Men Solid Leather Formal Derbys',\n",
       " 'Waterproof Walking Shoes']"
      ]
     },
     "execution_count": 236,
     "metadata": {},
     "output_type": "execute_result"
    }
   ],
   "source": [
    "# Scraping data for short description of shoes\n",
    "shoes_desc= []  #empty list\n",
    "for i in urls:\n",
    "    driver.get(i)\n",
    "    description = driver.find_elements_by_xpath(\"//h4[@class='product-product']\")\n",
    "    for i in description:\n",
    "        shoes_desc.append(i.text)\n",
    "shoes_desc =shoes_desc[:100]\n",
    "shoes_desc"
   ]
  },
  {
   "cell_type": "code",
   "execution_count": 237,
   "metadata": {},
   "outputs": [
    {
     "data": {
      "text/plain": [
       "100"
      ]
     },
     "execution_count": 237,
     "metadata": {},
     "output_type": "execute_result"
    }
   ],
   "source": [
    "len(shoes_desc)"
   ]
  },
  {
   "cell_type": "code",
   "execution_count": 241,
   "metadata": {},
   "outputs": [
    {
     "data": {
      "text/plain": [
       "['Rs. 5396Rs. 7195',\n",
       " 'Rs. 8999',\n",
       " 'Rs. 9999',\n",
       " 'Rs. 5999',\n",
       " 'Rs. 7999',\n",
       " 'Rs. 5399Rs. 5999',\n",
       " 'Rs. 9899Rs. 10999',\n",
       " 'Rs. 5495',\n",
       " 'Rs. 6079Rs. 7599',\n",
       " 'Rs. 6999Rs. 9999',\n",
       " 'Rs. 9999',\n",
       " 'Rs. 6999',\n",
       " 'Rs. 6999',\n",
       " 'Rs. 8099Rs. 8999',\n",
       " 'Rs. 6999',\n",
       " 'Rs. 6999',\n",
       " 'Rs. 7999',\n",
       " 'Rs. 6499',\n",
       " 'Rs. 7999',\n",
       " 'Rs. 7499',\n",
       " 'Rs. 9749Rs. 14999',\n",
       " 'Rs. 7999',\n",
       " 'Rs. 8999Rs. 9999',\n",
       " 'Rs. 6499',\n",
       " 'Rs. 6299Rs. 6999',\n",
       " 'Rs. 6299Rs. 8999',\n",
       " 'Rs. 6999',\n",
       " 'Rs. 6990',\n",
       " 'Rs. 8999',\n",
       " 'Rs. 5499',\n",
       " 'Rs. 5999',\n",
       " 'Rs. 5499',\n",
       " 'Rs. 6999',\n",
       " 'Rs. 9999',\n",
       " 'Rs. 5999',\n",
       " 'Rs. 6299Rs. 8999',\n",
       " 'Rs. 5599Rs. 6999',\n",
       " 'Rs. 6999Rs. 9999',\n",
       " 'Rs. 6299Rs. 8999',\n",
       " 'Rs. 9999',\n",
       " 'Rs. 5399Rs. 5999',\n",
       " 'Rs. 6299Rs. 8999',\n",
       " 'Rs. 5995',\n",
       " 'Rs. 8449Rs. 12999',\n",
       " 'Rs. 7149Rs. 10999',\n",
       " 'Rs. 7195',\n",
       " 'Rs. 6999',\n",
       " 'Rs. 8121Rs. 12495',\n",
       " 'Rs. 6499',\n",
       " 'Rs. 8099Rs. 8999',\n",
       " 'Rs. 6499',\n",
       " 'Rs. 7999',\n",
       " 'Rs. 8099Rs. 8999',\n",
       " 'Rs. 5399Rs. 5999',\n",
       " 'Rs. 5699',\n",
       " 'Rs. 5990',\n",
       " 'Rs. 5399Rs. 5999',\n",
       " 'Rs. 5950Rs. 8500',\n",
       " 'Rs. 5999',\n",
       " 'Rs. 7499',\n",
       " 'Rs. 8099Rs. 8999',\n",
       " 'Rs. 5639Rs. 5999',\n",
       " 'Rs. 5499',\n",
       " 'Rs. 8094Rs. 13490',\n",
       " 'Rs. 5849Rs. 8999',\n",
       " 'Rs. 6299Rs. 8999',\n",
       " 'Rs. 7490',\n",
       " 'Rs. 6499',\n",
       " 'Rs. 7199Rs. 7999',\n",
       " 'Rs. 5399Rs. 5999',\n",
       " 'Rs. 8990',\n",
       " 'Rs. 10399Rs. 12999',\n",
       " 'Rs. 5663Rs. 8990',\n",
       " 'Rs. 9899Rs. 10999',\n",
       " 'Rs. 9999',\n",
       " 'Rs. 8099Rs. 8999',\n",
       " 'Rs. 6990',\n",
       " 'Rs. 6399Rs. 7999',\n",
       " 'Rs. 10490',\n",
       " 'Rs. 5599Rs. 7999',\n",
       " 'Rs. 5592Rs. 6990',\n",
       " 'Rs. 8999Rs. 9999',\n",
       " 'Rs. 5599Rs. 6999',\n",
       " 'Rs. 5995',\n",
       " 'Rs. 9999',\n",
       " 'Rs. 5599Rs. 7999',\n",
       " 'Rs. 6999',\n",
       " 'Rs. 7149Rs. 10999',\n",
       " 'Rs. 6990',\n",
       " 'Rs. 6990',\n",
       " 'Rs. 9449Rs. 10499',\n",
       " 'Rs. 6490',\n",
       " 'Rs. 7999',\n",
       " 'Rs. 7006Rs. 7149',\n",
       " 'Rs. 5990',\n",
       " 'Rs. 8999',\n",
       " 'Rs. 5803Rs. 8290',\n",
       " 'Rs. 6299Rs. 6999',\n",
       " 'Rs. 5599Rs. 7999',\n",
       " 'Rs. 6209Rs. 8999']"
      ]
     },
     "execution_count": 241,
     "metadata": {},
     "output_type": "execute_result"
    }
   ],
   "source": [
    "# Scraping data for price of the shoes\n",
    "shoes_price= []  #empty list\n",
    "for i in urls:\n",
    "    driver.get(i)\n",
    "    price = driver.find_elements_by_xpath(\"//div[@class='product-price']/span[1]\")\n",
    "    for i in price:\n",
    "        shoes_price.append(i.text)\n",
    "shoes_price =shoes_price[:100]\n",
    "shoes_price"
   ]
  },
  {
   "cell_type": "code",
   "execution_count": 243,
   "metadata": {},
   "outputs": [
    {
     "data": {
      "text/plain": [
       "100"
      ]
     },
     "execution_count": 243,
     "metadata": {},
     "output_type": "execute_result"
    }
   ],
   "source": [
    "len(shoes_price)"
   ]
  },
  {
   "cell_type": "code",
   "execution_count": 244,
   "metadata": {},
   "outputs": [
    {
     "data": {
      "text/html": [
       "<div>\n",
       "<style scoped>\n",
       "    .dataframe tbody tr th:only-of-type {\n",
       "        vertical-align: middle;\n",
       "    }\n",
       "\n",
       "    .dataframe tbody tr th {\n",
       "        vertical-align: top;\n",
       "    }\n",
       "\n",
       "    .dataframe thead th {\n",
       "        text-align: right;\n",
       "    }\n",
       "</style>\n",
       "<table border=\"1\" class=\"dataframe\">\n",
       "  <thead>\n",
       "    <tr style=\"text-align: right;\">\n",
       "      <th></th>\n",
       "      <th>Brand</th>\n",
       "      <th>Short Description</th>\n",
       "      <th>Price</th>\n",
       "    </tr>\n",
       "  </thead>\n",
       "  <tbody>\n",
       "    <tr>\n",
       "      <th>0</th>\n",
       "      <td>Nike</td>\n",
       "      <td>Men ZOOM SPAN 3 Running Shoes</td>\n",
       "      <td>Rs. 5396Rs. 7195</td>\n",
       "    </tr>\n",
       "    <tr>\n",
       "      <th>1</th>\n",
       "      <td>UNDER ARMOUR</td>\n",
       "      <td>Men Charged Bandit 6 Running</td>\n",
       "      <td>Rs. 8999</td>\n",
       "    </tr>\n",
       "    <tr>\n",
       "      <th>2</th>\n",
       "      <td>UNDER ARMOUR</td>\n",
       "      <td>Men HOVR Sonic STRT Tech Shoes</td>\n",
       "      <td>Rs. 9999</td>\n",
       "    </tr>\n",
       "    <tr>\n",
       "      <th>3</th>\n",
       "      <td>Puma</td>\n",
       "      <td>Axelion Block Running Shoes</td>\n",
       "      <td>Rs. 5999</td>\n",
       "    </tr>\n",
       "    <tr>\n",
       "      <th>4</th>\n",
       "      <td>UNDER ARMOUR</td>\n",
       "      <td>Men Charged Vantage Running</td>\n",
       "      <td>Rs. 7999</td>\n",
       "    </tr>\n",
       "    <tr>\n",
       "      <th>...</th>\n",
       "      <td>...</td>\n",
       "      <td>...</td>\n",
       "      <td>...</td>\n",
       "    </tr>\n",
       "    <tr>\n",
       "      <th>95</th>\n",
       "      <td>Clarks</td>\n",
       "      <td>Basketweave Block Heels</td>\n",
       "      <td>Rs. 8999</td>\n",
       "    </tr>\n",
       "    <tr>\n",
       "      <th>96</th>\n",
       "      <td>Quechua By Decathlon</td>\n",
       "      <td>Men Textured Leather Formal Derbys</td>\n",
       "      <td>Rs. 5803Rs. 8290</td>\n",
       "    </tr>\n",
       "    <tr>\n",
       "      <th>97</th>\n",
       "      <td>UNDER ARMOUR</td>\n",
       "      <td>Women Running Shoes</td>\n",
       "      <td>Rs. 6299Rs. 6999</td>\n",
       "    </tr>\n",
       "    <tr>\n",
       "      <th>98</th>\n",
       "      <td>UNDER ARMOUR</td>\n",
       "      <td>Men Solid Leather Formal Derbys</td>\n",
       "      <td>Rs. 5599Rs. 7999</td>\n",
       "    </tr>\n",
       "    <tr>\n",
       "      <th>99</th>\n",
       "      <td>Ruosh</td>\n",
       "      <td>Waterproof Walking Shoes</td>\n",
       "      <td>Rs. 6209Rs. 8999</td>\n",
       "    </tr>\n",
       "  </tbody>\n",
       "</table>\n",
       "<p>100 rows × 3 columns</p>\n",
       "</div>"
      ],
      "text/plain": [
       "                   Brand                   Short Description             Price\n",
       "0                   Nike       Men ZOOM SPAN 3 Running Shoes  Rs. 5396Rs. 7195\n",
       "1           UNDER ARMOUR        Men Charged Bandit 6 Running          Rs. 8999\n",
       "2           UNDER ARMOUR      Men HOVR Sonic STRT Tech Shoes          Rs. 9999\n",
       "3                   Puma         Axelion Block Running Shoes          Rs. 5999\n",
       "4           UNDER ARMOUR         Men Charged Vantage Running          Rs. 7999\n",
       "..                   ...                                 ...               ...\n",
       "95                Clarks             Basketweave Block Heels          Rs. 8999\n",
       "96  Quechua By Decathlon  Men Textured Leather Formal Derbys  Rs. 5803Rs. 8290\n",
       "97          UNDER ARMOUR                 Women Running Shoes  Rs. 6299Rs. 6999\n",
       "98          UNDER ARMOUR     Men Solid Leather Formal Derbys  Rs. 5599Rs. 7999\n",
       "99                 Ruosh            Waterproof Walking Shoes  Rs. 6209Rs. 8999\n",
       "\n",
       "[100 rows x 3 columns]"
      ]
     },
     "execution_count": 244,
     "metadata": {},
     "output_type": "execute_result"
    }
   ],
   "source": [
    "# Creating DataFrame for the scraped data\n",
    "shoes = pd.DataFrame({})\n",
    "shoes[\"Brand\"] = shoes_brand\n",
    "shoes[\"Short Description\"] = shoes_desc\n",
    "shoes[\"Price\"] = shoes_price\n",
    "shoes"
   ]
  },
  {
   "cell_type": "markdown",
   "metadata": {},
   "source": [
    "### Q10: Go to webpage https://www.amazon.in/ \n",
    "**Scrape first 10 laptops data. You have to scrape**\n",
    "\n",
    "**1. title**\n",
    "\n",
    "**2. Ratings**\n",
    "\n",
    "**3. Price**"
   ]
  },
  {
   "cell_type": "code",
   "execution_count": 82,
   "metadata": {},
   "outputs": [],
   "source": [
    "# Connecting to the webdriver\n",
    "driver = webdriver.Chrome('chromedriver.exe')"
   ]
  },
  {
   "cell_type": "code",
   "execution_count": 83,
   "metadata": {},
   "outputs": [],
   "source": [
    "# Getting the webpage of mentioned url\n",
    "url = \" https://www.amazon.in/\"\n",
    "driver.get(url)"
   ]
  },
  {
   "cell_type": "code",
   "execution_count": 84,
   "metadata": {},
   "outputs": [
    {
     "data": {
      "text/plain": [
       "<selenium.webdriver.remote.webelement.WebElement (session=\"c7e99ce30280e93e321a7d549fa84876\", element=\"027c91a4-6333-4cf1-a27c-2970b589f2a1\")>"
      ]
     },
     "execution_count": 84,
     "metadata": {},
     "output_type": "execute_result"
    }
   ],
   "source": [
    "# Searching webelement for laptops\n",
    "search_laptops = driver.find_element_by_xpath(\"/html/body/div[1]/header/div/div[1]/div[2]/div/form/div[2]/div[1]/input\")\n",
    "search_laptops"
   ]
  },
  {
   "cell_type": "code",
   "execution_count": 85,
   "metadata": {},
   "outputs": [],
   "source": [
    "# Entering “Laptop” in the search field\n",
    "search_laptops.send_keys(\"Laptop\")"
   ]
  },
  {
   "cell_type": "code",
   "execution_count": 86,
   "metadata": {},
   "outputs": [],
   "source": [
    "# Clicking on the search button\n",
    "search_btn = driver.find_element_by_xpath(\"/html/body/div[1]/header/div/div[1]/div[2]/div/form/div[3]/div/span/input\")\n",
    "search_btn.click()"
   ]
  },
  {
   "cell_type": "code",
   "execution_count": 87,
   "metadata": {},
   "outputs": [
    {
     "data": {
      "text/plain": [
       "<selenium.webdriver.remote.webelement.WebElement (session=\"c7e99ce30280e93e321a7d549fa84876\", element=\"c02aecd3-45f1-4642-bae2-969df0935193\")>"
      ]
     },
     "execution_count": 87,
     "metadata": {},
     "output_type": "execute_result"
    }
   ],
   "source": [
    "# Setting CPU Type filter to “Intel Core i7” and “Intel Core i9” \n",
    "cpu_filter = driver.find_element_by_xpath(\"//span[@class='a-size-base a-color-base a-text-bold']\")\n",
    "cpu_filter"
   ]
  },
  {
   "cell_type": "code",
   "execution_count": 89,
   "metadata": {},
   "outputs": [],
   "source": [
    "# Setting CPU Type filter to \"Intel Core i7\"\n",
    "intel_i7 = driver.find_element_by_xpath(\"/html/body/div[1]/div[2]/div[1]/div/div[2]/div/div[3]/span/div[1]/span/div/div/div[6]/ul[4]/li[26]/span/a/span\")\n",
    "intel_i7.click()"
   ]
  },
  {
   "cell_type": "code",
   "execution_count": 90,
   "metadata": {},
   "outputs": [],
   "source": [
    "# Setting CPU Type filter to \"Intel Core i9\"\n",
    "intel_i9 = driver.find_element_by_xpath(\"/html/body/div[1]/div[2]/div[1]/div/div[2]/div/div[3]/span/div[1]/span/div/div/div[6]/ul[4]/li[28]/span/a/span\")\n",
    "intel_i9.click()"
   ]
  },
  {
   "cell_type": "code",
   "execution_count": 91,
   "metadata": {},
   "outputs": [
    {
     "data": {
      "text/plain": [
       "['MSI GF65 Thin, Intel i7-10750H, 15.6\" FHD (39.6 cm) IPS-Level 144Hz Panel Laptop (16GB/512GB NVMe SSD/Windows 10 Home/Nvidia GTX1660 Ti 6GB GDDR6/Black/1.86Kg), 10SDR-1280IN',\n",
       " 'ASUS TUF Dash F15 (2021), 15.6\" (39.62 cms) FHD 144Hz, Intel Core i7-11370H 11th Gen, RTX 3050 Ti 4GB Graphics, Gaming Laptop (16GB/1TB SSD/Office 2019/Windows 10/Eclipse Gray/2 kg), FX516PE-HN088TS',\n",
       " 'Mi Notebook Horizon Edition 14 Intel Core i7-10510U 10th Gen 14-inch (35.56 cms) Thin and Light Laptop(8GB/512GB SSD/Windows 10/Nvidia MX350 2GB Graphics/Grey/1.35Kg), XMA1904-AF+Webcam',\n",
       " 'HP Pavilion (2021) Thin & Light 11th Gen Core i7 Laptop, 16 GB RAM, 1TB SSD, Iris Xe Graphics, 14\" (35.56cms) FHD Screen, Windows 10, MS Office, Backlit Keyboard (14-dv0058TU)',\n",
       " 'MSI GF65 Thin, Intel i7-10750H, 15.6\" FHD (39.6 cm) IPS-Level 144Hz Panel Laptop (16GB/512GB NVMe SSD/Windows 10 Home/Nvidia GTX1660 Ti 6GB GDDR6/Black/1.86Kg), 10SDR-1280IN',\n",
       " 'ASUS TUF Gaming F15 (2020), 15.6-inch (39.62 cms) FHD 144Hz, Intel Core i7-10870H 10th Gen, NVIDIA GeForce GTX 1650 4GB Graphics, Gaming Laptop(8GB/512GB SSDWindows 10/Gray/2.3 Kg), FX566LH-HN255T',\n",
       " 'Life Digital Laptop 15.6-inch (39.62 cms) (Intel Core i7, 4GB RAM, 256GB SSD, Windows 10), ZED AIR CX7',\n",
       " 'MSI GF75 Thin, Intel i7-10750H, 17.3\" (43.9 cm) FHD IPS-Level 144Hz Panel Laptop (8GB/512GB NVMe SSD/Windows 10 Home/Nvidia GTX1650 4GB GDDR6/Black/2.2Kg), 10SCXR-654IN',\n",
       " 'Lenovo Legion 5 10th Gen Intel Core i7-10750H 15.6\" (39.63cm) FHD IPS Gaming Laptop (16GB/512GB SSD/Windows 10/NVIDIA GTX 1650 4GB/120Hz Refresh Display/Phantom Black/2.3Kg), 82AU00PNIN',\n",
       " 'Lenovo IdeaPad Flex 5 11th Gen Intel Core i7 14\"(35.56cm) FHD IPS 2-in-1 Touchscreen Laptop(16GB/512GB SSD/Windows 10/MS Office/Lenovo Digital Pen/Fingerprint Reader/Graphite Grey/1.5Kg), 82HS0092IN']"
      ]
     },
     "execution_count": 91,
     "metadata": {},
     "output_type": "execute_result"
    }
   ],
   "source": [
    "# Scraping data for laptop titles\n",
    "titles = driver.find_elements_by_xpath(\"//h2[@class='a-size-mini a-spacing-none a-color-base s-line-clamp-2']\")\n",
    "\n",
    "laptop_titles = []  #empty list\n",
    "for i in titles:\n",
    "        laptop_titles.append(i.text)\n",
    "laptop_titles =laptop_titles[:10]\n",
    "laptop_titles"
   ]
  },
  {
   "cell_type": "code",
   "execution_count": 92,
   "metadata": {},
   "outputs": [
    {
     "data": {
      "text/plain": [
       "['81,990',\n",
       " '1,07,990',\n",
       " '59,490',\n",
       " '84,990',\n",
       " '81,990',\n",
       " '71,990',\n",
       " '34,990',\n",
       " '74,990',\n",
       " '82,990',\n",
       " '90,490']"
      ]
     },
     "execution_count": 92,
     "metadata": {},
     "output_type": "execute_result"
    }
   ],
   "source": [
    "# Scraping data for laptop price\n",
    "price = driver.find_elements_by_xpath(\"//span[@class='a-price-whole']\")\n",
    "\n",
    "laptop_price= []  #empty list\n",
    "for i in price:\n",
    "    laptop_price.append(i.text)\n",
    "laptop_price =laptop_price[:10]\n",
    "laptop_price"
   ]
  },
  {
   "cell_type": "code",
   "execution_count": 93,
   "metadata": {},
   "outputs": [],
   "source": [
    "#Fetching all the URLs\n",
    "url = driver.find_elements_by_xpath(\"//a[@class='a-link-normal a-text-normal']\")\n",
    "\n",
    "urls = []  #empty list\n",
    "for i in url[0:20]:\n",
    "    urls.append(i.get_attribute('href'))"
   ]
  },
  {
   "cell_type": "code",
   "execution_count": 94,
   "metadata": {},
   "outputs": [
    {
     "data": {
      "text/plain": [
       "['3.7 out of 5',\n",
       " '4.5 out of 5',\n",
       " '4.4 out of 5',\n",
       " '4.3 out of 5',\n",
       " '3.7 out of 5',\n",
       " '4 out of 5',\n",
       " '3.8 out of 5',\n",
       " '4.6 out of 5',\n",
       " '4.4 out of 5',\n",
       " '4 out of 5']"
      ]
     },
     "execution_count": 94,
     "metadata": {},
     "output_type": "execute_result"
    }
   ],
   "source": [
    "# Scraping data for laptop ratings\n",
    "laptop_ratings= []  #empty list\n",
    "for i in urls:\n",
    "    driver.get(i)\n",
    "    try:\n",
    "        driver.find_element_by_xpath(\"//span[@id='acrCustomerReviewText']\").click()\n",
    "        ratings = driver.find_element_by_xpath(\"//span[@class='a-size-medium a-color-base']\")\n",
    "        laptop_ratings.append(ratings.text)\n",
    "    except NoSuchElementException as e :\n",
    "        laptop_ratings.append('-')\n",
    "laptop_ratings =laptop_ratings[:10]\n",
    "laptop_ratings"
   ]
  },
  {
   "cell_type": "code",
   "execution_count": 95,
   "metadata": {},
   "outputs": [
    {
     "name": "stdout",
     "output_type": "stream",
     "text": [
      "10 10 10\n"
     ]
    }
   ],
   "source": [
    "# Checking the length of the scraped data\n",
    "print(len(laptop_titles),len(laptop_ratings),len(laptop_price))"
   ]
  },
  {
   "cell_type": "code",
   "execution_count": 96,
   "metadata": {},
   "outputs": [
    {
     "data": {
      "text/html": [
       "<div>\n",
       "<style scoped>\n",
       "    .dataframe tbody tr th:only-of-type {\n",
       "        vertical-align: middle;\n",
       "    }\n",
       "\n",
       "    .dataframe tbody tr th {\n",
       "        vertical-align: top;\n",
       "    }\n",
       "\n",
       "    .dataframe thead th {\n",
       "        text-align: right;\n",
       "    }\n",
       "</style>\n",
       "<table border=\"1\" class=\"dataframe\">\n",
       "  <thead>\n",
       "    <tr style=\"text-align: right;\">\n",
       "      <th></th>\n",
       "      <th>Laptop Title</th>\n",
       "      <th>Laptop Ratings</th>\n",
       "      <th>Laptop Price</th>\n",
       "    </tr>\n",
       "  </thead>\n",
       "  <tbody>\n",
       "    <tr>\n",
       "      <th>0</th>\n",
       "      <td>MSI GF65 Thin, Intel i7-10750H, 15.6\" FHD (39....</td>\n",
       "      <td>3.7 out of 5</td>\n",
       "      <td>81,990</td>\n",
       "    </tr>\n",
       "    <tr>\n",
       "      <th>1</th>\n",
       "      <td>ASUS TUF Dash F15 (2021), 15.6\" (39.62 cms) FH...</td>\n",
       "      <td>4.5 out of 5</td>\n",
       "      <td>1,07,990</td>\n",
       "    </tr>\n",
       "    <tr>\n",
       "      <th>2</th>\n",
       "      <td>Mi Notebook Horizon Edition 14 Intel Core i7-1...</td>\n",
       "      <td>4.4 out of 5</td>\n",
       "      <td>59,490</td>\n",
       "    </tr>\n",
       "    <tr>\n",
       "      <th>3</th>\n",
       "      <td>HP Pavilion (2021) Thin &amp; Light 11th Gen Core ...</td>\n",
       "      <td>4.3 out of 5</td>\n",
       "      <td>84,990</td>\n",
       "    </tr>\n",
       "    <tr>\n",
       "      <th>4</th>\n",
       "      <td>MSI GF65 Thin, Intel i7-10750H, 15.6\" FHD (39....</td>\n",
       "      <td>3.7 out of 5</td>\n",
       "      <td>81,990</td>\n",
       "    </tr>\n",
       "    <tr>\n",
       "      <th>5</th>\n",
       "      <td>ASUS TUF Gaming F15 (2020), 15.6-inch (39.62 c...</td>\n",
       "      <td>4 out of 5</td>\n",
       "      <td>71,990</td>\n",
       "    </tr>\n",
       "    <tr>\n",
       "      <th>6</th>\n",
       "      <td>Life Digital Laptop 15.6-inch (39.62 cms) (Int...</td>\n",
       "      <td>3.8 out of 5</td>\n",
       "      <td>34,990</td>\n",
       "    </tr>\n",
       "    <tr>\n",
       "      <th>7</th>\n",
       "      <td>MSI GF75 Thin, Intel i7-10750H, 17.3\" (43.9 cm...</td>\n",
       "      <td>4.6 out of 5</td>\n",
       "      <td>74,990</td>\n",
       "    </tr>\n",
       "    <tr>\n",
       "      <th>8</th>\n",
       "      <td>Lenovo Legion 5 10th Gen Intel Core i7-10750H ...</td>\n",
       "      <td>4.4 out of 5</td>\n",
       "      <td>82,990</td>\n",
       "    </tr>\n",
       "    <tr>\n",
       "      <th>9</th>\n",
       "      <td>Lenovo IdeaPad Flex 5 11th Gen Intel Core i7 1...</td>\n",
       "      <td>4 out of 5</td>\n",
       "      <td>90,490</td>\n",
       "    </tr>\n",
       "  </tbody>\n",
       "</table>\n",
       "</div>"
      ],
      "text/plain": [
       "                                        Laptop Title Laptop Ratings  \\\n",
       "0  MSI GF65 Thin, Intel i7-10750H, 15.6\" FHD (39....   3.7 out of 5   \n",
       "1  ASUS TUF Dash F15 (2021), 15.6\" (39.62 cms) FH...   4.5 out of 5   \n",
       "2  Mi Notebook Horizon Edition 14 Intel Core i7-1...   4.4 out of 5   \n",
       "3  HP Pavilion (2021) Thin & Light 11th Gen Core ...   4.3 out of 5   \n",
       "4  MSI GF65 Thin, Intel i7-10750H, 15.6\" FHD (39....   3.7 out of 5   \n",
       "5  ASUS TUF Gaming F15 (2020), 15.6-inch (39.62 c...     4 out of 5   \n",
       "6  Life Digital Laptop 15.6-inch (39.62 cms) (Int...   3.8 out of 5   \n",
       "7  MSI GF75 Thin, Intel i7-10750H, 17.3\" (43.9 cm...   4.6 out of 5   \n",
       "8  Lenovo Legion 5 10th Gen Intel Core i7-10750H ...   4.4 out of 5   \n",
       "9  Lenovo IdeaPad Flex 5 11th Gen Intel Core i7 1...     4 out of 5   \n",
       "\n",
       "  Laptop Price  \n",
       "0       81,990  \n",
       "1     1,07,990  \n",
       "2       59,490  \n",
       "3       84,990  \n",
       "4       81,990  \n",
       "5       71,990  \n",
       "6       34,990  \n",
       "7       74,990  \n",
       "8       82,990  \n",
       "9       90,490  "
      ]
     },
     "execution_count": 96,
     "metadata": {},
     "output_type": "execute_result"
    }
   ],
   "source": [
    "# Creating DataFrame for the scraped data\n",
    "laptops = pd.DataFrame({})\n",
    "laptops[\"Laptop Title\"] = laptop_titles\n",
    "laptops[\"Laptop Ratings\"] = laptop_ratings\n",
    "laptops[\"Laptop Price\"] = laptop_price\n",
    "laptops"
   ]
  },
  {
   "cell_type": "code",
   "execution_count": null,
   "metadata": {},
   "outputs": [],
   "source": []
  }
 ],
 "metadata": {
  "kernelspec": {
   "display_name": "Python 3",
   "language": "python",
   "name": "python3"
  },
  "language_info": {
   "codemirror_mode": {
    "name": "ipython",
    "version": 3
   },
   "file_extension": ".py",
   "mimetype": "text/x-python",
   "name": "python",
   "nbconvert_exporter": "python",
   "pygments_lexer": "ipython3",
   "version": "3.8.5"
  }
 },
 "nbformat": 4,
 "nbformat_minor": 4
}
